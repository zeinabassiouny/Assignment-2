{
 "cells": [
  {
   "cell_type": "markdown",
   "id": "26569d34",
   "metadata": {},
   "source": [
    "# Assignment 2 - Results Data - Covid Data \n",
    "\n",
    "# Name : Zeina Khaled Bassiouny \n",
    "\n",
    "# ID : 900212827"
   ]
  },
  {
   "cell_type": "markdown",
   "id": "72645291",
   "metadata": {},
   "source": [
    "Import all necessary packages and libararies"
   ]
  },
  {
   "cell_type": "code",
   "execution_count": 286,
   "id": "0d26b553",
   "metadata": {},
   "outputs": [],
   "source": [
    "import numpy as np\n",
    "import pandas as pd\n",
    "from scipy.stats import norm,t\n",
    "import scipy\n",
    "import matplotlib.pyplot as plt\n",
    "import statsmodels.api as sm\n",
    "from statsmodels.stats.proportion import proportion_confint\n",
    "from pandas.api.types import CategoricalDtype"
   ]
  },
  {
   "cell_type": "markdown",
   "id": "77010e09",
   "metadata": {},
   "source": [
    "# Part I - Results Data"
   ]
  },
  {
   "cell_type": "markdown",
   "id": "b79c2a44",
   "metadata": {},
   "source": [
    "In this part:\n",
    "- Important observations/conclusions about the dataset.\n",
    "- Compare between the probability of wins for the most three teams that played at home (non-neutral venues)\n",
    "- Compare between the probability that Egypt would lose at home and away from all the matches it lost on only.  \n",
    "- Compare between the probability that the home teams would win in friendly vs official tournaments\n",
    "- Graphs of confidence intervals for the probabilities. "
   ]
  },
  {
   "cell_type": "markdown",
   "id": "700f7fcd",
   "metadata": {},
   "source": [
    "Importing the dataset \"results.csv\" into python"
   ]
  },
  {
   "cell_type": "code",
   "execution_count": 139,
   "id": "74a78ab4",
   "metadata": {},
   "outputs": [],
   "source": [
    "data = pd.read_csv('results.csv')"
   ]
  },
  {
   "cell_type": "code",
   "execution_count": 140,
   "id": "22bb4496",
   "metadata": {},
   "outputs": [
    {
     "data": {
      "text/html": [
       "<div>\n",
       "<style scoped>\n",
       "    .dataframe tbody tr th:only-of-type {\n",
       "        vertical-align: middle;\n",
       "    }\n",
       "\n",
       "    .dataframe tbody tr th {\n",
       "        vertical-align: top;\n",
       "    }\n",
       "\n",
       "    .dataframe thead th {\n",
       "        text-align: right;\n",
       "    }\n",
       "</style>\n",
       "<table border=\"1\" class=\"dataframe\">\n",
       "  <thead>\n",
       "    <tr style=\"text-align: right;\">\n",
       "      <th></th>\n",
       "      <th>date</th>\n",
       "      <th>home_team</th>\n",
       "      <th>away_team</th>\n",
       "      <th>home_score</th>\n",
       "      <th>away_score</th>\n",
       "      <th>tournament</th>\n",
       "      <th>city</th>\n",
       "      <th>country</th>\n",
       "      <th>neutral</th>\n",
       "    </tr>\n",
       "  </thead>\n",
       "  <tbody>\n",
       "    <tr>\n",
       "      <th>0</th>\n",
       "      <td>1872-11-30</td>\n",
       "      <td>Scotland</td>\n",
       "      <td>England</td>\n",
       "      <td>0</td>\n",
       "      <td>0</td>\n",
       "      <td>Friendly</td>\n",
       "      <td>Glasgow</td>\n",
       "      <td>Scotland</td>\n",
       "      <td>False</td>\n",
       "    </tr>\n",
       "    <tr>\n",
       "      <th>1</th>\n",
       "      <td>1873-03-08</td>\n",
       "      <td>England</td>\n",
       "      <td>Scotland</td>\n",
       "      <td>4</td>\n",
       "      <td>2</td>\n",
       "      <td>Friendly</td>\n",
       "      <td>London</td>\n",
       "      <td>England</td>\n",
       "      <td>False</td>\n",
       "    </tr>\n",
       "    <tr>\n",
       "      <th>2</th>\n",
       "      <td>1874-03-07</td>\n",
       "      <td>Scotland</td>\n",
       "      <td>England</td>\n",
       "      <td>2</td>\n",
       "      <td>1</td>\n",
       "      <td>Friendly</td>\n",
       "      <td>Glasgow</td>\n",
       "      <td>Scotland</td>\n",
       "      <td>False</td>\n",
       "    </tr>\n",
       "    <tr>\n",
       "      <th>3</th>\n",
       "      <td>1875-03-06</td>\n",
       "      <td>England</td>\n",
       "      <td>Scotland</td>\n",
       "      <td>2</td>\n",
       "      <td>2</td>\n",
       "      <td>Friendly</td>\n",
       "      <td>London</td>\n",
       "      <td>England</td>\n",
       "      <td>False</td>\n",
       "    </tr>\n",
       "    <tr>\n",
       "      <th>4</th>\n",
       "      <td>1876-03-04</td>\n",
       "      <td>Scotland</td>\n",
       "      <td>England</td>\n",
       "      <td>3</td>\n",
       "      <td>0</td>\n",
       "      <td>Friendly</td>\n",
       "      <td>Glasgow</td>\n",
       "      <td>Scotland</td>\n",
       "      <td>False</td>\n",
       "    </tr>\n",
       "  </tbody>\n",
       "</table>\n",
       "</div>"
      ],
      "text/plain": [
       "         date home_team away_team  home_score  away_score tournament     city  \\\n",
       "0  1872-11-30  Scotland   England           0           0   Friendly  Glasgow   \n",
       "1  1873-03-08   England  Scotland           4           2   Friendly   London   \n",
       "2  1874-03-07  Scotland   England           2           1   Friendly  Glasgow   \n",
       "3  1875-03-06   England  Scotland           2           2   Friendly   London   \n",
       "4  1876-03-04  Scotland   England           3           0   Friendly  Glasgow   \n",
       "\n",
       "    country  neutral  \n",
       "0  Scotland    False  \n",
       "1   England    False  \n",
       "2  Scotland    False  \n",
       "3   England    False  \n",
       "4  Scotland    False  "
      ]
     },
     "execution_count": 140,
     "metadata": {},
     "output_type": "execute_result"
    }
   ],
   "source": [
    "data.head()"
   ]
  },
  {
   "cell_type": "markdown",
   "id": "d9b042ad",
   "metadata": {},
   "source": [
    "Here it is shown that the country that hosted the most number of matches is The United States"
   ]
  },
  {
   "cell_type": "code",
   "execution_count": 141,
   "id": "1bbe889f",
   "metadata": {},
   "outputs": [
    {
     "data": {
      "text/plain": [
       "United States    1237\n",
       "Name: country, dtype: int64"
      ]
     },
     "execution_count": 141,
     "metadata": {},
     "output_type": "execute_result"
    }
   ],
   "source": [
    "data['country'].value_counts().head(1)"
   ]
  },
  {
   "cell_type": "markdown",
   "id": "fab1d35c",
   "metadata": {},
   "source": [
    "<font color='purple'>Comparing the probabilities of wins for the most three teams that played at home (non-neutral venues)</font>"
   ]
  },
  {
   "cell_type": "markdown",
   "id": "6d658f49",
   "metadata": {},
   "source": [
    "I will create a new column that shows whether a home team has won, lost, or drew in a match by finding the difference between the scores of home teams and scores of away teams"
   ]
  },
  {
   "cell_type": "code",
   "execution_count": 142,
   "id": "d2406dd7",
   "metadata": {},
   "outputs": [],
   "source": [
    "diff_scores_home = data['home_score']-data['away_score']"
   ]
  },
  {
   "cell_type": "markdown",
   "id": "0f2a78fd",
   "metadata": {},
   "source": [
    "If difference > 0, home team won "
   ]
  },
  {
   "cell_type": "markdown",
   "id": "83454ffb",
   "metadata": {},
   "source": [
    "If difference < 0, home team lost"
   ]
  },
  {
   "cell_type": "markdown",
   "id": "c5968f57",
   "metadata": {},
   "source": [
    "If difference = 0, home and away team tied"
   ]
  },
  {
   "cell_type": "code",
   "execution_count": 143,
   "id": "d28c1d3f",
   "metadata": {},
   "outputs": [],
   "source": [
    "conditions = [(diff_scores_home>0),(diff_scores_home<0),(diff_scores_home==0)]\n",
    "labels = ['Win','Lose','Draw']"
   ]
  },
  {
   "cell_type": "markdown",
   "id": "d2aae406",
   "metadata": {},
   "source": [
    "Here I assigned the conditions with their corresponding labels"
   ]
  },
  {
   "cell_type": "code",
   "execution_count": 144,
   "id": "0c512170",
   "metadata": {},
   "outputs": [],
   "source": [
    "data['result'] = np.select(conditions,labels)"
   ]
  },
  {
   "cell_type": "markdown",
   "id": "9021c39b",
   "metadata": {},
   "source": [
    "It is shown below that a new column called \"result\" has been added"
   ]
  },
  {
   "cell_type": "code",
   "execution_count": 145,
   "id": "a6c774a1",
   "metadata": {},
   "outputs": [
    {
     "data": {
      "text/html": [
       "<div>\n",
       "<style scoped>\n",
       "    .dataframe tbody tr th:only-of-type {\n",
       "        vertical-align: middle;\n",
       "    }\n",
       "\n",
       "    .dataframe tbody tr th {\n",
       "        vertical-align: top;\n",
       "    }\n",
       "\n",
       "    .dataframe thead th {\n",
       "        text-align: right;\n",
       "    }\n",
       "</style>\n",
       "<table border=\"1\" class=\"dataframe\">\n",
       "  <thead>\n",
       "    <tr style=\"text-align: right;\">\n",
       "      <th></th>\n",
       "      <th>date</th>\n",
       "      <th>home_team</th>\n",
       "      <th>away_team</th>\n",
       "      <th>home_score</th>\n",
       "      <th>away_score</th>\n",
       "      <th>tournament</th>\n",
       "      <th>city</th>\n",
       "      <th>country</th>\n",
       "      <th>neutral</th>\n",
       "      <th>result</th>\n",
       "    </tr>\n",
       "  </thead>\n",
       "  <tbody>\n",
       "    <tr>\n",
       "      <th>0</th>\n",
       "      <td>1872-11-30</td>\n",
       "      <td>Scotland</td>\n",
       "      <td>England</td>\n",
       "      <td>0</td>\n",
       "      <td>0</td>\n",
       "      <td>Friendly</td>\n",
       "      <td>Glasgow</td>\n",
       "      <td>Scotland</td>\n",
       "      <td>False</td>\n",
       "      <td>Draw</td>\n",
       "    </tr>\n",
       "    <tr>\n",
       "      <th>1</th>\n",
       "      <td>1873-03-08</td>\n",
       "      <td>England</td>\n",
       "      <td>Scotland</td>\n",
       "      <td>4</td>\n",
       "      <td>2</td>\n",
       "      <td>Friendly</td>\n",
       "      <td>London</td>\n",
       "      <td>England</td>\n",
       "      <td>False</td>\n",
       "      <td>Win</td>\n",
       "    </tr>\n",
       "    <tr>\n",
       "      <th>2</th>\n",
       "      <td>1874-03-07</td>\n",
       "      <td>Scotland</td>\n",
       "      <td>England</td>\n",
       "      <td>2</td>\n",
       "      <td>1</td>\n",
       "      <td>Friendly</td>\n",
       "      <td>Glasgow</td>\n",
       "      <td>Scotland</td>\n",
       "      <td>False</td>\n",
       "      <td>Win</td>\n",
       "    </tr>\n",
       "    <tr>\n",
       "      <th>3</th>\n",
       "      <td>1875-03-06</td>\n",
       "      <td>England</td>\n",
       "      <td>Scotland</td>\n",
       "      <td>2</td>\n",
       "      <td>2</td>\n",
       "      <td>Friendly</td>\n",
       "      <td>London</td>\n",
       "      <td>England</td>\n",
       "      <td>False</td>\n",
       "      <td>Draw</td>\n",
       "    </tr>\n",
       "    <tr>\n",
       "      <th>4</th>\n",
       "      <td>1876-03-04</td>\n",
       "      <td>Scotland</td>\n",
       "      <td>England</td>\n",
       "      <td>3</td>\n",
       "      <td>0</td>\n",
       "      <td>Friendly</td>\n",
       "      <td>Glasgow</td>\n",
       "      <td>Scotland</td>\n",
       "      <td>False</td>\n",
       "      <td>Win</td>\n",
       "    </tr>\n",
       "  </tbody>\n",
       "</table>\n",
       "</div>"
      ],
      "text/plain": [
       "         date home_team away_team  home_score  away_score tournament     city  \\\n",
       "0  1872-11-30  Scotland   England           0           0   Friendly  Glasgow   \n",
       "1  1873-03-08   England  Scotland           4           2   Friendly   London   \n",
       "2  1874-03-07  Scotland   England           2           1   Friendly  Glasgow   \n",
       "3  1875-03-06   England  Scotland           2           2   Friendly   London   \n",
       "4  1876-03-04  Scotland   England           3           0   Friendly  Glasgow   \n",
       "\n",
       "    country  neutral result  \n",
       "0  Scotland    False   Draw  \n",
       "1   England    False    Win  \n",
       "2  Scotland    False    Win  \n",
       "3   England    False   Draw  \n",
       "4  Scotland    False    Win  "
      ]
     },
     "execution_count": 145,
     "metadata": {},
     "output_type": "execute_result"
    }
   ],
   "source": [
    "data.head()"
   ]
  },
  {
   "cell_type": "markdown",
   "id": "05aeb6f9",
   "metadata": {},
   "source": [
    "To find the estimated probabilities for a home team winning, losing, or drawing when playing at home, I will separate neutral and non-neutral venues, and choose non-neutral venues only."
   ]
  },
  {
   "cell_type": "code",
   "execution_count": 146,
   "id": "bca53ca4",
   "metadata": {},
   "outputs": [],
   "source": [
    "data_non_neutral = data[data['neutral']==False]"
   ]
  },
  {
   "cell_type": "markdown",
   "id": "024d405b",
   "metadata": {},
   "source": [
    "The code below displays the three most repeated home teams observed in the dataset : England, Sweden, & France"
   ]
  },
  {
   "cell_type": "markdown",
   "id": "f65a39b0",
   "metadata": {},
   "source": [
    "I am comparing these three teams because the number of times they showed up in the observations is relatively similar and this leads to a much better, unbiased comparison"
   ]
  },
  {
   "cell_type": "code",
   "execution_count": 147,
   "id": "f5ab1754",
   "metadata": {},
   "outputs": [
    {
     "data": {
      "text/plain": [
       "England    499\n",
       "Sweden     483\n",
       "France     462\n",
       "Name: country, dtype: int64"
      ]
     },
     "execution_count": 147,
     "metadata": {},
     "output_type": "execute_result"
    }
   ],
   "source": [
    "data_non_neutral['country'].value_counts().head(3)"
   ]
  },
  {
   "cell_type": "code",
   "execution_count": 148,
   "id": "a466d6e9",
   "metadata": {},
   "outputs": [],
   "source": [
    "# 1. England"
   ]
  },
  {
   "cell_type": "markdown",
   "id": "b3b10067",
   "metadata": {},
   "source": [
    "Separate England from all the other home teams "
   ]
  },
  {
   "cell_type": "code",
   "execution_count": 149,
   "id": "30b9e7c6",
   "metadata": {},
   "outputs": [],
   "source": [
    "non_neutral_England_home = data_non_neutral[data_non_neutral['country']=='England']"
   ]
  },
  {
   "cell_type": "markdown",
   "id": "8e8f8d44",
   "metadata": {},
   "source": [
    "When making sure variable 'home_team' includes 'England' only, I found other countries. This is a mistake in the dataset"
   ]
  },
  {
   "cell_type": "code",
   "execution_count": 150,
   "id": "f1c5c450",
   "metadata": {},
   "outputs": [
    {
     "data": {
      "text/plain": [
       "England               464\n",
       "Barawa                 11\n",
       "Isle of Wight           9\n",
       "Kernow                  8\n",
       "Yorkshire               5\n",
       "Sweden                  1\n",
       "Parishes of Jersey      1\n",
       "Name: home_team, dtype: int64"
      ]
     },
     "execution_count": 150,
     "metadata": {},
     "output_type": "execute_result"
    }
   ],
   "source": [
    "non_neutral_England_home['home_team'].value_counts()"
   ]
  },
  {
   "cell_type": "markdown",
   "id": "5b489b7d",
   "metadata": {},
   "source": [
    "To fix the problem, I exculded from variable 'home_team' 'England' only"
   ]
  },
  {
   "cell_type": "code",
   "execution_count": 151,
   "id": "b9085a97",
   "metadata": {},
   "outputs": [],
   "source": [
    "non_neutral_England_home = non_neutral_England_home[non_neutral_England_home['home_team']=='England']"
   ]
  },
  {
   "cell_type": "code",
   "execution_count": 152,
   "id": "15c02f05",
   "metadata": {},
   "outputs": [
    {
     "data": {
      "text/plain": [
       "England    464\n",
       "Name: home_team, dtype: int64"
      ]
     },
     "execution_count": 152,
     "metadata": {},
     "output_type": "execute_result"
    }
   ],
   "source": [
    "non_neutral_England_home['home_team'].value_counts()"
   ]
  },
  {
   "cell_type": "code",
   "execution_count": 153,
   "id": "11ff2a97",
   "metadata": {},
   "outputs": [
    {
     "data": {
      "text/html": [
       "<div>\n",
       "<style scoped>\n",
       "    .dataframe tbody tr th:only-of-type {\n",
       "        vertical-align: middle;\n",
       "    }\n",
       "\n",
       "    .dataframe tbody tr th {\n",
       "        vertical-align: top;\n",
       "    }\n",
       "\n",
       "    .dataframe thead th {\n",
       "        text-align: right;\n",
       "    }\n",
       "</style>\n",
       "<table border=\"1\" class=\"dataframe\">\n",
       "  <thead>\n",
       "    <tr style=\"text-align: right;\">\n",
       "      <th></th>\n",
       "      <th>date</th>\n",
       "      <th>home_team</th>\n",
       "      <th>away_team</th>\n",
       "      <th>home_score</th>\n",
       "      <th>away_score</th>\n",
       "      <th>tournament</th>\n",
       "      <th>city</th>\n",
       "      <th>country</th>\n",
       "      <th>neutral</th>\n",
       "      <th>result</th>\n",
       "    </tr>\n",
       "  </thead>\n",
       "  <tbody>\n",
       "    <tr>\n",
       "      <th>1</th>\n",
       "      <td>1873-03-08</td>\n",
       "      <td>England</td>\n",
       "      <td>Scotland</td>\n",
       "      <td>4</td>\n",
       "      <td>2</td>\n",
       "      <td>Friendly</td>\n",
       "      <td>London</td>\n",
       "      <td>England</td>\n",
       "      <td>False</td>\n",
       "      <td>Win</td>\n",
       "    </tr>\n",
       "    <tr>\n",
       "      <th>3</th>\n",
       "      <td>1875-03-06</td>\n",
       "      <td>England</td>\n",
       "      <td>Scotland</td>\n",
       "      <td>2</td>\n",
       "      <td>2</td>\n",
       "      <td>Friendly</td>\n",
       "      <td>London</td>\n",
       "      <td>England</td>\n",
       "      <td>False</td>\n",
       "      <td>Draw</td>\n",
       "    </tr>\n",
       "    <tr>\n",
       "      <th>6</th>\n",
       "      <td>1877-03-03</td>\n",
       "      <td>England</td>\n",
       "      <td>Scotland</td>\n",
       "      <td>1</td>\n",
       "      <td>3</td>\n",
       "      <td>Friendly</td>\n",
       "      <td>London</td>\n",
       "      <td>England</td>\n",
       "      <td>False</td>\n",
       "      <td>Lose</td>\n",
       "    </tr>\n",
       "    <tr>\n",
       "      <th>10</th>\n",
       "      <td>1879-01-18</td>\n",
       "      <td>England</td>\n",
       "      <td>Wales</td>\n",
       "      <td>2</td>\n",
       "      <td>1</td>\n",
       "      <td>Friendly</td>\n",
       "      <td>London</td>\n",
       "      <td>England</td>\n",
       "      <td>False</td>\n",
       "      <td>Win</td>\n",
       "    </tr>\n",
       "    <tr>\n",
       "      <th>11</th>\n",
       "      <td>1879-04-05</td>\n",
       "      <td>England</td>\n",
       "      <td>Scotland</td>\n",
       "      <td>5</td>\n",
       "      <td>4</td>\n",
       "      <td>Friendly</td>\n",
       "      <td>London</td>\n",
       "      <td>England</td>\n",
       "      <td>False</td>\n",
       "      <td>Win</td>\n",
       "    </tr>\n",
       "  </tbody>\n",
       "</table>\n",
       "</div>"
      ],
      "text/plain": [
       "          date home_team away_team  home_score  away_score tournament    city  \\\n",
       "1   1873-03-08   England  Scotland           4           2   Friendly  London   \n",
       "3   1875-03-06   England  Scotland           2           2   Friendly  London   \n",
       "6   1877-03-03   England  Scotland           1           3   Friendly  London   \n",
       "10  1879-01-18   England     Wales           2           1   Friendly  London   \n",
       "11  1879-04-05   England  Scotland           5           4   Friendly  London   \n",
       "\n",
       "    country  neutral result  \n",
       "1   England    False    Win  \n",
       "3   England    False   Draw  \n",
       "6   England    False   Lose  \n",
       "10  England    False    Win  \n",
       "11  England    False    Win  "
      ]
     },
     "execution_count": 153,
     "metadata": {},
     "output_type": "execute_result"
    }
   ],
   "source": [
    "non_neutral_England_home.head()"
   ]
  },
  {
   "cell_type": "markdown",
   "id": "4daecc98",
   "metadata": {},
   "source": [
    "Here is the estimated probability that England would win when playing at home. Even though this probability is valid, we are not 100% sure this event will occur with probability 0.646552. A confidence interval that has the possible probabilities around 0.646552 is needed to establish more certainty. "
   ]
  },
  {
   "cell_type": "code",
   "execution_count": 154,
   "id": "11782966",
   "metadata": {},
   "outputs": [
    {
     "data": {
      "text/plain": [
       "Win    0.646552\n",
       "Name: result, dtype: float64"
      ]
     },
     "execution_count": 154,
     "metadata": {},
     "output_type": "execute_result"
    }
   ],
   "source": [
    "non_neutral_England_home['result'].value_counts(normalize = True).head(1)"
   ]
  },
  {
   "cell_type": "markdown",
   "id": "046b4eb4",
   "metadata": {},
   "source": [
    "Here is the number of times England won, lost, or drew when playing at home "
   ]
  },
  {
   "cell_type": "code",
   "execution_count": 155,
   "id": "605fa28d",
   "metadata": {},
   "outputs": [
    {
     "data": {
      "text/plain": [
       "Win     300\n",
       "Draw    101\n",
       "Lose     63\n",
       "Name: result, dtype: int64"
      ]
     },
     "execution_count": 155,
     "metadata": {},
     "output_type": "execute_result"
    }
   ],
   "source": [
    "Eng = non_neutral_England_home['result'].value_counts()\n",
    "Eng"
   ]
  },
  {
   "cell_type": "markdown",
   "id": "b86fee77",
   "metadata": {},
   "source": [
    "Below is the 95% confidence interval for the probability of England winning when playing at home"
   ]
  },
  {
   "cell_type": "markdown",
   "id": "8f6dcd29",
   "metadata": {},
   "source": [
    "We can see that the estimated probability above (0.646552) lies between the interval below ((0.6030552883111224, 0.6900481599647397))"
   ]
  },
  {
   "cell_type": "code",
   "execution_count": 156,
   "id": "fa48d8db",
   "metadata": {},
   "outputs": [
    {
     "data": {
      "text/plain": [
       "(0.6030552883111224, 0.6900481599647397)"
      ]
     },
     "execution_count": 156,
     "metadata": {},
     "output_type": "execute_result"
    }
   ],
   "source": [
    "Eng_win_prob = proportion_confint(count = Eng[0], nobs = Eng.sum(), alpha=(1-0.95), method = 'normal')\n",
    "Eng_win_prob"
   ]
  },
  {
   "cell_type": "markdown",
   "id": "e8716062",
   "metadata": {},
   "source": [
    "I repeated the same steps for the other home teams"
   ]
  },
  {
   "cell_type": "code",
   "execution_count": 157,
   "id": "f1ec5956",
   "metadata": {},
   "outputs": [],
   "source": [
    "# 2. Sweden"
   ]
  },
  {
   "cell_type": "code",
   "execution_count": 158,
   "id": "b18ed50f",
   "metadata": {},
   "outputs": [],
   "source": [
    "non_neutral_Sweden_home = data_non_neutral[data_non_neutral['country']=='Sweden']"
   ]
  },
  {
   "cell_type": "code",
   "execution_count": 159,
   "id": "4549c8a5",
   "metadata": {},
   "outputs": [
    {
     "data": {
      "text/plain": [
       "Sweden           460\n",
       "Gotland            9\n",
       "Sápmi              9\n",
       "Åland Islands      5\n",
       "Name: home_team, dtype: int64"
      ]
     },
     "execution_count": 159,
     "metadata": {},
     "output_type": "execute_result"
    }
   ],
   "source": [
    "non_neutral_Sweden_home['home_team'].value_counts()"
   ]
  },
  {
   "cell_type": "code",
   "execution_count": 160,
   "id": "9161ca08",
   "metadata": {},
   "outputs": [],
   "source": [
    "non_neutral_Sweden_home = non_neutral_Sweden_home[non_neutral_Sweden_home['home_team']=='Sweden']"
   ]
  },
  {
   "cell_type": "code",
   "execution_count": 161,
   "id": "c17c2610",
   "metadata": {},
   "outputs": [
    {
     "data": {
      "text/plain": [
       "Sweden    460\n",
       "Name: home_team, dtype: int64"
      ]
     },
     "execution_count": 161,
     "metadata": {},
     "output_type": "execute_result"
    }
   ],
   "source": [
    "non_neutral_Sweden_home['home_team'].value_counts()"
   ]
  },
  {
   "cell_type": "code",
   "execution_count": 162,
   "id": "38f96bd2",
   "metadata": {},
   "outputs": [
    {
     "data": {
      "text/html": [
       "<div>\n",
       "<style scoped>\n",
       "    .dataframe tbody tr th:only-of-type {\n",
       "        vertical-align: middle;\n",
       "    }\n",
       "\n",
       "    .dataframe tbody tr th {\n",
       "        vertical-align: top;\n",
       "    }\n",
       "\n",
       "    .dataframe thead th {\n",
       "        text-align: right;\n",
       "    }\n",
       "</style>\n",
       "<table border=\"1\" class=\"dataframe\">\n",
       "  <thead>\n",
       "    <tr style=\"text-align: right;\">\n",
       "      <th></th>\n",
       "      <th>date</th>\n",
       "      <th>home_team</th>\n",
       "      <th>away_team</th>\n",
       "      <th>home_score</th>\n",
       "      <th>away_score</th>\n",
       "      <th>tournament</th>\n",
       "      <th>city</th>\n",
       "      <th>country</th>\n",
       "      <th>neutral</th>\n",
       "      <th>result</th>\n",
       "    </tr>\n",
       "  </thead>\n",
       "  <tbody>\n",
       "    <tr>\n",
       "      <th>224</th>\n",
       "      <td>7/12/1908</td>\n",
       "      <td>Sweden</td>\n",
       "      <td>Norway</td>\n",
       "      <td>11</td>\n",
       "      <td>3</td>\n",
       "      <td>Friendly</td>\n",
       "      <td>Gothenburg</td>\n",
       "      <td>Sweden</td>\n",
       "      <td>False</td>\n",
       "      <td>Win</td>\n",
       "    </tr>\n",
       "    <tr>\n",
       "      <th>296</th>\n",
       "      <td>6/18/1911</td>\n",
       "      <td>Sweden</td>\n",
       "      <td>Germany</td>\n",
       "      <td>2</td>\n",
       "      <td>4</td>\n",
       "      <td>Friendly</td>\n",
       "      <td>Solna</td>\n",
       "      <td>Sweden</td>\n",
       "      <td>False</td>\n",
       "      <td>Lose</td>\n",
       "    </tr>\n",
       "    <tr>\n",
       "      <th>298</th>\n",
       "      <td>9/17/1911</td>\n",
       "      <td>Sweden</td>\n",
       "      <td>Norway</td>\n",
       "      <td>4</td>\n",
       "      <td>1</td>\n",
       "      <td>Friendly</td>\n",
       "      <td>Solna</td>\n",
       "      <td>Sweden</td>\n",
       "      <td>False</td>\n",
       "      <td>Win</td>\n",
       "    </tr>\n",
       "    <tr>\n",
       "      <th>328</th>\n",
       "      <td>6/20/1912</td>\n",
       "      <td>Sweden</td>\n",
       "      <td>Hungary</td>\n",
       "      <td>2</td>\n",
       "      <td>2</td>\n",
       "      <td>Friendly</td>\n",
       "      <td>Gothenburg</td>\n",
       "      <td>Sweden</td>\n",
       "      <td>False</td>\n",
       "      <td>Draw</td>\n",
       "    </tr>\n",
       "    <tr>\n",
       "      <th>330</th>\n",
       "      <td>6/27/1912</td>\n",
       "      <td>Sweden</td>\n",
       "      <td>Finland</td>\n",
       "      <td>7</td>\n",
       "      <td>1</td>\n",
       "      <td>Friendly</td>\n",
       "      <td>Solna</td>\n",
       "      <td>Sweden</td>\n",
       "      <td>False</td>\n",
       "      <td>Win</td>\n",
       "    </tr>\n",
       "  </tbody>\n",
       "</table>\n",
       "</div>"
      ],
      "text/plain": [
       "          date home_team away_team  home_score  away_score tournament  \\\n",
       "224  7/12/1908    Sweden    Norway          11           3   Friendly   \n",
       "296  6/18/1911    Sweden   Germany           2           4   Friendly   \n",
       "298  9/17/1911    Sweden    Norway           4           1   Friendly   \n",
       "328  6/20/1912    Sweden   Hungary           2           2   Friendly   \n",
       "330  6/27/1912    Sweden   Finland           7           1   Friendly   \n",
       "\n",
       "           city country  neutral result  \n",
       "224  Gothenburg  Sweden    False    Win  \n",
       "296       Solna  Sweden    False   Lose  \n",
       "298       Solna  Sweden    False    Win  \n",
       "328  Gothenburg  Sweden    False   Draw  \n",
       "330       Solna  Sweden    False    Win  "
      ]
     },
     "execution_count": 162,
     "metadata": {},
     "output_type": "execute_result"
    }
   ],
   "source": [
    "non_neutral_Sweden_home.head()"
   ]
  },
  {
   "cell_type": "code",
   "execution_count": 163,
   "id": "3988eb74",
   "metadata": {},
   "outputs": [
    {
     "data": {
      "text/plain": [
       "Win     0.600000\n",
       "Draw    0.204348\n",
       "Lose    0.195652\n",
       "Name: result, dtype: float64"
      ]
     },
     "execution_count": 163,
     "metadata": {},
     "output_type": "execute_result"
    }
   ],
   "source": [
    "non_neutral_Sweden_home['result'].value_counts(normalize = True)"
   ]
  },
  {
   "cell_type": "code",
   "execution_count": 164,
   "id": "7b2ca360",
   "metadata": {},
   "outputs": [
    {
     "data": {
      "text/plain": [
       "Win     276\n",
       "Draw     94\n",
       "Lose     90\n",
       "Name: result, dtype: int64"
      ]
     },
     "execution_count": 164,
     "metadata": {},
     "output_type": "execute_result"
    }
   ],
   "source": [
    "Swed = non_neutral_Sweden_home['result'].value_counts()\n",
    "Swed"
   ]
  },
  {
   "cell_type": "markdown",
   "id": "5a0cf886",
   "metadata": {},
   "source": [
    "Below is the 95% confidence interval for the probability of Sweden winning when playing at home"
   ]
  },
  {
   "cell_type": "code",
   "execution_count": 165,
   "id": "bf136859",
   "metadata": {},
   "outputs": [
    {
     "data": {
      "text/plain": [
       "(0.5552312677786161, 0.6447687322213839)"
      ]
     },
     "execution_count": 165,
     "metadata": {},
     "output_type": "execute_result"
    }
   ],
   "source": [
    "Swed_win_prob = proportion_confint(count = Swed[0], nobs = Swed.sum(), alpha=(1-0.95), method = 'normal')\n",
    "Swed_win_prob"
   ]
  },
  {
   "cell_type": "code",
   "execution_count": 166,
   "id": "e241a789",
   "metadata": {},
   "outputs": [],
   "source": [
    "# 3. France "
   ]
  },
  {
   "cell_type": "code",
   "execution_count": 167,
   "id": "a7153a14",
   "metadata": {},
   "outputs": [],
   "source": [
    "non_neutral_France_home = data_non_neutral[data_non_neutral['country']=='France']"
   ]
  },
  {
   "cell_type": "code",
   "execution_count": 168,
   "id": "f51d594f",
   "metadata": {},
   "outputs": [
    {
     "data": {
      "text/plain": [
       "France       443\n",
       "Brittany       9\n",
       "Corsica        8\n",
       "Occitania      2\n",
       "Name: home_team, dtype: int64"
      ]
     },
     "execution_count": 168,
     "metadata": {},
     "output_type": "execute_result"
    }
   ],
   "source": [
    "non_neutral_France_home['home_team'].value_counts()"
   ]
  },
  {
   "cell_type": "code",
   "execution_count": 169,
   "id": "579f062f",
   "metadata": {},
   "outputs": [],
   "source": [
    "non_neutral_France_home = non_neutral_France_home[non_neutral_France_home['home_team']=='France']"
   ]
  },
  {
   "cell_type": "code",
   "execution_count": 170,
   "id": "8dcd6745",
   "metadata": {},
   "outputs": [
    {
     "data": {
      "text/plain": [
       "France    443\n",
       "Name: home_team, dtype: int64"
      ]
     },
     "execution_count": 170,
     "metadata": {},
     "output_type": "execute_result"
    }
   ],
   "source": [
    "non_neutral_France_home['home_team'].value_counts()"
   ]
  },
  {
   "cell_type": "code",
   "execution_count": 171,
   "id": "0f312af5",
   "metadata": {},
   "outputs": [
    {
     "data": {
      "text/html": [
       "<div>\n",
       "<style scoped>\n",
       "    .dataframe tbody tr th:only-of-type {\n",
       "        vertical-align: middle;\n",
       "    }\n",
       "\n",
       "    .dataframe tbody tr th {\n",
       "        vertical-align: top;\n",
       "    }\n",
       "\n",
       "    .dataframe thead th {\n",
       "        text-align: right;\n",
       "    }\n",
       "</style>\n",
       "<table border=\"1\" class=\"dataframe\">\n",
       "  <thead>\n",
       "    <tr style=\"text-align: right;\">\n",
       "      <th></th>\n",
       "      <th>date</th>\n",
       "      <th>home_team</th>\n",
       "      <th>away_team</th>\n",
       "      <th>home_score</th>\n",
       "      <th>away_score</th>\n",
       "      <th>tournament</th>\n",
       "      <th>city</th>\n",
       "      <th>country</th>\n",
       "      <th>neutral</th>\n",
       "      <th>result</th>\n",
       "    </tr>\n",
       "  </thead>\n",
       "  <tbody>\n",
       "    <tr>\n",
       "      <th>166</th>\n",
       "      <td>2/12/1905</td>\n",
       "      <td>France</td>\n",
       "      <td>Switzerland</td>\n",
       "      <td>1</td>\n",
       "      <td>0</td>\n",
       "      <td>Friendly</td>\n",
       "      <td>Paris</td>\n",
       "      <td>France</td>\n",
       "      <td>False</td>\n",
       "      <td>Win</td>\n",
       "    </tr>\n",
       "    <tr>\n",
       "      <th>185</th>\n",
       "      <td>4/22/1906</td>\n",
       "      <td>France</td>\n",
       "      <td>Belgium</td>\n",
       "      <td>0</td>\n",
       "      <td>5</td>\n",
       "      <td>Friendly</td>\n",
       "      <td>Saint-Cloud</td>\n",
       "      <td>France</td>\n",
       "      <td>False</td>\n",
       "      <td>Lose</td>\n",
       "    </tr>\n",
       "    <tr>\n",
       "      <th>215</th>\n",
       "      <td>4/12/1908</td>\n",
       "      <td>France</td>\n",
       "      <td>Belgium</td>\n",
       "      <td>1</td>\n",
       "      <td>2</td>\n",
       "      <td>Friendly</td>\n",
       "      <td>Colombes</td>\n",
       "      <td>France</td>\n",
       "      <td>False</td>\n",
       "      <td>Lose</td>\n",
       "    </tr>\n",
       "    <tr>\n",
       "      <th>257</th>\n",
       "      <td>4/3/1910</td>\n",
       "      <td>France</td>\n",
       "      <td>Belgium</td>\n",
       "      <td>0</td>\n",
       "      <td>4</td>\n",
       "      <td>Friendly</td>\n",
       "      <td>Gentilly</td>\n",
       "      <td>France</td>\n",
       "      <td>False</td>\n",
       "      <td>Lose</td>\n",
       "    </tr>\n",
       "    <tr>\n",
       "      <th>277</th>\n",
       "      <td>1/1/1911</td>\n",
       "      <td>France</td>\n",
       "      <td>Hungary</td>\n",
       "      <td>0</td>\n",
       "      <td>3</td>\n",
       "      <td>Friendly</td>\n",
       "      <td>Maisons-Alfort</td>\n",
       "      <td>France</td>\n",
       "      <td>False</td>\n",
       "      <td>Lose</td>\n",
       "    </tr>\n",
       "  </tbody>\n",
       "</table>\n",
       "</div>"
      ],
      "text/plain": [
       "          date home_team    away_team  home_score  away_score tournament  \\\n",
       "166  2/12/1905    France  Switzerland           1           0   Friendly   \n",
       "185  4/22/1906    France      Belgium           0           5   Friendly   \n",
       "215  4/12/1908    France      Belgium           1           2   Friendly   \n",
       "257   4/3/1910    France      Belgium           0           4   Friendly   \n",
       "277   1/1/1911    France      Hungary           0           3   Friendly   \n",
       "\n",
       "               city country  neutral result  \n",
       "166           Paris  France    False    Win  \n",
       "185     Saint-Cloud  France    False   Lose  \n",
       "215        Colombes  France    False   Lose  \n",
       "257        Gentilly  France    False   Lose  \n",
       "277  Maisons-Alfort  France    False   Lose  "
      ]
     },
     "execution_count": 171,
     "metadata": {},
     "output_type": "execute_result"
    }
   ],
   "source": [
    "non_neutral_France_home.head()"
   ]
  },
  {
   "cell_type": "code",
   "execution_count": 172,
   "id": "3dc48f76",
   "metadata": {},
   "outputs": [
    {
     "data": {
      "text/plain": [
       "Win     0.586907\n",
       "Lose    0.212190\n",
       "Draw    0.200903\n",
       "Name: result, dtype: float64"
      ]
     },
     "execution_count": 172,
     "metadata": {},
     "output_type": "execute_result"
    }
   ],
   "source": [
    "non_neutral_France_home['result'].value_counts(normalize = True)"
   ]
  },
  {
   "cell_type": "code",
   "execution_count": 173,
   "id": "8ca14cf6",
   "metadata": {},
   "outputs": [
    {
     "data": {
      "text/plain": [
       "Win     260\n",
       "Lose     94\n",
       "Draw     89\n",
       "Name: result, dtype: int64"
      ]
     },
     "execution_count": 173,
     "metadata": {},
     "output_type": "execute_result"
    }
   ],
   "source": [
    "Fran = non_neutral_France_home['result'].value_counts()\n",
    "Fran"
   ]
  },
  {
   "cell_type": "markdown",
   "id": "7b8efb75",
   "metadata": {},
   "source": [
    "Below is the 95% confidence interval for the probability of France winning when playing at home"
   ]
  },
  {
   "cell_type": "code",
   "execution_count": 174,
   "id": "5b9d6978",
   "metadata": {},
   "outputs": [
    {
     "data": {
      "text/plain": [
       "(0.541055825404375, 0.6327590730154896)"
      ]
     },
     "execution_count": 174,
     "metadata": {},
     "output_type": "execute_result"
    }
   ],
   "source": [
    "Fran_win_prob = proportion_confint(count = 260, nobs = Fran.sum(), alpha=(1-0.95), method = 'normal')\n",
    "Fran_win_prob "
   ]
  },
  {
   "cell_type": "markdown",
   "id": "fbe53634",
   "metadata": {},
   "source": [
    "Here is the process to display a graph that shows the three different 95% confidence intervals for the three different teams: England, Sweden, & France"
   ]
  },
  {
   "cell_type": "code",
   "execution_count": 175,
   "id": "a47ad5b8",
   "metadata": {},
   "outputs": [],
   "source": [
    "ci_home_win = {}"
   ]
  },
  {
   "cell_type": "code",
   "execution_count": 176,
   "id": "7ebd24d7",
   "metadata": {},
   "outputs": [],
   "source": [
    "ci_home_win['country'] = ['England','Sweden','France']"
   ]
  },
  {
   "cell_type": "code",
   "execution_count": 177,
   "id": "3f5b26df",
   "metadata": {},
   "outputs": [],
   "source": [
    "ci_home_win['lb'] = [Eng_win_prob[0],Swed_win_prob[0],Fran_win_prob[0]]"
   ]
  },
  {
   "cell_type": "code",
   "execution_count": 178,
   "id": "2dbb772a",
   "metadata": {},
   "outputs": [],
   "source": [
    "ci_home_win['ub'] = [Eng_win_prob[1],Swed_win_prob[1],Fran_win_prob[1]]"
   ]
  },
  {
   "cell_type": "markdown",
   "id": "6f2680b6",
   "metadata": {},
   "source": [
    "Create a table that has the lower bounds (lb) and upper bounds (ub) for the probabilities of winning for England, Sweden, & France"
   ]
  },
  {
   "cell_type": "code",
   "execution_count": 179,
   "id": "8c0ca293",
   "metadata": {},
   "outputs": [
    {
     "data": {
      "text/html": [
       "<div>\n",
       "<style scoped>\n",
       "    .dataframe tbody tr th:only-of-type {\n",
       "        vertical-align: middle;\n",
       "    }\n",
       "\n",
       "    .dataframe tbody tr th {\n",
       "        vertical-align: top;\n",
       "    }\n",
       "\n",
       "    .dataframe thead th {\n",
       "        text-align: right;\n",
       "    }\n",
       "</style>\n",
       "<table border=\"1\" class=\"dataframe\">\n",
       "  <thead>\n",
       "    <tr style=\"text-align: right;\">\n",
       "      <th></th>\n",
       "      <th>country</th>\n",
       "      <th>lb</th>\n",
       "      <th>ub</th>\n",
       "    </tr>\n",
       "  </thead>\n",
       "  <tbody>\n",
       "    <tr>\n",
       "      <th>0</th>\n",
       "      <td>England</td>\n",
       "      <td>0.603055</td>\n",
       "      <td>0.690048</td>\n",
       "    </tr>\n",
       "    <tr>\n",
       "      <th>1</th>\n",
       "      <td>Sweden</td>\n",
       "      <td>0.555231</td>\n",
       "      <td>0.644769</td>\n",
       "    </tr>\n",
       "    <tr>\n",
       "      <th>2</th>\n",
       "      <td>France</td>\n",
       "      <td>0.541056</td>\n",
       "      <td>0.632759</td>\n",
       "    </tr>\n",
       "  </tbody>\n",
       "</table>\n",
       "</div>"
      ],
      "text/plain": [
       "   country        lb        ub\n",
       "0  England  0.603055  0.690048\n",
       "1   Sweden  0.555231  0.644769\n",
       "2   France  0.541056  0.632759"
      ]
     },
     "execution_count": 179,
     "metadata": {},
     "output_type": "execute_result"
    }
   ],
   "source": [
    "ci_home_win = pd.DataFrame(ci_home_win)\n",
    "ci_home_win"
   ]
  },
  {
   "cell_type": "markdown",
   "id": "863fecc2",
   "metadata": {},
   "source": [
    "The graph below shows that the 95% confidence intervals for the three countries are relatively similar in length and that England is the most probable to win at home. However, the three intervals intersect in many parts; for instance, Sweden and England intersect from around 0.60 till 0.65. "
   ]
  },
  {
   "cell_type": "markdown",
   "id": "b92387ff",
   "metadata": {},
   "source": [
    "The 95% confidence intervals of Sweden and France include almost the same probability ranges when comparing them with England's 95% confidence interval"
   ]
  },
  {
   "cell_type": "code",
   "execution_count": 180,
   "id": "9dc66ad3",
   "metadata": {},
   "outputs": [
    {
     "data": {
      "image/png": "[encoded data removed]",
      "text/plain": [
       "<Figure size 432x288 with 1 Axes>"
      ]
     },
     "metadata": {
      "needs_background": "light"
     },
     "output_type": "display_data"
    }
   ],
   "source": [
    "for lb,ub,y in zip (ci_home_win['lb'],ci_home_win['ub'], range(len(ci_home_win))):\n",
    "    plt.plot((lb,ub),(y,y),'ro-')\n",
    "    plt.yticks(range(len(ci_home_win)), list(ci_home_win['country']))"
   ]
  },
  {
   "cell_type": "markdown",
   "id": "9c147f0c",
   "metadata": {},
   "source": [
    "<font color='purple'>Comparing between the probability that Egypt would lose at home and away from all the matches it lost on only</font>"
   ]
  },
  {
   "cell_type": "markdown",
   "id": "0253287d",
   "metadata": {},
   "source": [
    "Separate Egypt from all other countries"
   ]
  },
  {
   "cell_type": "code",
   "execution_count": 181,
   "id": "40ca92d5",
   "metadata": {},
   "outputs": [
    {
     "data": {
      "text/html": [
       "<div>\n",
       "<style scoped>\n",
       "    .dataframe tbody tr th:only-of-type {\n",
       "        vertical-align: middle;\n",
       "    }\n",
       "\n",
       "    .dataframe tbody tr th {\n",
       "        vertical-align: top;\n",
       "    }\n",
       "\n",
       "    .dataframe thead th {\n",
       "        text-align: right;\n",
       "    }\n",
       "</style>\n",
       "<table border=\"1\" class=\"dataframe\">\n",
       "  <thead>\n",
       "    <tr style=\"text-align: right;\">\n",
       "      <th></th>\n",
       "      <th>date</th>\n",
       "      <th>home_team</th>\n",
       "      <th>away_team</th>\n",
       "      <th>home_score</th>\n",
       "      <th>away_score</th>\n",
       "      <th>tournament</th>\n",
       "      <th>city</th>\n",
       "      <th>country</th>\n",
       "      <th>neutral</th>\n",
       "      <th>result</th>\n",
       "    </tr>\n",
       "  </thead>\n",
       "  <tbody>\n",
       "    <tr>\n",
       "      <th>1463</th>\n",
       "      <td>2/19/1932</td>\n",
       "      <td>Egypt</td>\n",
       "      <td>Hungary</td>\n",
       "      <td>0</td>\n",
       "      <td>0</td>\n",
       "      <td>Friendly</td>\n",
       "      <td>Cairo</td>\n",
       "      <td>Egypt</td>\n",
       "      <td>False</td>\n",
       "      <td>Draw</td>\n",
       "    </tr>\n",
       "    <tr>\n",
       "      <th>1661</th>\n",
       "      <td>3/16/1934</td>\n",
       "      <td>Egypt</td>\n",
       "      <td>Israel</td>\n",
       "      <td>7</td>\n",
       "      <td>1</td>\n",
       "      <td>FIFA World Cup qualification</td>\n",
       "      <td>Cairo</td>\n",
       "      <td>Egypt</td>\n",
       "      <td>False</td>\n",
       "      <td>Win</td>\n",
       "    </tr>\n",
       "    <tr>\n",
       "      <th>1895</th>\n",
       "      <td>6/19/1936</td>\n",
       "      <td>Egypt</td>\n",
       "      <td>Greece</td>\n",
       "      <td>3</td>\n",
       "      <td>1</td>\n",
       "      <td>Friendly</td>\n",
       "      <td>Cairo</td>\n",
       "      <td>Egypt</td>\n",
       "      <td>False</td>\n",
       "      <td>Win</td>\n",
       "    </tr>\n",
       "    <tr>\n",
       "      <th>2927</th>\n",
       "      <td>12/24/1948</td>\n",
       "      <td>Egypt</td>\n",
       "      <td>Norway</td>\n",
       "      <td>1</td>\n",
       "      <td>1</td>\n",
       "      <td>Friendly</td>\n",
       "      <td>Cairo</td>\n",
       "      <td>Egypt</td>\n",
       "      <td>False</td>\n",
       "      <td>Draw</td>\n",
       "    </tr>\n",
       "    <tr>\n",
       "      <th>3080</th>\n",
       "      <td>2/17/1950</td>\n",
       "      <td>Egypt</td>\n",
       "      <td>Greece</td>\n",
       "      <td>2</td>\n",
       "      <td>0</td>\n",
       "      <td>Friendly</td>\n",
       "      <td>Cairo</td>\n",
       "      <td>Egypt</td>\n",
       "      <td>False</td>\n",
       "      <td>Win</td>\n",
       "    </tr>\n",
       "    <tr>\n",
       "      <th>...</th>\n",
       "      <td>...</td>\n",
       "      <td>...</td>\n",
       "      <td>...</td>\n",
       "      <td>...</td>\n",
       "      <td>...</td>\n",
       "      <td>...</td>\n",
       "      <td>...</td>\n",
       "      <td>...</td>\n",
       "      <td>...</td>\n",
       "      <td>...</td>\n",
       "    </tr>\n",
       "    <tr>\n",
       "      <th>42165</th>\n",
       "      <td>3/29/2021</td>\n",
       "      <td>Egypt</td>\n",
       "      <td>Comoros</td>\n",
       "      <td>4</td>\n",
       "      <td>0</td>\n",
       "      <td>African Cup of Nations qualification</td>\n",
       "      <td>Cairo</td>\n",
       "      <td>Egypt</td>\n",
       "      <td>False</td>\n",
       "      <td>Win</td>\n",
       "    </tr>\n",
       "    <tr>\n",
       "      <th>42590</th>\n",
       "      <td>9/1/2021</td>\n",
       "      <td>Egypt</td>\n",
       "      <td>Angola</td>\n",
       "      <td>1</td>\n",
       "      <td>0</td>\n",
       "      <td>FIFA World Cup qualification</td>\n",
       "      <td>Cairo</td>\n",
       "      <td>Egypt</td>\n",
       "      <td>False</td>\n",
       "      <td>Win</td>\n",
       "    </tr>\n",
       "    <tr>\n",
       "      <th>42758</th>\n",
       "      <td>9/30/2021</td>\n",
       "      <td>Egypt</td>\n",
       "      <td>Liberia</td>\n",
       "      <td>2</td>\n",
       "      <td>0</td>\n",
       "      <td>Friendly</td>\n",
       "      <td>Alexandria</td>\n",
       "      <td>Egypt</td>\n",
       "      <td>False</td>\n",
       "      <td>Win</td>\n",
       "    </tr>\n",
       "    <tr>\n",
       "      <th>42812</th>\n",
       "      <td>10/8/2021</td>\n",
       "      <td>Egypt</td>\n",
       "      <td>Libya</td>\n",
       "      <td>1</td>\n",
       "      <td>0</td>\n",
       "      <td>FIFA World Cup qualification</td>\n",
       "      <td>Alexandria</td>\n",
       "      <td>Egypt</td>\n",
       "      <td>False</td>\n",
       "      <td>Win</td>\n",
       "    </tr>\n",
       "    <tr>\n",
       "      <th>43040</th>\n",
       "      <td>11/16/2021</td>\n",
       "      <td>Egypt</td>\n",
       "      <td>Gabon</td>\n",
       "      <td>2</td>\n",
       "      <td>1</td>\n",
       "      <td>FIFA World Cup qualification</td>\n",
       "      <td>Alexandria</td>\n",
       "      <td>Egypt</td>\n",
       "      <td>False</td>\n",
       "      <td>Win</td>\n",
       "    </tr>\n",
       "  </tbody>\n",
       "</table>\n",
       "<p>258 rows × 10 columns</p>\n",
       "</div>"
      ],
      "text/plain": [
       "             date home_team away_team  home_score  away_score  \\\n",
       "1463    2/19/1932     Egypt   Hungary           0           0   \n",
       "1661    3/16/1934     Egypt    Israel           7           1   \n",
       "1895    6/19/1936     Egypt    Greece           3           1   \n",
       "2927   12/24/1948     Egypt    Norway           1           1   \n",
       "3080    2/17/1950     Egypt    Greece           2           0   \n",
       "...           ...       ...       ...         ...         ...   \n",
       "42165   3/29/2021     Egypt   Comoros           4           0   \n",
       "42590    9/1/2021     Egypt    Angola           1           0   \n",
       "42758   9/30/2021     Egypt   Liberia           2           0   \n",
       "42812   10/8/2021     Egypt     Libya           1           0   \n",
       "43040  11/16/2021     Egypt     Gabon           2           1   \n",
       "\n",
       "                                 tournament        city country  neutral  \\\n",
       "1463                               Friendly       Cairo   Egypt    False   \n",
       "1661           FIFA World Cup qualification       Cairo   Egypt    False   \n",
       "1895                               Friendly       Cairo   Egypt    False   \n",
       "2927                               Friendly       Cairo   Egypt    False   \n",
       "3080                               Friendly       Cairo   Egypt    False   \n",
       "...                                     ...         ...     ...      ...   \n",
       "42165  African Cup of Nations qualification       Cairo   Egypt    False   \n",
       "42590          FIFA World Cup qualification       Cairo   Egypt    False   \n",
       "42758                              Friendly  Alexandria   Egypt    False   \n",
       "42812          FIFA World Cup qualification  Alexandria   Egypt    False   \n",
       "43040          FIFA World Cup qualification  Alexandria   Egypt    False   \n",
       "\n",
       "      result  \n",
       "1463    Draw  \n",
       "1661     Win  \n",
       "1895     Win  \n",
       "2927    Draw  \n",
       "3080     Win  \n",
       "...      ...  \n",
       "42165    Win  \n",
       "42590    Win  \n",
       "42758    Win  \n",
       "42812    Win  \n",
       "43040    Win  \n",
       "\n",
       "[258 rows x 10 columns]"
      ]
     },
     "execution_count": 181,
     "metadata": {},
     "output_type": "execute_result"
    }
   ],
   "source": [
    "non_neutral_Egy_home = data_non_neutral[data_non_neutral['country']=='Egypt']\n",
    "non_neutral_Egy_home"
   ]
  },
  {
   "cell_type": "code",
   "execution_count": 182,
   "id": "e33faa10",
   "metadata": {},
   "outputs": [
    {
     "data": {
      "text/plain": [
       "Egypt    258\n",
       "Name: home_team, dtype: int64"
      ]
     },
     "execution_count": 182,
     "metadata": {},
     "output_type": "execute_result"
    }
   ],
   "source": [
    "non_neutral_Egy_home['home_team'].value_counts()"
   ]
  },
  {
   "cell_type": "markdown",
   "id": "2fd245f2",
   "metadata": {},
   "source": [
    "Below are all the teams Egypt has played against when it played at home"
   ]
  },
  {
   "cell_type": "code",
   "execution_count": 183,
   "id": "fb6d7eb2",
   "metadata": {},
   "outputs": [
    {
     "data": {
      "text/plain": [
       "array(['Hungary', 'Israel', 'Greece', 'Norway', 'Yugoslavia', 'Italy',\n",
       "       'Bulgaria', 'Portugal', 'Czechoslovakia', 'Austria', 'Brazil',\n",
       "       'Algeria', 'Sudan', 'German DR', 'Libya', 'Tunisia', 'Uganda',\n",
       "       'Zambia', 'Ivory Coast', 'DR Congo', 'Congo', 'Ethiopia', 'Kenya',\n",
       "       'Nigeria', 'Morocco', 'Cameroon', 'Turkey', 'Iraq', 'Zimbabwe',\n",
       "       'Canada', 'Madagascar', 'Mexico', 'England', 'Romania', 'Senegal',\n",
       "       'Mozambique', 'Switzerland', 'Liberia', 'Finland', 'Chile',\n",
       "       'Malawi', 'Denmark', 'South Korea', 'Colombia', 'Chad', 'Mali',\n",
       "       'Poland', 'Angola', 'Kuwait', 'Togo', 'Ghana', 'Tanzania',\n",
       "       'Namibia', 'Belarus', 'Mauritius', 'United Arab Emirates',\n",
       "       'North Korea', 'Estonia', 'Burkina Faso', 'Qatar', 'South Africa',\n",
       "       'Sweden', 'Rwanda', 'Trinidad and Tobago', 'Gabon', 'Belgium',\n",
       "       'Benin', 'Uruguay', 'Burundi', 'Mauritania', 'Botswana',\n",
       "       'Argentina', 'Djibouti', 'Guinea', 'Sierra Leone', 'Australia',\n",
       "       'Niger', 'Central African Republic', 'Eswatini',\n",
       "       'Equatorial Guinea', 'Jordan', 'Comoros'], dtype=object)"
      ]
     },
     "execution_count": 183,
     "metadata": {},
     "output_type": "execute_result"
    }
   ],
   "source": [
    "non_neutral_Egy_home['away_team'].unique()"
   ]
  },
  {
   "cell_type": "markdown",
   "id": "126a959e",
   "metadata": {},
   "source": [
    "I separated the matches that Egypt has lost on when it played at home "
   ]
  },
  {
   "cell_type": "code",
   "execution_count": 184,
   "id": "30a5377c",
   "metadata": {},
   "outputs": [
    {
     "data": {
      "text/html": [
       "<div>\n",
       "<style scoped>\n",
       "    .dataframe tbody tr th:only-of-type {\n",
       "        vertical-align: middle;\n",
       "    }\n",
       "\n",
       "    .dataframe tbody tr th {\n",
       "        vertical-align: top;\n",
       "    }\n",
       "\n",
       "    .dataframe thead th {\n",
       "        text-align: right;\n",
       "    }\n",
       "</style>\n",
       "<table border=\"1\" class=\"dataframe\">\n",
       "  <thead>\n",
       "    <tr style=\"text-align: right;\">\n",
       "      <th></th>\n",
       "      <th>date</th>\n",
       "      <th>home_team</th>\n",
       "      <th>away_team</th>\n",
       "      <th>home_score</th>\n",
       "      <th>away_score</th>\n",
       "      <th>tournament</th>\n",
       "      <th>city</th>\n",
       "      <th>country</th>\n",
       "      <th>neutral</th>\n",
       "      <th>result</th>\n",
       "    </tr>\n",
       "  </thead>\n",
       "  <tbody>\n",
       "    <tr>\n",
       "      <th>3425</th>\n",
       "      <td>1/16/1953</td>\n",
       "      <td>Egypt</td>\n",
       "      <td>Yugoslavia</td>\n",
       "      <td>1</td>\n",
       "      <td>3</td>\n",
       "      <td>Friendly</td>\n",
       "      <td>Cairo</td>\n",
       "      <td>Egypt</td>\n",
       "      <td>False</td>\n",
       "      <td>Lose</td>\n",
       "    </tr>\n",
       "    <tr>\n",
       "      <th>3587</th>\n",
       "      <td>11/13/1953</td>\n",
       "      <td>Egypt</td>\n",
       "      <td>Italy</td>\n",
       "      <td>1</td>\n",
       "      <td>2</td>\n",
       "      <td>FIFA World Cup qualification</td>\n",
       "      <td>Cairo</td>\n",
       "      <td>Egypt</td>\n",
       "      <td>False</td>\n",
       "      <td>Lose</td>\n",
       "    </tr>\n",
       "    <tr>\n",
       "      <th>3605</th>\n",
       "      <td>2/12/1954</td>\n",
       "      <td>Egypt</td>\n",
       "      <td>Hungary</td>\n",
       "      <td>0</td>\n",
       "      <td>3</td>\n",
       "      <td>Friendly</td>\n",
       "      <td>Cairo</td>\n",
       "      <td>Egypt</td>\n",
       "      <td>False</td>\n",
       "      <td>Lose</td>\n",
       "    </tr>\n",
       "    <tr>\n",
       "      <th>3898</th>\n",
       "      <td>12/23/1955</td>\n",
       "      <td>Egypt</td>\n",
       "      <td>Portugal</td>\n",
       "      <td>0</td>\n",
       "      <td>4</td>\n",
       "      <td>Friendly</td>\n",
       "      <td>Cairo</td>\n",
       "      <td>Egypt</td>\n",
       "      <td>False</td>\n",
       "      <td>Lose</td>\n",
       "    </tr>\n",
       "    <tr>\n",
       "      <th>4309</th>\n",
       "      <td>12/13/1957</td>\n",
       "      <td>Egypt</td>\n",
       "      <td>Czechoslovakia</td>\n",
       "      <td>1</td>\n",
       "      <td>2</td>\n",
       "      <td>Friendly</td>\n",
       "      <td>Cairo</td>\n",
       "      <td>Egypt</td>\n",
       "      <td>False</td>\n",
       "      <td>Lose</td>\n",
       "    </tr>\n",
       "  </tbody>\n",
       "</table>\n",
       "</div>"
      ],
      "text/plain": [
       "            date home_team       away_team  home_score  away_score  \\\n",
       "3425   1/16/1953     Egypt      Yugoslavia           1           3   \n",
       "3587  11/13/1953     Egypt           Italy           1           2   \n",
       "3605   2/12/1954     Egypt         Hungary           0           3   \n",
       "3898  12/23/1955     Egypt        Portugal           0           4   \n",
       "4309  12/13/1957     Egypt  Czechoslovakia           1           2   \n",
       "\n",
       "                        tournament   city country  neutral result  \n",
       "3425                      Friendly  Cairo   Egypt    False   Lose  \n",
       "3587  FIFA World Cup qualification  Cairo   Egypt    False   Lose  \n",
       "3605                      Friendly  Cairo   Egypt    False   Lose  \n",
       "3898                      Friendly  Cairo   Egypt    False   Lose  \n",
       "4309                      Friendly  Cairo   Egypt    False   Lose  "
      ]
     },
     "execution_count": 184,
     "metadata": {},
     "output_type": "execute_result"
    }
   ],
   "source": [
    "Egy_lose_home = non_neutral_Egy_home[non_neutral_Egy_home['result']=='Lose']\n",
    "Egy_lose_home.head()"
   ]
  },
  {
   "cell_type": "markdown",
   "id": "8425ad3c",
   "metadata": {},
   "source": [
    "Below is the number of times Egypt lost at home (43 times)"
   ]
  },
  {
   "cell_type": "code",
   "execution_count": 185,
   "id": "8e24f88c",
   "metadata": {},
   "outputs": [
    {
     "data": {
      "text/plain": [
       "Lose    43\n",
       "Name: result, dtype: int64"
      ]
     },
     "execution_count": 185,
     "metadata": {},
     "output_type": "execute_result"
    }
   ],
   "source": [
    "nloses_home = Egy_lose_home['result'].value_counts()\n",
    "nloses_home "
   ]
  },
  {
   "cell_type": "code",
   "execution_count": 186,
   "id": "a18745ed",
   "metadata": {},
   "outputs": [],
   "source": [
    "nloses_home = 43"
   ]
  },
  {
   "cell_type": "markdown",
   "id": "dc91abe6",
   "metadata": {},
   "source": [
    "To find Egypt's loses when playing away, I found the difference in the perspective of the away scores"
   ]
  },
  {
   "cell_type": "code",
   "execution_count": 187,
   "id": "28e4f62f",
   "metadata": {},
   "outputs": [],
   "source": [
    "diff_scores_away = data['away_score']-data['home_score']\n",
    "conditions = [(diff_scores_away>0),(diff_scores_away<0),(diff_scores_away==0)]\n",
    "labels = ['Win_away','Lose_away','Draw_away']\n",
    "data['result'] = np.select(conditions,labels)"
   ]
  },
  {
   "cell_type": "code",
   "execution_count": 188,
   "id": "bb7ecc95",
   "metadata": {},
   "outputs": [
    {
     "data": {
      "text/html": [
       "<div>\n",
       "<style scoped>\n",
       "    .dataframe tbody tr th:only-of-type {\n",
       "        vertical-align: middle;\n",
       "    }\n",
       "\n",
       "    .dataframe tbody tr th {\n",
       "        vertical-align: top;\n",
       "    }\n",
       "\n",
       "    .dataframe thead th {\n",
       "        text-align: right;\n",
       "    }\n",
       "</style>\n",
       "<table border=\"1\" class=\"dataframe\">\n",
       "  <thead>\n",
       "    <tr style=\"text-align: right;\">\n",
       "      <th></th>\n",
       "      <th>date</th>\n",
       "      <th>home_team</th>\n",
       "      <th>away_team</th>\n",
       "      <th>home_score</th>\n",
       "      <th>away_score</th>\n",
       "      <th>tournament</th>\n",
       "      <th>city</th>\n",
       "      <th>country</th>\n",
       "      <th>neutral</th>\n",
       "      <th>result</th>\n",
       "    </tr>\n",
       "  </thead>\n",
       "  <tbody>\n",
       "    <tr>\n",
       "      <th>819</th>\n",
       "      <td>6/22/1924</td>\n",
       "      <td>Austria</td>\n",
       "      <td>Egypt</td>\n",
       "      <td>3</td>\n",
       "      <td>1</td>\n",
       "      <td>Friendly</td>\n",
       "      <td>Vienna</td>\n",
       "      <td>Austria</td>\n",
       "      <td>False</td>\n",
       "      <td>Lose_away</td>\n",
       "    </tr>\n",
       "    <tr>\n",
       "      <th>824</th>\n",
       "      <td>6/29/1924</td>\n",
       "      <td>Sweden</td>\n",
       "      <td>Egypt</td>\n",
       "      <td>5</td>\n",
       "      <td>0</td>\n",
       "      <td>Friendly</td>\n",
       "      <td>Stockholm</td>\n",
       "      <td>Sweden</td>\n",
       "      <td>False</td>\n",
       "      <td>Lose_away</td>\n",
       "    </tr>\n",
       "    <tr>\n",
       "      <th>1144</th>\n",
       "      <td>6/14/1928</td>\n",
       "      <td>Netherlands</td>\n",
       "      <td>Egypt</td>\n",
       "      <td>1</td>\n",
       "      <td>2</td>\n",
       "      <td>Friendly</td>\n",
       "      <td>Rotterdam</td>\n",
       "      <td>Netherlands</td>\n",
       "      <td>False</td>\n",
       "      <td>Win_away</td>\n",
       "    </tr>\n",
       "    <tr>\n",
       "      <th>1146</th>\n",
       "      <td>6/28/1928</td>\n",
       "      <td>Luxembourg</td>\n",
       "      <td>Egypt</td>\n",
       "      <td>1</td>\n",
       "      <td>1</td>\n",
       "      <td>Friendly</td>\n",
       "      <td>Esch-sur-Alzette</td>\n",
       "      <td>Luxembourg</td>\n",
       "      <td>False</td>\n",
       "      <td>Draw_away</td>\n",
       "    </tr>\n",
       "    <tr>\n",
       "      <th>1670</th>\n",
       "      <td>4/6/1934</td>\n",
       "      <td>Israel</td>\n",
       "      <td>Egypt</td>\n",
       "      <td>1</td>\n",
       "      <td>4</td>\n",
       "      <td>FIFA World Cup qualification</td>\n",
       "      <td>Tel Aviv</td>\n",
       "      <td>Palestine</td>\n",
       "      <td>True</td>\n",
       "      <td>Win_away</td>\n",
       "    </tr>\n",
       "  </tbody>\n",
       "</table>\n",
       "</div>"
      ],
      "text/plain": [
       "           date    home_team away_team  home_score  away_score  \\\n",
       "819   6/22/1924      Austria     Egypt           3           1   \n",
       "824   6/29/1924       Sweden     Egypt           5           0   \n",
       "1144  6/14/1928  Netherlands     Egypt           1           2   \n",
       "1146  6/28/1928   Luxembourg     Egypt           1           1   \n",
       "1670   4/6/1934       Israel     Egypt           1           4   \n",
       "\n",
       "                        tournament              city      country  neutral  \\\n",
       "819                       Friendly            Vienna      Austria    False   \n",
       "824                       Friendly         Stockholm       Sweden    False   \n",
       "1144                      Friendly         Rotterdam  Netherlands    False   \n",
       "1146                      Friendly  Esch-sur-Alzette   Luxembourg    False   \n",
       "1670  FIFA World Cup qualification          Tel Aviv    Palestine     True   \n",
       "\n",
       "         result  \n",
       "819   Lose_away  \n",
       "824   Lose_away  \n",
       "1144   Win_away  \n",
       "1146  Draw_away  \n",
       "1670   Win_away  "
      ]
     },
     "execution_count": 188,
     "metadata": {},
     "output_type": "execute_result"
    }
   ],
   "source": [
    "Egy_away = data[data['away_team']=='Egypt']\n",
    "Egy_away.head()"
   ]
  },
  {
   "cell_type": "markdown",
   "id": "ac3ad0be",
   "metadata": {},
   "source": [
    "Separating all Egypt's losses when playing away"
   ]
  },
  {
   "cell_type": "code",
   "execution_count": 119,
   "id": "abc32ca9",
   "metadata": {},
   "outputs": [
    {
     "data": {
      "text/html": [
       "<div>\n",
       "<style scoped>\n",
       "    .dataframe tbody tr th:only-of-type {\n",
       "        vertical-align: middle;\n",
       "    }\n",
       "\n",
       "    .dataframe tbody tr th {\n",
       "        vertical-align: top;\n",
       "    }\n",
       "\n",
       "    .dataframe thead th {\n",
       "        text-align: right;\n",
       "    }\n",
       "</style>\n",
       "<table border=\"1\" class=\"dataframe\">\n",
       "  <thead>\n",
       "    <tr style=\"text-align: right;\">\n",
       "      <th></th>\n",
       "      <th>date</th>\n",
       "      <th>home_team</th>\n",
       "      <th>away_team</th>\n",
       "      <th>home_score</th>\n",
       "      <th>away_score</th>\n",
       "      <th>tournament</th>\n",
       "      <th>city</th>\n",
       "      <th>country</th>\n",
       "      <th>neutral</th>\n",
       "      <th>result</th>\n",
       "    </tr>\n",
       "  </thead>\n",
       "  <tbody>\n",
       "    <tr>\n",
       "      <th>819</th>\n",
       "      <td>6/22/1924</td>\n",
       "      <td>Austria</td>\n",
       "      <td>Egypt</td>\n",
       "      <td>3</td>\n",
       "      <td>1</td>\n",
       "      <td>Friendly</td>\n",
       "      <td>Vienna</td>\n",
       "      <td>Austria</td>\n",
       "      <td>False</td>\n",
       "      <td>Lose_away</td>\n",
       "    </tr>\n",
       "    <tr>\n",
       "      <th>824</th>\n",
       "      <td>6/29/1924</td>\n",
       "      <td>Sweden</td>\n",
       "      <td>Egypt</td>\n",
       "      <td>5</td>\n",
       "      <td>0</td>\n",
       "      <td>Friendly</td>\n",
       "      <td>Stockholm</td>\n",
       "      <td>Sweden</td>\n",
       "      <td>False</td>\n",
       "      <td>Lose_away</td>\n",
       "    </tr>\n",
       "    <tr>\n",
       "      <th>3299</th>\n",
       "      <td>11/25/1951</td>\n",
       "      <td>Greece</td>\n",
       "      <td>Egypt</td>\n",
       "      <td>1</td>\n",
       "      <td>0</td>\n",
       "      <td>Friendly</td>\n",
       "      <td>Athens</td>\n",
       "      <td>Greece</td>\n",
       "      <td>False</td>\n",
       "      <td>Lose_away</td>\n",
       "    </tr>\n",
       "    <tr>\n",
       "      <th>3410</th>\n",
       "      <td>11/2/1952</td>\n",
       "      <td>Yugoslavia</td>\n",
       "      <td>Egypt</td>\n",
       "      <td>5</td>\n",
       "      <td>0</td>\n",
       "      <td>Friendly</td>\n",
       "      <td>Belgrade</td>\n",
       "      <td>Yugoslavia</td>\n",
       "      <td>False</td>\n",
       "      <td>Lose_away</td>\n",
       "    </tr>\n",
       "    <tr>\n",
       "      <th>3604</th>\n",
       "      <td>1/24/1954</td>\n",
       "      <td>Italy</td>\n",
       "      <td>Egypt</td>\n",
       "      <td>5</td>\n",
       "      <td>1</td>\n",
       "      <td>FIFA World Cup qualification</td>\n",
       "      <td>Milan</td>\n",
       "      <td>Italy</td>\n",
       "      <td>False</td>\n",
       "      <td>Lose_away</td>\n",
       "    </tr>\n",
       "    <tr>\n",
       "      <th>...</th>\n",
       "      <td>...</td>\n",
       "      <td>...</td>\n",
       "      <td>...</td>\n",
       "      <td>...</td>\n",
       "      <td>...</td>\n",
       "      <td>...</td>\n",
       "      <td>...</td>\n",
       "      <td>...</td>\n",
       "      <td>...</td>\n",
       "      <td>...</td>\n",
       "    </tr>\n",
       "    <tr>\n",
       "      <th>40043</th>\n",
       "      <td>6/19/2018</td>\n",
       "      <td>Russia</td>\n",
       "      <td>Egypt</td>\n",
       "      <td>3</td>\n",
       "      <td>1</td>\n",
       "      <td>FIFA World Cup</td>\n",
       "      <td>Saint Petersburg</td>\n",
       "      <td>Russia</td>\n",
       "      <td>False</td>\n",
       "      <td>Lose_away</td>\n",
       "    </tr>\n",
       "    <tr>\n",
       "      <th>40060</th>\n",
       "      <td>6/25/2018</td>\n",
       "      <td>Saudi Arabia</td>\n",
       "      <td>Egypt</td>\n",
       "      <td>2</td>\n",
       "      <td>1</td>\n",
       "      <td>FIFA World Cup</td>\n",
       "      <td>Volgograd</td>\n",
       "      <td>Russia</td>\n",
       "      <td>True</td>\n",
       "      <td>Lose_away</td>\n",
       "    </tr>\n",
       "    <tr>\n",
       "      <th>40740</th>\n",
       "      <td>3/26/2019</td>\n",
       "      <td>Nigeria</td>\n",
       "      <td>Egypt</td>\n",
       "      <td>1</td>\n",
       "      <td>0</td>\n",
       "      <td>Friendly</td>\n",
       "      <td>Asaba</td>\n",
       "      <td>Nigeria</td>\n",
       "      <td>False</td>\n",
       "      <td>Lose_away</td>\n",
       "    </tr>\n",
       "    <tr>\n",
       "      <th>43099</th>\n",
       "      <td>12/15/2021</td>\n",
       "      <td>Tunisia</td>\n",
       "      <td>Egypt</td>\n",
       "      <td>1</td>\n",
       "      <td>0</td>\n",
       "      <td>Arab Cup</td>\n",
       "      <td>Doha</td>\n",
       "      <td>Qatar</td>\n",
       "      <td>True</td>\n",
       "      <td>Lose_away</td>\n",
       "    </tr>\n",
       "    <tr>\n",
       "      <th>43119</th>\n",
       "      <td>1/11/2022</td>\n",
       "      <td>Nigeria</td>\n",
       "      <td>Egypt</td>\n",
       "      <td>1</td>\n",
       "      <td>0</td>\n",
       "      <td>African Cup of Nations</td>\n",
       "      <td>Garoua</td>\n",
       "      <td>Cameroon</td>\n",
       "      <td>True</td>\n",
       "      <td>Lose_away</td>\n",
       "    </tr>\n",
       "  </tbody>\n",
       "</table>\n",
       "<p>95 rows × 10 columns</p>\n",
       "</div>"
      ],
      "text/plain": [
       "             date     home_team away_team  home_score  away_score  \\\n",
       "819     6/22/1924       Austria     Egypt           3           1   \n",
       "824     6/29/1924        Sweden     Egypt           5           0   \n",
       "3299   11/25/1951        Greece     Egypt           1           0   \n",
       "3410    11/2/1952    Yugoslavia     Egypt           5           0   \n",
       "3604    1/24/1954         Italy     Egypt           5           1   \n",
       "...           ...           ...       ...         ...         ...   \n",
       "40043   6/19/2018        Russia     Egypt           3           1   \n",
       "40060   6/25/2018  Saudi Arabia     Egypt           2           1   \n",
       "40740   3/26/2019       Nigeria     Egypt           1           0   \n",
       "43099  12/15/2021       Tunisia     Egypt           1           0   \n",
       "43119   1/11/2022       Nigeria     Egypt           1           0   \n",
       "\n",
       "                         tournament              city     country  neutral  \\\n",
       "819                        Friendly            Vienna     Austria    False   \n",
       "824                        Friendly         Stockholm      Sweden    False   \n",
       "3299                       Friendly            Athens      Greece    False   \n",
       "3410                       Friendly          Belgrade  Yugoslavia    False   \n",
       "3604   FIFA World Cup qualification             Milan       Italy    False   \n",
       "...                             ...               ...         ...      ...   \n",
       "40043                FIFA World Cup  Saint Petersburg      Russia    False   \n",
       "40060                FIFA World Cup         Volgograd      Russia     True   \n",
       "40740                      Friendly             Asaba     Nigeria    False   \n",
       "43099                      Arab Cup              Doha       Qatar     True   \n",
       "43119        African Cup of Nations            Garoua    Cameroon     True   \n",
       "\n",
       "          result  \n",
       "819    Lose_away  \n",
       "824    Lose_away  \n",
       "3299   Lose_away  \n",
       "3410   Lose_away  \n",
       "3604   Lose_away  \n",
       "...          ...  \n",
       "40043  Lose_away  \n",
       "40060  Lose_away  \n",
       "40740  Lose_away  \n",
       "43099  Lose_away  \n",
       "43119  Lose_away  \n",
       "\n",
       "[95 rows x 10 columns]"
      ]
     },
     "execution_count": 119,
     "metadata": {},
     "output_type": "execute_result"
    }
   ],
   "source": [
    "Egy_lose_away = Egy_away[Egy_away['result']=='Lose_away']\n",
    "Egy_lose_away"
   ]
  },
  {
   "cell_type": "markdown",
   "id": "ffa3172d",
   "metadata": {},
   "source": [
    "Below is the number of times Egypt lost playing away (95 times)"
   ]
  },
  {
   "cell_type": "code",
   "execution_count": 120,
   "id": "37b351b8",
   "metadata": {},
   "outputs": [
    {
     "data": {
      "text/plain": [
       "Lose_away    95\n",
       "Name: result, dtype: int64"
      ]
     },
     "execution_count": 120,
     "metadata": {},
     "output_type": "execute_result"
    }
   ],
   "source": [
    "nloses_away = Egy_lose_away['result'].value_counts()\n",
    "nloses_away "
   ]
  },
  {
   "cell_type": "code",
   "execution_count": 121,
   "id": "04734eba",
   "metadata": {},
   "outputs": [],
   "source": [
    "nloses_away =  95"
   ]
  },
  {
   "cell_type": "markdown",
   "id": "2dc4cc09",
   "metadata": {},
   "source": [
    "Below is the sum of all Egypt's losses (the losses at home and losses away)"
   ]
  },
  {
   "cell_type": "code",
   "execution_count": 122,
   "id": "4d9b6a55",
   "metadata": {},
   "outputs": [
    {
     "data": {
      "text/plain": [
       "138"
      ]
     },
     "execution_count": 122,
     "metadata": {},
     "output_type": "execute_result"
    }
   ],
   "source": [
    "x = nloses_away + nloses_home\n",
    "x"
   ]
  },
  {
   "cell_type": "markdown",
   "id": "ebb0d227",
   "metadata": {},
   "source": [
    "Compute the 95% confidence interval for Egypt's loss at home"
   ]
  },
  {
   "cell_type": "code",
   "execution_count": 123,
   "id": "75674078",
   "metadata": {},
   "outputs": [
    {
     "data": {
      "text/plain": [
       "(0.23432160884031095, 0.3888667969567905)"
      ]
     },
     "execution_count": 123,
     "metadata": {},
     "output_type": "execute_result"
    }
   ],
   "source": [
    "CI_Egy_home = proportion_confint(count = nloses_home, nobs = x, alpha=(1-0.95), method = 'normal')\n",
    "CI_Egy_home"
   ]
  },
  {
   "cell_type": "markdown",
   "id": "4e6284e7",
   "metadata": {},
   "source": [
    "Compute the 95% confidence interval Egypt's loss away"
   ]
  },
  {
   "cell_type": "code",
   "execution_count": 124,
   "id": "6166d87d",
   "metadata": {},
   "outputs": [
    {
     "data": {
      "text/plain": [
       "(0.6111332030432094, 0.765678391159689)"
      ]
     },
     "execution_count": 124,
     "metadata": {},
     "output_type": "execute_result"
    }
   ],
   "source": [
    "CI_Egy_away = proportion_confint(count = nloses_away, nobs = x, alpha=(1-0.95), method = 'normal')\n",
    "CI_Egy_away"
   ]
  },
  {
   "cell_type": "markdown",
   "id": "afdb567c",
   "metadata": {},
   "source": [
    "Here is a graph that compares the 95% confidence intervals for the probability of Egypt's losses when playing at home or away from all the matches it lost on"
   ]
  },
  {
   "cell_type": "code",
   "execution_count": 125,
   "id": "b6faac91",
   "metadata": {},
   "outputs": [],
   "source": [
    "CI_Egy = {}"
   ]
  },
  {
   "cell_type": "code",
   "execution_count": 132,
   "id": "fb88e252",
   "metadata": {},
   "outputs": [],
   "source": [
    "CI_Egy['result'] = ['Lose_home','Lose_away']"
   ]
  },
  {
   "cell_type": "code",
   "execution_count": 133,
   "id": "baa3502a",
   "metadata": {},
   "outputs": [],
   "source": [
    "CI_Egy['lb'] = [CI_Egy_home[0],CI_Egy_away[0]]"
   ]
  },
  {
   "cell_type": "code",
   "execution_count": 134,
   "id": "bc929efc",
   "metadata": {},
   "outputs": [],
   "source": [
    "CI_Egy['ub'] = [CI_Egy_home[1],CI_Egy_away[1]]"
   ]
  },
  {
   "cell_type": "code",
   "execution_count": 135,
   "id": "9d14c5fd",
   "metadata": {},
   "outputs": [],
   "source": [
    "CI_Egypt = pd.DataFrame(CI_Egy)"
   ]
  },
  {
   "cell_type": "code",
   "execution_count": 136,
   "id": "1fd6f932",
   "metadata": {},
   "outputs": [
    {
     "data": {
      "text/html": [
       "<div>\n",
       "<style scoped>\n",
       "    .dataframe tbody tr th:only-of-type {\n",
       "        vertical-align: middle;\n",
       "    }\n",
       "\n",
       "    .dataframe tbody tr th {\n",
       "        vertical-align: top;\n",
       "    }\n",
       "\n",
       "    .dataframe thead th {\n",
       "        text-align: right;\n",
       "    }\n",
       "</style>\n",
       "<table border=\"1\" class=\"dataframe\">\n",
       "  <thead>\n",
       "    <tr style=\"text-align: right;\">\n",
       "      <th></th>\n",
       "      <th>result</th>\n",
       "      <th>lb</th>\n",
       "      <th>ub</th>\n",
       "    </tr>\n",
       "  </thead>\n",
       "  <tbody>\n",
       "    <tr>\n",
       "      <th>0</th>\n",
       "      <td>Lose_home</td>\n",
       "      <td>0.234322</td>\n",
       "      <td>0.388867</td>\n",
       "    </tr>\n",
       "    <tr>\n",
       "      <th>1</th>\n",
       "      <td>Lose_away</td>\n",
       "      <td>0.611133</td>\n",
       "      <td>0.765678</td>\n",
       "    </tr>\n",
       "  </tbody>\n",
       "</table>\n",
       "</div>"
      ],
      "text/plain": [
       "      result        lb        ub\n",
       "0  Lose_home  0.234322  0.388867\n",
       "1  Lose_away  0.611133  0.765678"
      ]
     },
     "execution_count": 136,
     "metadata": {},
     "output_type": "execute_result"
    }
   ],
   "source": [
    "CI_Egypt"
   ]
  },
  {
   "cell_type": "markdown",
   "id": "dfb93c96",
   "metadata": {},
   "source": [
    "The graph below shows that the confidence intervals for both probabilities of playing at home and away are similar in length. However, the probability for Egypt to lose when playing away is much greater than the probability for the team to lose when playing at home. This demonstrates the effect of fans on the players' motivation. "
   ]
  },
  {
   "cell_type": "code",
   "execution_count": 137,
   "id": "a995eb72",
   "metadata": {},
   "outputs": [
    {
     "data": {
      "text/plain": [
       "([<matplotlib.axis.YTick at 0x19ca5ad3d30>,\n",
       "  <matplotlib.axis.YTick at 0x19ca5ad35b0>],\n",
       " [Text(0, 0, 'Lose_home'), Text(0, 1, 'Lose_away')])"
      ]
     },
     "execution_count": 137,
     "metadata": {},
     "output_type": "execute_result"
    },
    {
     "data": {
      "image/png": "[encoded data removed]",
      "text/plain": [
       "<Figure size 432x288 with 1 Axes>"
      ]
     },
     "metadata": {
      "needs_background": "light"
     },
     "output_type": "display_data"
    }
   ],
   "source": [
    "import matplotlib.pyplot as plt\n",
    "for lb,ub,y in zip(CI_Egypt['lb'],CI_Egypt['ub'],range(len(CI_Egypt))):\n",
    "    plt.plot((lb,ub),(y,y),'ro-')\n",
    "plt.yticks(range(len(CI_Egypt)),list(CI_Egypt['result']))"
   ]
  },
  {
   "cell_type": "markdown",
   "id": "39f48f97",
   "metadata": {},
   "source": [
    "<font color='purple'>Comparing between the probabilities that the home teams would win in friendly vs official tournaments</font>"
   ]
  },
  {
   "cell_type": "markdown",
   "id": "77ef0af6",
   "metadata": {},
   "source": [
    "Below I created a column \"result\" that shows whether a home team won, lost, or drew in a match"
   ]
  },
  {
   "cell_type": "code",
   "execution_count": 195,
   "id": "ad34ee61",
   "metadata": {},
   "outputs": [],
   "source": [
    "diff_scores_home = data['home_score']-data['away_score']\n",
    "conditions = [(diff_scores_home>0),(diff_scores_home<0),(diff_scores_home==0)]\n",
    "labels = ['Win','Lose','Draw']\n",
    "data['result'] = np.select(conditions,labels)"
   ]
  },
  {
   "cell_type": "markdown",
   "id": "b27d5bdf",
   "metadata": {},
   "source": [
    "Below I created a column \"typematch\" that indicates whether a match is friendly or official"
   ]
  },
  {
   "cell_type": "code",
   "execution_count": 196,
   "id": "bb7a08dd",
   "metadata": {},
   "outputs": [],
   "source": [
    "conditions = [(data['tournament']=='Friendly'),(data['tournament']!='Friendly')]\n",
    "values = ['Friendly','Official']\n",
    "data['typematch'] = np.select(conditions, values)"
   ]
  },
  {
   "cell_type": "code",
   "execution_count": 191,
   "id": "61f3b303",
   "metadata": {},
   "outputs": [
    {
     "data": {
      "text/plain": [
       "Official    25912\n",
       "Friendly    17276\n",
       "Name: typematch, dtype: int64"
      ]
     },
     "execution_count": 191,
     "metadata": {},
     "output_type": "execute_result"
    }
   ],
   "source": [
    "data['typematch'].value_counts()"
   ]
  },
  {
   "cell_type": "markdown",
   "id": "f737b0aa",
   "metadata": {},
   "source": [
    "We can see that a new column \"typematch\" has been added"
   ]
  },
  {
   "cell_type": "code",
   "execution_count": 197,
   "id": "dc019e70",
   "metadata": {},
   "outputs": [
    {
     "data": {
      "text/html": [
       "<div>\n",
       "<style scoped>\n",
       "    .dataframe tbody tr th:only-of-type {\n",
       "        vertical-align: middle;\n",
       "    }\n",
       "\n",
       "    .dataframe tbody tr th {\n",
       "        vertical-align: top;\n",
       "    }\n",
       "\n",
       "    .dataframe thead th {\n",
       "        text-align: right;\n",
       "    }\n",
       "</style>\n",
       "<table border=\"1\" class=\"dataframe\">\n",
       "  <thead>\n",
       "    <tr style=\"text-align: right;\">\n",
       "      <th></th>\n",
       "      <th>date</th>\n",
       "      <th>home_team</th>\n",
       "      <th>away_team</th>\n",
       "      <th>home_score</th>\n",
       "      <th>away_score</th>\n",
       "      <th>tournament</th>\n",
       "      <th>city</th>\n",
       "      <th>country</th>\n",
       "      <th>neutral</th>\n",
       "      <th>result</th>\n",
       "      <th>typematch</th>\n",
       "    </tr>\n",
       "  </thead>\n",
       "  <tbody>\n",
       "    <tr>\n",
       "      <th>0</th>\n",
       "      <td>1872-11-30</td>\n",
       "      <td>Scotland</td>\n",
       "      <td>England</td>\n",
       "      <td>0</td>\n",
       "      <td>0</td>\n",
       "      <td>Friendly</td>\n",
       "      <td>Glasgow</td>\n",
       "      <td>Scotland</td>\n",
       "      <td>False</td>\n",
       "      <td>Draw</td>\n",
       "      <td>Friendly</td>\n",
       "    </tr>\n",
       "    <tr>\n",
       "      <th>1</th>\n",
       "      <td>1873-03-08</td>\n",
       "      <td>England</td>\n",
       "      <td>Scotland</td>\n",
       "      <td>4</td>\n",
       "      <td>2</td>\n",
       "      <td>Friendly</td>\n",
       "      <td>London</td>\n",
       "      <td>England</td>\n",
       "      <td>False</td>\n",
       "      <td>Win</td>\n",
       "      <td>Friendly</td>\n",
       "    </tr>\n",
       "    <tr>\n",
       "      <th>2</th>\n",
       "      <td>1874-03-07</td>\n",
       "      <td>Scotland</td>\n",
       "      <td>England</td>\n",
       "      <td>2</td>\n",
       "      <td>1</td>\n",
       "      <td>Friendly</td>\n",
       "      <td>Glasgow</td>\n",
       "      <td>Scotland</td>\n",
       "      <td>False</td>\n",
       "      <td>Win</td>\n",
       "      <td>Friendly</td>\n",
       "    </tr>\n",
       "    <tr>\n",
       "      <th>3</th>\n",
       "      <td>1875-03-06</td>\n",
       "      <td>England</td>\n",
       "      <td>Scotland</td>\n",
       "      <td>2</td>\n",
       "      <td>2</td>\n",
       "      <td>Friendly</td>\n",
       "      <td>London</td>\n",
       "      <td>England</td>\n",
       "      <td>False</td>\n",
       "      <td>Draw</td>\n",
       "      <td>Friendly</td>\n",
       "    </tr>\n",
       "    <tr>\n",
       "      <th>4</th>\n",
       "      <td>1876-03-04</td>\n",
       "      <td>Scotland</td>\n",
       "      <td>England</td>\n",
       "      <td>3</td>\n",
       "      <td>0</td>\n",
       "      <td>Friendly</td>\n",
       "      <td>Glasgow</td>\n",
       "      <td>Scotland</td>\n",
       "      <td>False</td>\n",
       "      <td>Win</td>\n",
       "      <td>Friendly</td>\n",
       "    </tr>\n",
       "  </tbody>\n",
       "</table>\n",
       "</div>"
      ],
      "text/plain": [
       "         date home_team away_team  home_score  away_score tournament     city  \\\n",
       "0  1872-11-30  Scotland   England           0           0   Friendly  Glasgow   \n",
       "1  1873-03-08   England  Scotland           4           2   Friendly   London   \n",
       "2  1874-03-07  Scotland   England           2           1   Friendly  Glasgow   \n",
       "3  1875-03-06   England  Scotland           2           2   Friendly   London   \n",
       "4  1876-03-04  Scotland   England           3           0   Friendly  Glasgow   \n",
       "\n",
       "    country  neutral result typematch  \n",
       "0  Scotland    False   Draw  Friendly  \n",
       "1   England    False    Win  Friendly  \n",
       "2  Scotland    False    Win  Friendly  \n",
       "3   England    False   Draw  Friendly  \n",
       "4  Scotland    False    Win  Friendly  "
      ]
     },
     "execution_count": 197,
     "metadata": {},
     "output_type": "execute_result"
    }
   ],
   "source": [
    "data.head()"
   ]
  },
  {
   "cell_type": "markdown",
   "id": "0c21ba36",
   "metadata": {},
   "source": [
    "Here I created a contingency table for the draws, losses, and wins according to the type of match (friendly or official)"
   ]
  },
  {
   "cell_type": "code",
   "execution_count": 198,
   "id": "0b223065",
   "metadata": {},
   "outputs": [
    {
     "data": {
      "text/html": [
       "<div>\n",
       "<style scoped>\n",
       "    .dataframe tbody tr th:only-of-type {\n",
       "        vertical-align: middle;\n",
       "    }\n",
       "\n",
       "    .dataframe tbody tr th {\n",
       "        vertical-align: top;\n",
       "    }\n",
       "\n",
       "    .dataframe thead th {\n",
       "        text-align: right;\n",
       "    }\n",
       "</style>\n",
       "<table border=\"1\" class=\"dataframe\">\n",
       "  <thead>\n",
       "    <tr style=\"text-align: right;\">\n",
       "      <th>result</th>\n",
       "      <th>Draw</th>\n",
       "      <th>Lose</th>\n",
       "      <th>Win</th>\n",
       "      <th>All</th>\n",
       "    </tr>\n",
       "    <tr>\n",
       "      <th>typematch</th>\n",
       "      <th></th>\n",
       "      <th></th>\n",
       "      <th></th>\n",
       "      <th></th>\n",
       "    </tr>\n",
       "  </thead>\n",
       "  <tbody>\n",
       "    <tr>\n",
       "      <th>Friendly</th>\n",
       "      <td>4329</td>\n",
       "      <td>4806</td>\n",
       "      <td>8141</td>\n",
       "      <td>17276</td>\n",
       "    </tr>\n",
       "    <tr>\n",
       "      <th>Official</th>\n",
       "      <td>5626</td>\n",
       "      <td>7418</td>\n",
       "      <td>12868</td>\n",
       "      <td>25912</td>\n",
       "    </tr>\n",
       "    <tr>\n",
       "      <th>All</th>\n",
       "      <td>9955</td>\n",
       "      <td>12224</td>\n",
       "      <td>21009</td>\n",
       "      <td>43188</td>\n",
       "    </tr>\n",
       "  </tbody>\n",
       "</table>\n",
       "</div>"
      ],
      "text/plain": [
       "result     Draw   Lose    Win    All\n",
       "typematch                           \n",
       "Friendly   4329   4806   8141  17276\n",
       "Official   5626   7418  12868  25912\n",
       "All        9955  12224  21009  43188"
      ]
     },
     "execution_count": 198,
     "metadata": {},
     "output_type": "execute_result"
    }
   ],
   "source": [
    "x = pd.crosstab(data['typematch'],data['result'],margins=True)\n",
    "x"
   ]
  },
  {
   "cell_type": "markdown",
   "id": "d6000f9b",
   "metadata": {},
   "source": [
    "Turn the contingency table into an array assigned to \"x\""
   ]
  },
  {
   "cell_type": "code",
   "execution_count": 200,
   "id": "bc3630b1",
   "metadata": {},
   "outputs": [
    {
     "data": {
      "text/plain": [
       "array([[ 4329,  4806,  8141, 17276],\n",
       "       [ 5626,  7418, 12868, 25912],\n",
       "       [ 9955, 12224, 21009, 43188]], dtype=int64)"
      ]
     },
     "execution_count": 200,
     "metadata": {},
     "output_type": "execute_result"
    }
   ],
   "source": [
    "x = np.array(x)\n",
    "x"
   ]
  },
  {
   "cell_type": "markdown",
   "id": "39ff5786",
   "metadata": {},
   "source": [
    "To find the 95% confidence interval for the probabilities of home teams winning in an Offical vs Friendly match "
   ]
  },
  {
   "cell_type": "code",
   "execution_count": 203,
   "id": "26b97e5b",
   "metadata": {},
   "outputs": [
    {
     "data": {
      "text/plain": [
       "(0.3809128857381539, 0.394088304228051)"
      ]
     },
     "execution_count": 203,
     "metadata": {},
     "output_type": "execute_result"
    }
   ],
   "source": [
    "CI_Friendly = proportion_confint(count=x[0,2],nobs=x[2,2],alpha=(1-0.95))\n",
    "CI_Friendly"
   ]
  },
  {
   "cell_type": "code",
   "execution_count": 204,
   "id": "cb56f230",
   "metadata": {},
   "outputs": [
    {
     "data": {
      "text/plain": [
       "(0.6059116957719489, 0.619087114261846)"
      ]
     },
     "execution_count": 204,
     "metadata": {},
     "output_type": "execute_result"
    }
   ],
   "source": [
    "CI_Official = proportion_confint(count=x[1,2],nobs=x[2,2],alpha=(1-0.95))\n",
    "CI_Official"
   ]
  },
  {
   "cell_type": "markdown",
   "id": "95ee96cf",
   "metadata": {},
   "source": [
    "To draw the corresponding confidence intervals graphs "
   ]
  },
  {
   "cell_type": "code",
   "execution_count": 205,
   "id": "c64f02d1",
   "metadata": {},
   "outputs": [
    {
     "data": {
      "text/html": [
       "<div>\n",
       "<style scoped>\n",
       "    .dataframe tbody tr th:only-of-type {\n",
       "        vertical-align: middle;\n",
       "    }\n",
       "\n",
       "    .dataframe tbody tr th {\n",
       "        vertical-align: top;\n",
       "    }\n",
       "\n",
       "    .dataframe thead th {\n",
       "        text-align: right;\n",
       "    }\n",
       "</style>\n",
       "<table border=\"1\" class=\"dataframe\">\n",
       "  <thead>\n",
       "    <tr style=\"text-align: right;\">\n",
       "      <th></th>\n",
       "      <th>matchtype</th>\n",
       "      <th>lb</th>\n",
       "      <th>ub</th>\n",
       "    </tr>\n",
       "  </thead>\n",
       "  <tbody>\n",
       "    <tr>\n",
       "      <th>0</th>\n",
       "      <td>Offical</td>\n",
       "      <td>0.380913</td>\n",
       "      <td>0.394088</td>\n",
       "    </tr>\n",
       "    <tr>\n",
       "      <th>1</th>\n",
       "      <td>Friendly</td>\n",
       "      <td>0.605912</td>\n",
       "      <td>0.619087</td>\n",
       "    </tr>\n",
       "  </tbody>\n",
       "</table>\n",
       "</div>"
      ],
      "text/plain": [
       "  matchtype        lb        ub\n",
       "0   Offical  0.380913  0.394088\n",
       "1  Friendly  0.605912  0.619087"
      ]
     },
     "execution_count": 205,
     "metadata": {},
     "output_type": "execute_result"
    }
   ],
   "source": [
    "CI_matchtype = {}\n",
    "CI_matchtype['matchtype'] = ['Offical','Friendly']\n",
    "CI_matchtype['lb'] = [CI_Friendly[0],CI_Official[0]]\n",
    "CI_matchtype['ub'] = [CI_Friendly[1],CI_Official[1]]\n",
    "CI_matchtype_win = pd.DataFrame(CI_matchtype)\n",
    "CI_matchtype_win"
   ]
  },
  {
   "cell_type": "markdown",
   "id": "71cc3e8a",
   "metadata": {},
   "source": [
    "The graph below shows that the probability for home teams to win on friendly matches is higher than the probability to win on official matches. "
   ]
  },
  {
   "cell_type": "markdown",
   "id": "b049ffaf",
   "metadata": {},
   "source": [
    "Maybe because on friendly matches the players do not feel as stressed as they would when playing in an offical match, so they would win more"
   ]
  },
  {
   "cell_type": "code",
   "execution_count": 206,
   "id": "87adec4e",
   "metadata": {},
   "outputs": [
    {
     "data": {
      "text/plain": [
       "([<matplotlib.axis.YTick at 0x19ca568ab50>,\n",
       "  <matplotlib.axis.YTick at 0x19ca568a3d0>],\n",
       " [Text(0, 0, 'Offical'), Text(0, 1, 'Friendly')])"
      ]
     },
     "execution_count": 206,
     "metadata": {},
     "output_type": "execute_result"
    },
    {
     "data": {
      "image/png": "[encoded data removed]",
      "text/plain": [
       "<Figure size 432x288 with 1 Axes>"
      ]
     },
     "metadata": {
      "needs_background": "light"
     },
     "output_type": "display_data"
    }
   ],
   "source": [
    "import matplotlib.pyplot as plt\n",
    "for lb,ub,y in zip(CI_matchtype_win['lb'],CI_matchtype_win['ub'],range(len(CI_matchtype_win))):\n",
    "    plt.plot((lb,ub),(y,y),'ro-')\n",
    "plt.yticks(range(len(CI_matchtype_win)),list(CI_matchtype_win['matchtype']))"
   ]
  },
  {
   "cell_type": "markdown",
   "id": "5b357d35",
   "metadata": {},
   "source": [
    "# Part II - Covid Data "
   ]
  },
  {
   "cell_type": "markdown",
   "id": "1f76d699",
   "metadata": {},
   "source": [
    "In this part:\n",
    "- Important observations/conclusions about the dataset.\n",
    "- Compare the 95% confidence intervals for the daily average deaths between Asia and Africa.  \n",
    "- Compare the 95% confidence intervals for the daily average deaths and the ratio between deaths and confirmed cases according to income (High income vs Low income). \n",
    "- Compare the 95% confidence intervals for the average cases by month for India in 2020 and 2021. \n",
    "- Graphs of confidence intervals for the probabilities."
   ]
  },
  {
   "cell_type": "markdown",
   "id": "c9d18849",
   "metadata": {},
   "source": [
    "Import the data \"covid_data\" into python"
   ]
  },
  {
   "cell_type": "code",
   "execution_count": 207,
   "id": "1a1834d5",
   "metadata": {},
   "outputs": [],
   "source": [
    "df = pd.read_csv('covid_data.csv', encoding ='latin-1')"
   ]
  },
  {
   "cell_type": "code",
   "execution_count": 208,
   "id": "2c724c5b",
   "metadata": {},
   "outputs": [
    {
     "data": {
      "text/html": [
       "<div>\n",
       "<style scoped>\n",
       "    .dataframe tbody tr th:only-of-type {\n",
       "        vertical-align: middle;\n",
       "    }\n",
       "\n",
       "    .dataframe tbody tr th {\n",
       "        vertical-align: top;\n",
       "    }\n",
       "\n",
       "    .dataframe thead th {\n",
       "        text-align: right;\n",
       "    }\n",
       "</style>\n",
       "<table border=\"1\" class=\"dataframe\">\n",
       "  <thead>\n",
       "    <tr style=\"text-align: right;\">\n",
       "      <th></th>\n",
       "      <th>date</th>\n",
       "      <th>iso3c</th>\n",
       "      <th>country</th>\n",
       "      <th>income</th>\n",
       "      <th>region</th>\n",
       "      <th>continent</th>\n",
       "      <th>dcases</th>\n",
       "      <th>ddeaths</th>\n",
       "      <th>population</th>\n",
       "      <th>weekdays</th>\n",
       "      <th>month</th>\n",
       "    </tr>\n",
       "  </thead>\n",
       "  <tbody>\n",
       "    <tr>\n",
       "      <th>0</th>\n",
       "      <td>2020-02-24</td>\n",
       "      <td>AFG</td>\n",
       "      <td>Afghanistan</td>\n",
       "      <td>Low income</td>\n",
       "      <td>South Asia</td>\n",
       "      <td>Asia</td>\n",
       "      <td>5</td>\n",
       "      <td>0</td>\n",
       "      <td>38041754</td>\n",
       "      <td>Mon</td>\n",
       "      <td>Feb</td>\n",
       "    </tr>\n",
       "    <tr>\n",
       "      <th>1</th>\n",
       "      <td>2020-02-25</td>\n",
       "      <td>AFG</td>\n",
       "      <td>Afghanistan</td>\n",
       "      <td>Low income</td>\n",
       "      <td>South Asia</td>\n",
       "      <td>Asia</td>\n",
       "      <td>0</td>\n",
       "      <td>0</td>\n",
       "      <td>38041754</td>\n",
       "      <td>Tue</td>\n",
       "      <td>Feb</td>\n",
       "    </tr>\n",
       "    <tr>\n",
       "      <th>2</th>\n",
       "      <td>2020-02-26</td>\n",
       "      <td>AFG</td>\n",
       "      <td>Afghanistan</td>\n",
       "      <td>Low income</td>\n",
       "      <td>South Asia</td>\n",
       "      <td>Asia</td>\n",
       "      <td>0</td>\n",
       "      <td>0</td>\n",
       "      <td>38041754</td>\n",
       "      <td>Wed</td>\n",
       "      <td>Feb</td>\n",
       "    </tr>\n",
       "    <tr>\n",
       "      <th>3</th>\n",
       "      <td>2020-02-27</td>\n",
       "      <td>AFG</td>\n",
       "      <td>Afghanistan</td>\n",
       "      <td>Low income</td>\n",
       "      <td>South Asia</td>\n",
       "      <td>Asia</td>\n",
       "      <td>0</td>\n",
       "      <td>0</td>\n",
       "      <td>38041754</td>\n",
       "      <td>Thu</td>\n",
       "      <td>Feb</td>\n",
       "    </tr>\n",
       "    <tr>\n",
       "      <th>4</th>\n",
       "      <td>2020-02-28</td>\n",
       "      <td>AFG</td>\n",
       "      <td>Afghanistan</td>\n",
       "      <td>Low income</td>\n",
       "      <td>South Asia</td>\n",
       "      <td>Asia</td>\n",
       "      <td>0</td>\n",
       "      <td>0</td>\n",
       "      <td>38041754</td>\n",
       "      <td>Fri</td>\n",
       "      <td>Feb</td>\n",
       "    </tr>\n",
       "  </tbody>\n",
       "</table>\n",
       "</div>"
      ],
      "text/plain": [
       "         date iso3c      country      income      region continent  dcases  \\\n",
       "0  2020-02-24   AFG  Afghanistan  Low income  South Asia      Asia       5   \n",
       "1  2020-02-25   AFG  Afghanistan  Low income  South Asia      Asia       0   \n",
       "2  2020-02-26   AFG  Afghanistan  Low income  South Asia      Asia       0   \n",
       "3  2020-02-27   AFG  Afghanistan  Low income  South Asia      Asia       0   \n",
       "4  2020-02-28   AFG  Afghanistan  Low income  South Asia      Asia       0   \n",
       "\n",
       "   ddeaths  population weekdays month  \n",
       "0        0    38041754      Mon   Feb  \n",
       "1        0    38041754      Tue   Feb  \n",
       "2        0    38041754      Wed   Feb  \n",
       "3        0    38041754      Thu   Feb  \n",
       "4        0    38041754      Fri   Feb  "
      ]
     },
     "execution_count": 208,
     "metadata": {},
     "output_type": "execute_result"
    }
   ],
   "source": [
    "df.head()"
   ]
  },
  {
   "cell_type": "markdown",
   "id": "7cfb41f5",
   "metadata": {},
   "source": [
    "Below is a summary for the data of Covid. Some important things to take note of from here is that the maximum number of daily cases in all of the observations, regardless of income, population size, or country is 823225 and that the maximum number of deaths reached in a day was 8786. Also, the mean of daiy cases is 2353.722996 and the mean of daily deaths is 44.293024. "
   ]
  },
  {
   "cell_type": "code",
   "execution_count": 210,
   "id": "7dbe6963",
   "metadata": {},
   "outputs": [
    {
     "data": {
      "text/html": [
       "<div>\n",
       "<style scoped>\n",
       "    .dataframe tbody tr th:only-of-type {\n",
       "        vertical-align: middle;\n",
       "    }\n",
       "\n",
       "    .dataframe tbody tr th {\n",
       "        vertical-align: top;\n",
       "    }\n",
       "\n",
       "    .dataframe thead th {\n",
       "        text-align: right;\n",
       "    }\n",
       "</style>\n",
       "<table border=\"1\" class=\"dataframe\">\n",
       "  <thead>\n",
       "    <tr style=\"text-align: right;\">\n",
       "      <th></th>\n",
       "      <th>dcases</th>\n",
       "      <th>ddeaths</th>\n",
       "      <th>population</th>\n",
       "    </tr>\n",
       "  </thead>\n",
       "  <tbody>\n",
       "    <tr>\n",
       "      <th>count</th>\n",
       "      <td>122843.000000</td>\n",
       "      <td>122843.000000</td>\n",
       "      <td>1.228430e+05</td>\n",
       "    </tr>\n",
       "    <tr>\n",
       "      <th>mean</th>\n",
       "      <td>2353.722996</td>\n",
       "      <td>44.293024</td>\n",
       "      <td>4.258179e+07</td>\n",
       "    </tr>\n",
       "    <tr>\n",
       "      <th>std</th>\n",
       "      <td>12256.414469</td>\n",
       "      <td>197.945108</td>\n",
       "      <td>1.521859e+08</td>\n",
       "    </tr>\n",
       "    <tr>\n",
       "      <th>min</th>\n",
       "      <td>0.000000</td>\n",
       "      <td>0.000000</td>\n",
       "      <td>1.800800e+04</td>\n",
       "    </tr>\n",
       "    <tr>\n",
       "      <th>25%</th>\n",
       "      <td>3.000000</td>\n",
       "      <td>0.000000</td>\n",
       "      <td>2.347706e+06</td>\n",
       "    </tr>\n",
       "    <tr>\n",
       "      <th>50%</th>\n",
       "      <td>98.000000</td>\n",
       "      <td>1.000000</td>\n",
       "      <td>9.746117e+06</td>\n",
       "    </tr>\n",
       "    <tr>\n",
       "      <th>75%</th>\n",
       "      <td>860.000000</td>\n",
       "      <td>13.000000</td>\n",
       "      <td>3.041786e+07</td>\n",
       "    </tr>\n",
       "    <tr>\n",
       "      <th>max</th>\n",
       "      <td>823225.000000</td>\n",
       "      <td>8786.000000</td>\n",
       "      <td>1.397715e+09</td>\n",
       "    </tr>\n",
       "  </tbody>\n",
       "</table>\n",
       "</div>"
      ],
      "text/plain": [
       "              dcases        ddeaths    population\n",
       "count  122843.000000  122843.000000  1.228430e+05\n",
       "mean     2353.722996      44.293024  4.258179e+07\n",
       "std     12256.414469     197.945108  1.521859e+08\n",
       "min         0.000000       0.000000  1.800800e+04\n",
       "25%         3.000000       0.000000  2.347706e+06\n",
       "50%        98.000000       1.000000  9.746117e+06\n",
       "75%       860.000000      13.000000  3.041786e+07\n",
       "max    823225.000000    8786.000000  1.397715e+09"
      ]
     },
     "execution_count": 210,
     "metadata": {},
     "output_type": "execute_result"
    }
   ],
   "source": [
    "df.describe()"
   ]
  },
  {
   "cell_type": "markdown",
   "id": "6b574498",
   "metadata": {},
   "source": [
    "Below is the sum of the daily reported cases in 2020 and 2021"
   ]
  },
  {
   "cell_type": "code",
   "execution_count": 211,
   "id": "0f169a1b",
   "metadata": {},
   "outputs": [
    {
     "data": {
      "text/plain": [
       "289138394"
      ]
     },
     "execution_count": 211,
     "metadata": {},
     "output_type": "execute_result"
    }
   ],
   "source": [
    "c = df['dcases'].sum()\n",
    "c"
   ]
  },
  {
   "cell_type": "markdown",
   "id": "d59f2d6e",
   "metadata": {},
   "source": [
    "Below is the sum of the daily reported deaths in 2020 and 2021"
   ]
  },
  {
   "cell_type": "code",
   "execution_count": 214,
   "id": "991406f4",
   "metadata": {
    "scrolled": true
   },
   "outputs": [
    {
     "data": {
      "text/plain": [
       "5441088"
      ]
     },
     "execution_count": 214,
     "metadata": {},
     "output_type": "execute_result"
    }
   ],
   "source": [
    "d = df['ddeaths'].sum()\n",
    "d"
   ]
  },
  {
   "cell_type": "markdown",
   "id": "a18df27e",
   "metadata": {},
   "source": [
    "Below is the ratio between deaths and confirmed cases in the whole dataset"
   ]
  },
  {
   "cell_type": "markdown",
   "id": "4e44c765",
   "metadata": {},
   "source": [
    "Here the ratio is small and this means that the number of deaths is insignificant when compared to the number of cases"
   ]
  },
  {
   "cell_type": "code",
   "execution_count": 215,
   "id": "2dfb6368",
   "metadata": {},
   "outputs": [
    {
     "data": {
      "text/plain": [
       "0.01881828256955733"
      ]
     },
     "execution_count": 215,
     "metadata": {},
     "output_type": "execute_result"
    }
   ],
   "source": [
    "d/c"
   ]
  },
  {
   "cell_type": "markdown",
   "id": "b37dcf7d",
   "metadata": {},
   "source": [
    "<font color='green'>Compare the 95% confidence intervals for the daily average deaths between Asia and Africa</font>"
   ]
  },
  {
   "cell_type": "markdown",
   "id": "e43b4ec6",
   "metadata": {},
   "source": [
    "The reason why I am comparing between Asia and Africa is because they are the two largest continents in terms of population and area"
   ]
  },
  {
   "cell_type": "code",
   "execution_count": 224,
   "id": "930df094",
   "metadata": {},
   "outputs": [],
   "source": [
    "#1. Asia"
   ]
  },
  {
   "cell_type": "markdown",
   "id": "ea2c14d7",
   "metadata": {},
   "source": [
    "Below I separated the continent 'Asia' from all the other continents"
   ]
  },
  {
   "cell_type": "code",
   "execution_count": 217,
   "id": "32518ac5",
   "metadata": {},
   "outputs": [
    {
     "data": {
      "text/html": [
       "<div>\n",
       "<style scoped>\n",
       "    .dataframe tbody tr th:only-of-type {\n",
       "        vertical-align: middle;\n",
       "    }\n",
       "\n",
       "    .dataframe tbody tr th {\n",
       "        vertical-align: top;\n",
       "    }\n",
       "\n",
       "    .dataframe thead th {\n",
       "        text-align: right;\n",
       "    }\n",
       "</style>\n",
       "<table border=\"1\" class=\"dataframe\">\n",
       "  <thead>\n",
       "    <tr style=\"text-align: right;\">\n",
       "      <th></th>\n",
       "      <th>date</th>\n",
       "      <th>iso3c</th>\n",
       "      <th>country</th>\n",
       "      <th>income</th>\n",
       "      <th>region</th>\n",
       "      <th>continent</th>\n",
       "      <th>dcases</th>\n",
       "      <th>ddeaths</th>\n",
       "      <th>population</th>\n",
       "      <th>weekdays</th>\n",
       "      <th>month</th>\n",
       "    </tr>\n",
       "  </thead>\n",
       "  <tbody>\n",
       "    <tr>\n",
       "      <th>0</th>\n",
       "      <td>2020-02-24</td>\n",
       "      <td>AFG</td>\n",
       "      <td>Afghanistan</td>\n",
       "      <td>Low income</td>\n",
       "      <td>South Asia</td>\n",
       "      <td>Asia</td>\n",
       "      <td>5</td>\n",
       "      <td>0</td>\n",
       "      <td>38041754</td>\n",
       "      <td>Mon</td>\n",
       "      <td>Feb</td>\n",
       "    </tr>\n",
       "    <tr>\n",
       "      <th>1</th>\n",
       "      <td>2020-02-25</td>\n",
       "      <td>AFG</td>\n",
       "      <td>Afghanistan</td>\n",
       "      <td>Low income</td>\n",
       "      <td>South Asia</td>\n",
       "      <td>Asia</td>\n",
       "      <td>0</td>\n",
       "      <td>0</td>\n",
       "      <td>38041754</td>\n",
       "      <td>Tue</td>\n",
       "      <td>Feb</td>\n",
       "    </tr>\n",
       "    <tr>\n",
       "      <th>2</th>\n",
       "      <td>2020-02-26</td>\n",
       "      <td>AFG</td>\n",
       "      <td>Afghanistan</td>\n",
       "      <td>Low income</td>\n",
       "      <td>South Asia</td>\n",
       "      <td>Asia</td>\n",
       "      <td>0</td>\n",
       "      <td>0</td>\n",
       "      <td>38041754</td>\n",
       "      <td>Wed</td>\n",
       "      <td>Feb</td>\n",
       "    </tr>\n",
       "    <tr>\n",
       "      <th>3</th>\n",
       "      <td>2020-02-27</td>\n",
       "      <td>AFG</td>\n",
       "      <td>Afghanistan</td>\n",
       "      <td>Low income</td>\n",
       "      <td>South Asia</td>\n",
       "      <td>Asia</td>\n",
       "      <td>0</td>\n",
       "      <td>0</td>\n",
       "      <td>38041754</td>\n",
       "      <td>Thu</td>\n",
       "      <td>Feb</td>\n",
       "    </tr>\n",
       "    <tr>\n",
       "      <th>4</th>\n",
       "      <td>2020-02-28</td>\n",
       "      <td>AFG</td>\n",
       "      <td>Afghanistan</td>\n",
       "      <td>Low income</td>\n",
       "      <td>South Asia</td>\n",
       "      <td>Asia</td>\n",
       "      <td>0</td>\n",
       "      <td>0</td>\n",
       "      <td>38041754</td>\n",
       "      <td>Fri</td>\n",
       "      <td>Feb</td>\n",
       "    </tr>\n",
       "  </tbody>\n",
       "</table>\n",
       "</div>"
      ],
      "text/plain": [
       "         date iso3c      country      income      region continent  dcases  \\\n",
       "0  2020-02-24   AFG  Afghanistan  Low income  South Asia      Asia       5   \n",
       "1  2020-02-25   AFG  Afghanistan  Low income  South Asia      Asia       0   \n",
       "2  2020-02-26   AFG  Afghanistan  Low income  South Asia      Asia       0   \n",
       "3  2020-02-27   AFG  Afghanistan  Low income  South Asia      Asia       0   \n",
       "4  2020-02-28   AFG  Afghanistan  Low income  South Asia      Asia       0   \n",
       "\n",
       "   ddeaths  population weekdays month  \n",
       "0        0    38041754      Mon   Feb  \n",
       "1        0    38041754      Tue   Feb  \n",
       "2        0    38041754      Wed   Feb  \n",
       "3        0    38041754      Thu   Feb  \n",
       "4        0    38041754      Fri   Feb  "
      ]
     },
     "execution_count": 217,
     "metadata": {},
     "output_type": "execute_result"
    }
   ],
   "source": [
    "Asia = df[df['continent']=='Asia']\n",
    "Asia.head()"
   ]
  },
  {
   "cell_type": "markdown",
   "id": "d70b7624",
   "metadata": {},
   "source": [
    "The standard deviation of the daily deaths for Asia "
   ]
  },
  {
   "cell_type": "code",
   "execution_count": 218,
   "id": "7b523a23",
   "metadata": {},
   "outputs": [
    {
     "data": {
      "text/plain": [
       "192.1301580956554"
      ]
     },
     "execution_count": 218,
     "metadata": {},
     "output_type": "execute_result"
    }
   ],
   "source": [
    "std_Asia = Asia['ddeaths'].std()\n",
    "std_Asia"
   ]
  },
  {
   "cell_type": "markdown",
   "id": "1c1a28d6",
   "metadata": {},
   "source": [
    "The estimated average (mean) of the daily deaths for Asia"
   ]
  },
  {
   "cell_type": "code",
   "execution_count": 220,
   "id": "4654e581",
   "metadata": {},
   "outputs": [
    {
     "data": {
      "text/plain": [
       "40.51686332508118"
      ]
     },
     "execution_count": 220,
     "metadata": {},
     "output_type": "execute_result"
    }
   ],
   "source": [
    "mean_Asia = Asia['ddeaths'].mean()\n",
    "mean_Asia"
   ]
  },
  {
   "cell_type": "markdown",
   "id": "77b2b881",
   "metadata": {},
   "source": [
    "The size/length of the variable \"ddeaths\" for Asia"
   ]
  },
  {
   "cell_type": "code",
   "execution_count": 222,
   "id": "a20e2026",
   "metadata": {},
   "outputs": [
    {
     "data": {
      "text/plain": [
       "31103"
      ]
     },
     "execution_count": 222,
     "metadata": {},
     "output_type": "execute_result"
    }
   ],
   "source": [
    "len_Asia = np.size(Asia['ddeaths'])\n",
    "len_Asia"
   ]
  },
  {
   "cell_type": "markdown",
   "id": "33e1165b",
   "metadata": {},
   "source": [
    "95% confidence interval for the average daily deaths in both 2020 and 2021 for Asia"
   ]
  },
  {
   "cell_type": "markdown",
   "id": "d4411477",
   "metadata": {},
   "source": [
    "Since I am trying to find the confidence interval of the average and we have an unknown variance, I used the t interval"
   ]
  },
  {
   "cell_type": "code",
   "execution_count": 226,
   "id": "74613604",
   "metadata": {},
   "outputs": [
    {
     "data": {
      "text/plain": [
       "(38.381526577905404, 42.65220007225696)"
      ]
     },
     "execution_count": 226,
     "metadata": {},
     "output_type": "execute_result"
    }
   ],
   "source": [
    "CI_ddeaths_Asia = scipy.stats.t.interval(0.95, len_Asia - 1, mean_Asia, std_Asia/np.sqrt(len_Asia - 1))\n",
    "CI_ddeaths_Asia"
   ]
  },
  {
   "cell_type": "code",
   "execution_count": 227,
   "id": "f00753e1",
   "metadata": {},
   "outputs": [],
   "source": [
    "#2. Africa"
   ]
  },
  {
   "cell_type": "markdown",
   "id": "b65107b6",
   "metadata": {},
   "source": [
    "Below I separated the continent 'Africa' from all the other continents"
   ]
  },
  {
   "cell_type": "code",
   "execution_count": 228,
   "id": "5c23736a",
   "metadata": {},
   "outputs": [
    {
     "data": {
      "text/html": [
       "<div>\n",
       "<style scoped>\n",
       "    .dataframe tbody tr th:only-of-type {\n",
       "        vertical-align: middle;\n",
       "    }\n",
       "\n",
       "    .dataframe tbody tr th {\n",
       "        vertical-align: top;\n",
       "    }\n",
       "\n",
       "    .dataframe thead th {\n",
       "        text-align: right;\n",
       "    }\n",
       "</style>\n",
       "<table border=\"1\" class=\"dataframe\">\n",
       "  <thead>\n",
       "    <tr style=\"text-align: right;\">\n",
       "      <th></th>\n",
       "      <th>date</th>\n",
       "      <th>iso3c</th>\n",
       "      <th>country</th>\n",
       "      <th>income</th>\n",
       "      <th>region</th>\n",
       "      <th>continent</th>\n",
       "      <th>dcases</th>\n",
       "      <th>ddeaths</th>\n",
       "      <th>population</th>\n",
       "      <th>weekdays</th>\n",
       "      <th>month</th>\n",
       "    </tr>\n",
       "  </thead>\n",
       "  <tbody>\n",
       "    <tr>\n",
       "      <th>677</th>\n",
       "      <td>2020-03-20</td>\n",
       "      <td>AGO</td>\n",
       "      <td>Angola</td>\n",
       "      <td>Lower middle income</td>\n",
       "      <td>Sub-Saharan Africa</td>\n",
       "      <td>Africa</td>\n",
       "      <td>1</td>\n",
       "      <td>0</td>\n",
       "      <td>31825295</td>\n",
       "      <td>Fri</td>\n",
       "      <td>Mar</td>\n",
       "    </tr>\n",
       "    <tr>\n",
       "      <th>678</th>\n",
       "      <td>2020-03-21</td>\n",
       "      <td>AGO</td>\n",
       "      <td>Angola</td>\n",
       "      <td>Lower middle income</td>\n",
       "      <td>Sub-Saharan Africa</td>\n",
       "      <td>Africa</td>\n",
       "      <td>1</td>\n",
       "      <td>0</td>\n",
       "      <td>31825295</td>\n",
       "      <td>Sat</td>\n",
       "      <td>Mar</td>\n",
       "    </tr>\n",
       "    <tr>\n",
       "      <th>679</th>\n",
       "      <td>2020-03-22</td>\n",
       "      <td>AGO</td>\n",
       "      <td>Angola</td>\n",
       "      <td>Lower middle income</td>\n",
       "      <td>Sub-Saharan Africa</td>\n",
       "      <td>Africa</td>\n",
       "      <td>0</td>\n",
       "      <td>0</td>\n",
       "      <td>31825295</td>\n",
       "      <td>Sun</td>\n",
       "      <td>Mar</td>\n",
       "    </tr>\n",
       "    <tr>\n",
       "      <th>680</th>\n",
       "      <td>2020-03-23</td>\n",
       "      <td>AGO</td>\n",
       "      <td>Angola</td>\n",
       "      <td>Lower middle income</td>\n",
       "      <td>Sub-Saharan Africa</td>\n",
       "      <td>Africa</td>\n",
       "      <td>1</td>\n",
       "      <td>0</td>\n",
       "      <td>31825295</td>\n",
       "      <td>Mon</td>\n",
       "      <td>Mar</td>\n",
       "    </tr>\n",
       "    <tr>\n",
       "      <th>681</th>\n",
       "      <td>2020-03-24</td>\n",
       "      <td>AGO</td>\n",
       "      <td>Angola</td>\n",
       "      <td>Lower middle income</td>\n",
       "      <td>Sub-Saharan Africa</td>\n",
       "      <td>Africa</td>\n",
       "      <td>0</td>\n",
       "      <td>0</td>\n",
       "      <td>31825295</td>\n",
       "      <td>Tue</td>\n",
       "      <td>Mar</td>\n",
       "    </tr>\n",
       "  </tbody>\n",
       "</table>\n",
       "</div>"
      ],
      "text/plain": [
       "           date iso3c country               income              region  \\\n",
       "677  2020-03-20   AGO  Angola  Lower middle income  Sub-Saharan Africa   \n",
       "678  2020-03-21   AGO  Angola  Lower middle income  Sub-Saharan Africa   \n",
       "679  2020-03-22   AGO  Angola  Lower middle income  Sub-Saharan Africa   \n",
       "680  2020-03-23   AGO  Angola  Lower middle income  Sub-Saharan Africa   \n",
       "681  2020-03-24   AGO  Angola  Lower middle income  Sub-Saharan Africa   \n",
       "\n",
       "    continent  dcases  ddeaths  population weekdays month  \n",
       "677    Africa       1        0    31825295      Fri   Mar  \n",
       "678    Africa       1        0    31825295      Sat   Mar  \n",
       "679    Africa       0        0    31825295      Sun   Mar  \n",
       "680    Africa       1        0    31825295      Mon   Mar  \n",
       "681    Africa       0        0    31825295      Tue   Mar  "
      ]
     },
     "execution_count": 228,
     "metadata": {},
     "output_type": "execute_result"
    }
   ],
   "source": [
    "Africa = df[df['continent']=='Africa']\n",
    "Africa.head()"
   ]
  },
  {
   "cell_type": "markdown",
   "id": "82c3b475",
   "metadata": {},
   "source": [
    "The standard deviation of the daily deaths for Africa"
   ]
  },
  {
   "cell_type": "code",
   "execution_count": 229,
   "id": "ca4c07e9",
   "metadata": {},
   "outputs": [
    {
     "data": {
      "text/plain": [
       "31.04342390551242"
      ]
     },
     "execution_count": 229,
     "metadata": {},
     "output_type": "execute_result"
    }
   ],
   "source": [
    "std_Africa = Africa['ddeaths'].std()\n",
    "std_Africa"
   ]
  },
  {
   "cell_type": "markdown",
   "id": "a9348c2d",
   "metadata": {},
   "source": [
    "The estimated average (mean) of the daily deaths for Africa"
   ]
  },
  {
   "cell_type": "code",
   "execution_count": 230,
   "id": "3254b5e2",
   "metadata": {},
   "outputs": [
    {
     "data": {
      "text/plain": [
       "6.588286183925945"
      ]
     },
     "execution_count": 230,
     "metadata": {},
     "output_type": "execute_result"
    }
   ],
   "source": [
    "mean_Africa = Africa['ddeaths'].mean()\n",
    "mean_Africa"
   ]
  },
  {
   "cell_type": "markdown",
   "id": "287d0788",
   "metadata": {},
   "source": [
    "The size/length of the variable \"ddeaths\" for Africa"
   ]
  },
  {
   "cell_type": "code",
   "execution_count": 231,
   "id": "d714510f",
   "metadata": {},
   "outputs": [
    {
     "data": {
      "text/plain": [
       "34677"
      ]
     },
     "execution_count": 231,
     "metadata": {},
     "output_type": "execute_result"
    }
   ],
   "source": [
    "len_Africa = np.size(Africa['ddeaths'])\n",
    "len_Africa"
   ]
  },
  {
   "cell_type": "markdown",
   "id": "1b11e60b",
   "metadata": {},
   "source": [
    "95% confidence interval for the average daily deaths in both 2020 and 2021 for Africa"
   ]
  },
  {
   "cell_type": "code",
   "execution_count": 232,
   "id": "2faccaa6",
   "metadata": {},
   "outputs": [
    {
     "data": {
      "text/plain": [
       "(6.2615340981609915, 6.915038269690898)"
      ]
     },
     "execution_count": 232,
     "metadata": {},
     "output_type": "execute_result"
    }
   ],
   "source": [
    "CI_ddeaths_Africa = scipy.stats.t.interval(0.95, len_Africa - 1, mean_Africa, std_Africa/np.sqrt(len_Africa - 1))\n",
    "CI_ddeaths_Africa"
   ]
  },
  {
   "cell_type": "markdown",
   "id": "44bd1b4e",
   "metadata": {},
   "source": [
    "Compare between the 95% confidence intervals of the average daily deaths for Asia and Africa in a graph"
   ]
  },
  {
   "cell_type": "code",
   "execution_count": 233,
   "id": "6b70d02d",
   "metadata": {},
   "outputs": [
    {
     "data": {
      "text/html": [
       "<div>\n",
       "<style scoped>\n",
       "    .dataframe tbody tr th:only-of-type {\n",
       "        vertical-align: middle;\n",
       "    }\n",
       "\n",
       "    .dataframe tbody tr th {\n",
       "        vertical-align: top;\n",
       "    }\n",
       "\n",
       "    .dataframe thead th {\n",
       "        text-align: right;\n",
       "    }\n",
       "</style>\n",
       "<table border=\"1\" class=\"dataframe\">\n",
       "  <thead>\n",
       "    <tr style=\"text-align: right;\">\n",
       "      <th></th>\n",
       "      <th>continent</th>\n",
       "      <th>lb</th>\n",
       "      <th>ub</th>\n",
       "    </tr>\n",
       "  </thead>\n",
       "  <tbody>\n",
       "    <tr>\n",
       "      <th>0</th>\n",
       "      <td>Asia</td>\n",
       "      <td>38.381527</td>\n",
       "      <td>42.652200</td>\n",
       "    </tr>\n",
       "    <tr>\n",
       "      <th>1</th>\n",
       "      <td>Africa</td>\n",
       "      <td>6.261534</td>\n",
       "      <td>6.915038</td>\n",
       "    </tr>\n",
       "  </tbody>\n",
       "</table>\n",
       "</div>"
      ],
      "text/plain": [
       "  continent         lb         ub\n",
       "0      Asia  38.381527  42.652200\n",
       "1    Africa   6.261534   6.915038"
      ]
     },
     "execution_count": 233,
     "metadata": {},
     "output_type": "execute_result"
    }
   ],
   "source": [
    "ddeaths_cont = {}\n",
    "ddeaths_cont['continent'] = ['Asia','Africa']\n",
    "ddeaths_cont['lb'] = [CI_ddeaths_Asia[0],CI_ddeaths_Africa[0]]\n",
    "ddeaths_cont['ub'] = [CI_ddeaths_Asia[1],CI_ddeaths_Africa[1]]\n",
    "CI_ddeaths_cont = pd.DataFrame(ddeaths_cont)\n",
    "CI_ddeaths_cont"
   ]
  },
  {
   "cell_type": "markdown",
   "id": "904ed4b0",
   "metadata": {},
   "source": [
    "Below is the graph showing the 95% confidence intervals for the daily average deaths in Asia and Africa during 2020 and 2021 combined. We see that the average daily deaths for Africa is much less than the average daily deaths for Asia. Also, the confidence interval for Asia is wider than that of Africa. The reason behind this can be because the sample size in Africa is larger or because of a smaller margin of error. "
   ]
  },
  {
   "cell_type": "code",
   "execution_count": 234,
   "id": "7c659759",
   "metadata": {},
   "outputs": [
    {
     "data": {
      "text/plain": [
       "([<matplotlib.axis.YTick at 0x19ca6f66520>,\n",
       "  <matplotlib.axis.YTick at 0x19ca6f61d60>],\n",
       " [Text(0, 0, 'Asia'), Text(0, 1, 'Africa')])"
      ]
     },
     "execution_count": 234,
     "metadata": {},
     "output_type": "execute_result"
    },
    {
     "data": {
      "image/png": "[encoded data removed]",
      "text/plain": [
       "<Figure size 432x288 with 1 Axes>"
      ]
     },
     "metadata": {
      "needs_background": "light"
     },
     "output_type": "display_data"
    }
   ],
   "source": [
    "for lb,ub,y in zip(CI_ddeaths_cont['lb'],CI_ddeaths_cont['ub'],range(len(CI_ddeaths_cont))):\n",
    "    plt.plot((lb,ub),(y,y),'ro-')\n",
    "plt.yticks(range(len(CI_ddeaths_cont)),list(CI_ddeaths_cont['continent']))"
   ]
  },
  {
   "cell_type": "markdown",
   "id": "31e499fd",
   "metadata": {},
   "source": [
    "<font color='green'>Compare the 95% confidence intervals for the daily average deaths and the ratio between deaths and confirmed cases according to income (High income vs Low income)</font>"
   ]
  },
  {
   "cell_type": "code",
   "execution_count": 246,
   "id": "498d6e14",
   "metadata": {},
   "outputs": [],
   "source": [
    "# Low Income"
   ]
  },
  {
   "cell_type": "markdown",
   "id": "5af622c9",
   "metadata": {},
   "source": [
    "Separate \"Low income\" from all other incomes"
   ]
  },
  {
   "cell_type": "code",
   "execution_count": 235,
   "id": "08082a88",
   "metadata": {},
   "outputs": [
    {
     "data": {
      "text/html": [
       "<div>\n",
       "<style scoped>\n",
       "    .dataframe tbody tr th:only-of-type {\n",
       "        vertical-align: middle;\n",
       "    }\n",
       "\n",
       "    .dataframe tbody tr th {\n",
       "        vertical-align: top;\n",
       "    }\n",
       "\n",
       "    .dataframe thead th {\n",
       "        text-align: right;\n",
       "    }\n",
       "</style>\n",
       "<table border=\"1\" class=\"dataframe\">\n",
       "  <thead>\n",
       "    <tr style=\"text-align: right;\">\n",
       "      <th></th>\n",
       "      <th>date</th>\n",
       "      <th>iso3c</th>\n",
       "      <th>country</th>\n",
       "      <th>income</th>\n",
       "      <th>region</th>\n",
       "      <th>continent</th>\n",
       "      <th>dcases</th>\n",
       "      <th>ddeaths</th>\n",
       "      <th>population</th>\n",
       "      <th>weekdays</th>\n",
       "      <th>month</th>\n",
       "    </tr>\n",
       "  </thead>\n",
       "  <tbody>\n",
       "    <tr>\n",
       "      <th>0</th>\n",
       "      <td>2020-02-24</td>\n",
       "      <td>AFG</td>\n",
       "      <td>Afghanistan</td>\n",
       "      <td>Low income</td>\n",
       "      <td>South Asia</td>\n",
       "      <td>Asia</td>\n",
       "      <td>5</td>\n",
       "      <td>0</td>\n",
       "      <td>38041754</td>\n",
       "      <td>Mon</td>\n",
       "      <td>Feb</td>\n",
       "    </tr>\n",
       "    <tr>\n",
       "      <th>1</th>\n",
       "      <td>2020-02-25</td>\n",
       "      <td>AFG</td>\n",
       "      <td>Afghanistan</td>\n",
       "      <td>Low income</td>\n",
       "      <td>South Asia</td>\n",
       "      <td>Asia</td>\n",
       "      <td>0</td>\n",
       "      <td>0</td>\n",
       "      <td>38041754</td>\n",
       "      <td>Tue</td>\n",
       "      <td>Feb</td>\n",
       "    </tr>\n",
       "    <tr>\n",
       "      <th>2</th>\n",
       "      <td>2020-02-26</td>\n",
       "      <td>AFG</td>\n",
       "      <td>Afghanistan</td>\n",
       "      <td>Low income</td>\n",
       "      <td>South Asia</td>\n",
       "      <td>Asia</td>\n",
       "      <td>0</td>\n",
       "      <td>0</td>\n",
       "      <td>38041754</td>\n",
       "      <td>Wed</td>\n",
       "      <td>Feb</td>\n",
       "    </tr>\n",
       "    <tr>\n",
       "      <th>3</th>\n",
       "      <td>2020-02-27</td>\n",
       "      <td>AFG</td>\n",
       "      <td>Afghanistan</td>\n",
       "      <td>Low income</td>\n",
       "      <td>South Asia</td>\n",
       "      <td>Asia</td>\n",
       "      <td>0</td>\n",
       "      <td>0</td>\n",
       "      <td>38041754</td>\n",
       "      <td>Thu</td>\n",
       "      <td>Feb</td>\n",
       "    </tr>\n",
       "    <tr>\n",
       "      <th>4</th>\n",
       "      <td>2020-02-28</td>\n",
       "      <td>AFG</td>\n",
       "      <td>Afghanistan</td>\n",
       "      <td>Low income</td>\n",
       "      <td>South Asia</td>\n",
       "      <td>Asia</td>\n",
       "      <td>0</td>\n",
       "      <td>0</td>\n",
       "      <td>38041754</td>\n",
       "      <td>Fri</td>\n",
       "      <td>Feb</td>\n",
       "    </tr>\n",
       "  </tbody>\n",
       "</table>\n",
       "</div>"
      ],
      "text/plain": [
       "         date iso3c      country      income      region continent  dcases  \\\n",
       "0  2020-02-24   AFG  Afghanistan  Low income  South Asia      Asia       5   \n",
       "1  2020-02-25   AFG  Afghanistan  Low income  South Asia      Asia       0   \n",
       "2  2020-02-26   AFG  Afghanistan  Low income  South Asia      Asia       0   \n",
       "3  2020-02-27   AFG  Afghanistan  Low income  South Asia      Asia       0   \n",
       "4  2020-02-28   AFG  Afghanistan  Low income  South Asia      Asia       0   \n",
       "\n",
       "   ddeaths  population weekdays month  \n",
       "0        0    38041754      Mon   Feb  \n",
       "1        0    38041754      Tue   Feb  \n",
       "2        0    38041754      Wed   Feb  \n",
       "3        0    38041754      Thu   Feb  \n",
       "4        0    38041754      Fri   Feb  "
      ]
     },
     "execution_count": 235,
     "metadata": {},
     "output_type": "execute_result"
    }
   ],
   "source": [
    "L_income = df[df['income']=='Low income']\n",
    "L_income.head()"
   ]
  },
  {
   "cell_type": "markdown",
   "id": "8b5e065b",
   "metadata": {},
   "source": [
    "The countries associated with a low income"
   ]
  },
  {
   "cell_type": "code",
   "execution_count": 236,
   "id": "95edd363",
   "metadata": {},
   "outputs": [
    {
     "data": {
      "text/plain": [
       "Nepal                       707\n",
       "Afghanistan                 677\n",
       "Togo                        666\n",
       "Burkina Faso                662\n",
       "Congo - Kinshasa            661\n",
       "Ethiopia                    659\n",
       "Guinea                      659\n",
       "Rwanda                      658\n",
       "Central African Republic    657\n",
       "Benin                       656\n",
       "Somalia                     656\n",
       "Tanzania                    656\n",
       "Gambia                      655\n",
       "Liberia                     655\n",
       "Chad                        653\n",
       "Niger                       652\n",
       "Haiti                       652\n",
       "Madagascar                  652\n",
       "Uganda                      651\n",
       "Syria                       650\n",
       "Mozambique                  650\n",
       "Mali                        647\n",
       "Guinea-Bissau               647\n",
       "Sierra Leone                641\n",
       "Burundi                     641\n",
       "Malawi                      639\n",
       "South Sudan                 636\n",
       "Yemen                       631\n",
       "Tajikistan                  610\n",
       "Name: country, dtype: int64"
      ]
     },
     "execution_count": 236,
     "metadata": {},
     "output_type": "execute_result"
    }
   ],
   "source": [
    "L_income['country'].value_counts()"
   ]
  },
  {
   "cell_type": "markdown",
   "id": "44d12b4c",
   "metadata": {},
   "source": [
    "Sum of reported daily cases for countries with low income"
   ]
  },
  {
   "cell_type": "code",
   "execution_count": 238,
   "id": "b81e6e3a",
   "metadata": {},
   "outputs": [
    {
     "data": {
      "text/plain": [
       "2429562"
      ]
     },
     "execution_count": 238,
     "metadata": {},
     "output_type": "execute_result"
    }
   ],
   "source": [
    "cl = L_income['dcases'].sum()\n",
    "cl"
   ]
  },
  {
   "cell_type": "markdown",
   "id": "609ff31d",
   "metadata": {},
   "source": [
    "Sum of daily deaths for countries with low income"
   ]
  },
  {
   "cell_type": "code",
   "execution_count": 241,
   "id": "a72606aa",
   "metadata": {},
   "outputs": [
    {
     "data": {
      "text/plain": [
       "48431"
      ]
     },
     "execution_count": 241,
     "metadata": {},
     "output_type": "execute_result"
    }
   ],
   "source": [
    "dl = L_income['ddeaths'].sum()\n",
    "dl"
   ]
  },
  {
   "cell_type": "markdown",
   "id": "385d4cd0",
   "metadata": {},
   "source": [
    "Ratio between the daily deaths and the daily cases for countries with low income"
   ]
  },
  {
   "cell_type": "code",
   "execution_count": 242,
   "id": "b0632a75",
   "metadata": {},
   "outputs": [
    {
     "data": {
      "text/plain": [
       "0.01993404572511424"
      ]
     },
     "execution_count": 242,
     "metadata": {},
     "output_type": "execute_result"
    }
   ],
   "source": [
    "dl/cl"
   ]
  },
  {
   "cell_type": "markdown",
   "id": "31b44cf7",
   "metadata": {},
   "source": [
    "The standard deviation of the daily deaths for countries with low income"
   ]
  },
  {
   "cell_type": "code",
   "execution_count": 248,
   "id": "194e4041",
   "metadata": {},
   "outputs": [
    {
     "data": {
      "text/plain": [
       "12.912590584822501"
      ]
     },
     "execution_count": 248,
     "metadata": {},
     "output_type": "execute_result"
    }
   ],
   "source": [
    "std_L = L_income['ddeaths'].std()\n",
    "std_L"
   ]
  },
  {
   "cell_type": "markdown",
   "id": "ded25981",
   "metadata": {},
   "source": [
    "The average (mean) daily deaths for countries with low income"
   ]
  },
  {
   "cell_type": "code",
   "execution_count": 249,
   "id": "1d2611d7",
   "metadata": {},
   "outputs": [
    {
     "data": {
      "text/plain": [
       "2.557615124630334"
      ]
     },
     "execution_count": 249,
     "metadata": {},
     "output_type": "execute_result"
    }
   ],
   "source": [
    "mean_L = L_income['ddeaths'].mean()\n",
    "mean_L"
   ]
  },
  {
   "cell_type": "markdown",
   "id": "312737dc",
   "metadata": {},
   "source": [
    "The size/length of variable \"ddeaths\" for countries with low income"
   ]
  },
  {
   "cell_type": "code",
   "execution_count": 250,
   "id": "6546229c",
   "metadata": {},
   "outputs": [
    {
     "data": {
      "text/plain": [
       "18936"
      ]
     },
     "execution_count": 250,
     "metadata": {},
     "output_type": "execute_result"
    }
   ],
   "source": [
    "len_L = np.size(L_income['ddeaths'])\n",
    "len_L"
   ]
  },
  {
   "cell_type": "markdown",
   "id": "b5430b86",
   "metadata": {},
   "source": [
    "Below is the 95% confidence interval of the average daily deaths for the countries with low income"
   ]
  },
  {
   "cell_type": "code",
   "execution_count": 251,
   "id": "587a51a1",
   "metadata": {},
   "outputs": [
    {
     "data": {
      "text/plain": [
       "(2.373683426953564, 2.741546822307104)"
      ]
     },
     "execution_count": 251,
     "metadata": {},
     "output_type": "execute_result"
    }
   ],
   "source": [
    "CI_ddeaths_L = scipy.stats.t.interval(0.95, len_L - 1, mean_L , std_L/np.sqrt(len_L - 1))\n",
    "CI_ddeaths_L"
   ]
  },
  {
   "cell_type": "code",
   "execution_count": 247,
   "id": "a9bd3bd9",
   "metadata": {},
   "outputs": [],
   "source": [
    "# High Income"
   ]
  },
  {
   "cell_type": "markdown",
   "id": "d7a97b9c",
   "metadata": {},
   "source": [
    "Separate \"High income\" from all other incomes"
   ]
  },
  {
   "cell_type": "code",
   "execution_count": 252,
   "id": "0670cd62",
   "metadata": {},
   "outputs": [
    {
     "data": {
      "text/html": [
       "<div>\n",
       "<style scoped>\n",
       "    .dataframe tbody tr th:only-of-type {\n",
       "        vertical-align: middle;\n",
       "    }\n",
       "\n",
       "    .dataframe tbody tr th {\n",
       "        vertical-align: top;\n",
       "    }\n",
       "\n",
       "    .dataframe thead th {\n",
       "        text-align: right;\n",
       "    }\n",
       "</style>\n",
       "<table border=\"1\" class=\"dataframe\">\n",
       "  <thead>\n",
       "    <tr style=\"text-align: right;\">\n",
       "      <th></th>\n",
       "      <th>date</th>\n",
       "      <th>iso3c</th>\n",
       "      <th>country</th>\n",
       "      <th>income</th>\n",
       "      <th>region</th>\n",
       "      <th>continent</th>\n",
       "      <th>dcases</th>\n",
       "      <th>ddeaths</th>\n",
       "      <th>population</th>\n",
       "      <th>weekdays</th>\n",
       "      <th>month</th>\n",
       "    </tr>\n",
       "  </thead>\n",
       "  <tbody>\n",
       "    <tr>\n",
       "      <th>1992</th>\n",
       "      <td>2020-03-02</td>\n",
       "      <td>AND</td>\n",
       "      <td>Andorra</td>\n",
       "      <td>High income</td>\n",
       "      <td>Europe &amp; Central Asia</td>\n",
       "      <td>Europe</td>\n",
       "      <td>1</td>\n",
       "      <td>0</td>\n",
       "      <td>77142</td>\n",
       "      <td>Mon</td>\n",
       "      <td>Mar</td>\n",
       "    </tr>\n",
       "    <tr>\n",
       "      <th>1993</th>\n",
       "      <td>2020-03-03</td>\n",
       "      <td>AND</td>\n",
       "      <td>Andorra</td>\n",
       "      <td>High income</td>\n",
       "      <td>Europe &amp; Central Asia</td>\n",
       "      <td>Europe</td>\n",
       "      <td>0</td>\n",
       "      <td>0</td>\n",
       "      <td>77142</td>\n",
       "      <td>Tue</td>\n",
       "      <td>Mar</td>\n",
       "    </tr>\n",
       "    <tr>\n",
       "      <th>1994</th>\n",
       "      <td>2020-03-04</td>\n",
       "      <td>AND</td>\n",
       "      <td>Andorra</td>\n",
       "      <td>High income</td>\n",
       "      <td>Europe &amp; Central Asia</td>\n",
       "      <td>Europe</td>\n",
       "      <td>0</td>\n",
       "      <td>0</td>\n",
       "      <td>77142</td>\n",
       "      <td>Wed</td>\n",
       "      <td>Mar</td>\n",
       "    </tr>\n",
       "    <tr>\n",
       "      <th>1995</th>\n",
       "      <td>2020-03-05</td>\n",
       "      <td>AND</td>\n",
       "      <td>Andorra</td>\n",
       "      <td>High income</td>\n",
       "      <td>Europe &amp; Central Asia</td>\n",
       "      <td>Europe</td>\n",
       "      <td>0</td>\n",
       "      <td>0</td>\n",
       "      <td>77142</td>\n",
       "      <td>Thu</td>\n",
       "      <td>Mar</td>\n",
       "    </tr>\n",
       "    <tr>\n",
       "      <th>1996</th>\n",
       "      <td>2020-03-06</td>\n",
       "      <td>AND</td>\n",
       "      <td>Andorra</td>\n",
       "      <td>High income</td>\n",
       "      <td>Europe &amp; Central Asia</td>\n",
       "      <td>Europe</td>\n",
       "      <td>0</td>\n",
       "      <td>0</td>\n",
       "      <td>77142</td>\n",
       "      <td>Fri</td>\n",
       "      <td>Mar</td>\n",
       "    </tr>\n",
       "  </tbody>\n",
       "</table>\n",
       "</div>"
      ],
      "text/plain": [
       "            date iso3c  country       income                 region continent  \\\n",
       "1992  2020-03-02   AND  Andorra  High income  Europe & Central Asia    Europe   \n",
       "1993  2020-03-03   AND  Andorra  High income  Europe & Central Asia    Europe   \n",
       "1994  2020-03-04   AND  Andorra  High income  Europe & Central Asia    Europe   \n",
       "1995  2020-03-05   AND  Andorra  High income  Europe & Central Asia    Europe   \n",
       "1996  2020-03-06   AND  Andorra  High income  Europe & Central Asia    Europe   \n",
       "\n",
       "      dcases  ddeaths  population weekdays month  \n",
       "1992       1        0       77142      Mon   Mar  \n",
       "1993       0        0       77142      Tue   Mar  \n",
       "1994       0        0       77142      Wed   Mar  \n",
       "1995       0        0       77142      Thu   Mar  \n",
       "1996       0        0       77142      Fri   Mar  "
      ]
     },
     "execution_count": 252,
     "metadata": {},
     "output_type": "execute_result"
    }
   ],
   "source": [
    "H_income = df[df['income']=='High income']\n",
    "H_income.head()"
   ]
  },
  {
   "cell_type": "markdown",
   "id": "853a4cd4",
   "metadata": {},
   "source": [
    "The countries associated with a high income"
   ]
  },
  {
   "cell_type": "code",
   "execution_count": 253,
   "id": "924d0758",
   "metadata": {},
   "outputs": [
    {
     "data": {
      "text/plain": [
       "Japan                   710\n",
       "South Korea             710\n",
       "United States           710\n",
       "Singapore               709\n",
       "Canada                  709\n",
       "France                  708\n",
       "Australia               706\n",
       "Germany                 705\n",
       "United Arab Emirates    703\n",
       "Finland                 703\n",
       "Italy                   701\n",
       "United Kingdom          701\n",
       "Spain                   700\n",
       "Sweden                  700\n",
       "Belgium                 697\n",
       "Israel                  680\n",
       "Chile                   678\n",
       "Oman                    677\n",
       "Kuwait                  677\n",
       "Bahrain                 677\n",
       "Croatia                 676\n",
       "Switzerland             676\n",
       "Austria                 676\n",
       "Norway                  675\n",
       "Greece                  675\n",
       "Netherlands             674\n",
       "Estonia                 674\n",
       "Denmark                 674\n",
       "Iceland                 673\n",
       "New Zealand             673\n",
       "Qatar                   672\n",
       "San Marino              672\n",
       "Lithuania               672\n",
       "Luxembourg              672\n",
       "Monaco                  672\n",
       "Ireland                 672\n",
       "Czechia                 671\n",
       "Saudi Arabia            670\n",
       "Portugal                670\n",
       "Andorra                 670\n",
       "Latvia                  670\n",
       "Hungary                 668\n",
       "Liechtenstein           668\n",
       "Poland                  668\n",
       "Slovenia                667\n",
       "Slovakia                666\n",
       "Malta                   665\n",
       "Brunei                  663\n",
       "Cyprus                  662\n",
       "Panama                  662\n",
       "Antigua & Barbuda       659\n",
       "Uruguay                 659\n",
       "Trinidad & Tobago       658\n",
       "Seychelles              657\n",
       "Bahamas                 656\n",
       "Barbados                655\n",
       "St. Kitts & Nevis       647\n",
       "Palau                   132\n",
       "Name: country, dtype: int64"
      ]
     },
     "execution_count": 253,
     "metadata": {},
     "output_type": "execute_result"
    }
   ],
   "source": [
    "H_income['country'].value_counts()"
   ]
  },
  {
   "cell_type": "markdown",
   "id": "b9bcf65b",
   "metadata": {},
   "source": [
    "Sum of reported daily cases for countries with high income"
   ]
  },
  {
   "cell_type": "code",
   "execution_count": 257,
   "id": "33a41305",
   "metadata": {},
   "outputs": [
    {
     "data": {
      "text/plain": [
       "136132124"
      ]
     },
     "execution_count": 257,
     "metadata": {},
     "output_type": "execute_result"
    }
   ],
   "source": [
    "ch = H_income['dcases'].sum()\n",
    "ch"
   ]
  },
  {
   "cell_type": "markdown",
   "id": "11556343",
   "metadata": {},
   "source": [
    "Sum of daily deaths for countries with high income"
   ]
  },
  {
   "cell_type": "code",
   "execution_count": 258,
   "id": "5b380726",
   "metadata": {},
   "outputs": [
    {
     "data": {
      "text/plain": [
       "1952834"
      ]
     },
     "execution_count": 258,
     "metadata": {},
     "output_type": "execute_result"
    }
   ],
   "source": [
    "dh = H_income['ddeaths'].sum()\n",
    "dh"
   ]
  },
  {
   "cell_type": "markdown",
   "id": "a2df394e",
   "metadata": {},
   "source": [
    "Ratio between the daily deaths and the daily cases for countries with high income"
   ]
  },
  {
   "cell_type": "code",
   "execution_count": 256,
   "id": "4e6b3662",
   "metadata": {},
   "outputs": [
    {
     "data": {
      "text/plain": [
       "0.014345137228594186"
      ]
     },
     "execution_count": 256,
     "metadata": {},
     "output_type": "execute_result"
    }
   ],
   "source": [
    "dh/ch"
   ]
  },
  {
   "cell_type": "markdown",
   "id": "d969e036",
   "metadata": {},
   "source": [
    "The standard deviation of the daily deaths for countries with high income"
   ]
  },
  {
   "cell_type": "code",
   "execution_count": 261,
   "id": "90da1a43",
   "metadata": {},
   "outputs": [
    {
     "data": {
      "text/plain": [
       "222.3114694475608"
      ]
     },
     "execution_count": 261,
     "metadata": {},
     "output_type": "execute_result"
    }
   ],
   "source": [
    "std_H = H_income['ddeaths'].std()\n",
    "std_H"
   ]
  },
  {
   "cell_type": "markdown",
   "id": "aacad143",
   "metadata": {},
   "source": [
    "The average (mean) daily deaths for countries with high income"
   ]
  },
  {
   "cell_type": "code",
   "execution_count": 262,
   "id": "5f4daa8e",
   "metadata": {},
   "outputs": [
    {
     "data": {
      "text/plain": [
       "50.32817895984743"
      ]
     },
     "execution_count": 262,
     "metadata": {},
     "output_type": "execute_result"
    }
   ],
   "source": [
    "mean_H = H_income['ddeaths'].mean()\n",
    "mean_H"
   ]
  },
  {
   "cell_type": "markdown",
   "id": "7b139630",
   "metadata": {},
   "source": [
    "The size/length of variable \"ddeaths\" for countries with high income"
   ]
  },
  {
   "cell_type": "code",
   "execution_count": 263,
   "id": "f2202c75",
   "metadata": {},
   "outputs": [
    {
     "data": {
      "text/plain": [
       "38802"
      ]
     },
     "execution_count": 263,
     "metadata": {},
     "output_type": "execute_result"
    }
   ],
   "source": [
    "len_H = np.size(H_income['ddeaths'])\n",
    "len_H"
   ]
  },
  {
   "cell_type": "markdown",
   "id": "e9cfb1cf",
   "metadata": {},
   "source": [
    "Below is the 95% confidence interval of the average daily deaths for the countries with high income"
   ]
  },
  {
   "cell_type": "code",
   "execution_count": 264,
   "id": "946c3303",
   "metadata": {},
   "outputs": [
    {
     "data": {
      "text/plain": [
       "(48.11609274841139, 52.540265171283465)"
      ]
     },
     "execution_count": 264,
     "metadata": {},
     "output_type": "execute_result"
    }
   ],
   "source": [
    "CI_ddeaths_H = scipy.stats.t.interval(0.95, len_H - 1, mean_H , std_H/np.sqrt(len_H - 1))\n",
    "CI_ddeaths_H"
   ]
  },
  {
   "cell_type": "markdown",
   "id": "85d62f1f",
   "metadata": {},
   "source": [
    "Graph the 95% confidence intervals for the average daily deaths according to income (high income vs low income)"
   ]
  },
  {
   "cell_type": "code",
   "execution_count": 265,
   "id": "17f6b365",
   "metadata": {},
   "outputs": [
    {
     "data": {
      "text/html": [
       "<div>\n",
       "<style scoped>\n",
       "    .dataframe tbody tr th:only-of-type {\n",
       "        vertical-align: middle;\n",
       "    }\n",
       "\n",
       "    .dataframe tbody tr th {\n",
       "        vertical-align: top;\n",
       "    }\n",
       "\n",
       "    .dataframe thead th {\n",
       "        text-align: right;\n",
       "    }\n",
       "</style>\n",
       "<table border=\"1\" class=\"dataframe\">\n",
       "  <thead>\n",
       "    <tr style=\"text-align: right;\">\n",
       "      <th></th>\n",
       "      <th>income</th>\n",
       "      <th>lb</th>\n",
       "      <th>ub</th>\n",
       "    </tr>\n",
       "  </thead>\n",
       "  <tbody>\n",
       "    <tr>\n",
       "      <th>0</th>\n",
       "      <td>Low Income</td>\n",
       "      <td>2.373683</td>\n",
       "      <td>2.741547</td>\n",
       "    </tr>\n",
       "    <tr>\n",
       "      <th>1</th>\n",
       "      <td>High Income</td>\n",
       "      <td>48.116093</td>\n",
       "      <td>52.540265</td>\n",
       "    </tr>\n",
       "  </tbody>\n",
       "</table>\n",
       "</div>"
      ],
      "text/plain": [
       "        income         lb         ub\n",
       "0   Low Income   2.373683   2.741547\n",
       "1  High Income  48.116093  52.540265"
      ]
     },
     "execution_count": 265,
     "metadata": {},
     "output_type": "execute_result"
    }
   ],
   "source": [
    "ddeaths_income = {}\n",
    "ddeaths_income['income'] = ['Low Income','High Income']\n",
    "ddeaths_income['lb'] = [CI_ddeaths_L[0],CI_ddeaths_H[0]]\n",
    "ddeaths_income['ub'] = [CI_ddeaths_L[1],CI_ddeaths_H[1]]\n",
    "CI_ddeaths_inc = pd.DataFrame(ddeaths_income)\n",
    "CI_ddeaths_inc"
   ]
  },
  {
   "cell_type": "markdown",
   "id": "ecf7004b",
   "metadata": {},
   "source": [
    "I thought that countries with higher income would have a lower daily death average, but surprisingly countries with low income had a much lower daily death average when comparing to countries with high income. Also, the confidence interval for countries associated with high income is wider than the interval for countries with low income"
   ]
  },
  {
   "cell_type": "code",
   "execution_count": 267,
   "id": "a879aa92",
   "metadata": {},
   "outputs": [
    {
     "data": {
      "text/plain": [
       "([<matplotlib.axis.YTick at 0x19ca732f7f0>,\n",
       "  <matplotlib.axis.YTick at 0x19ca732dfa0>],\n",
       " [Text(0, 0, 'Low Income'), Text(0, 1, 'High Income')])"
      ]
     },
     "execution_count": 267,
     "metadata": {},
     "output_type": "execute_result"
    },
    {
     "data": {
      "image/png": "[encoded data removed]",
      "text/plain": [
       "<Figure size 432x288 with 1 Axes>"
      ]
     },
     "metadata": {
      "needs_background": "light"
     },
     "output_type": "display_data"
    }
   ],
   "source": [
    "for lb,ub,y in zip(CI_ddeaths_inc['lb'],CI_ddeaths_inc['ub'],range(len(CI_ddeaths_inc))):\n",
    "    plt.plot((lb,ub),(y,y),'ro-')\n",
    "plt.yticks(range(len(CI_ddeaths_inc)),list(CI_ddeaths_inc['income']))"
   ]
  },
  {
   "cell_type": "markdown",
   "id": "22471719",
   "metadata": {},
   "source": [
    "<font color='green'>Find and compare between the 95% confidence intervals for the average cases by month for India in 2020 and 2021</font>"
   ]
  },
  {
   "cell_type": "markdown",
   "id": "658cad0a",
   "metadata": {},
   "source": [
    "Indicating that the months are ordered in the order of \"cats\""
   ]
  },
  {
   "cell_type": "code",
   "execution_count": 289,
   "id": "8a389a97",
   "metadata": {},
   "outputs": [],
   "source": [
    "cats = ['Jan', 'Feb', 'Mar','Apr','May','Jun','Jul','Aug','Sep','Oct','Nov','Dec']\n",
    "cat_type = CategoricalDtype(categories=cats, ordered=True)\n",
    "df['month'] = df['month'].astype(cat_type)"
   ]
  },
  {
   "cell_type": "markdown",
   "id": "e393765e",
   "metadata": {},
   "source": [
    "Separate India from all the other countries"
   ]
  },
  {
   "cell_type": "code",
   "execution_count": 291,
   "id": "b4566c6d",
   "metadata": {},
   "outputs": [],
   "source": [
    "India = df[df['country'] == 'India']"
   ]
  },
  {
   "cell_type": "markdown",
   "id": "e32bc3f3",
   "metadata": {},
   "source": [
    "For each month, find the mean, standard deviation, and length/size of the daily cases "
   ]
  },
  {
   "cell_type": "code",
   "execution_count": 292,
   "id": "50633787",
   "metadata": {},
   "outputs": [],
   "source": [
    "stats = India.groupby(\"month\").agg({\"dcases\": [np.mean, np.std, np.size]})"
   ]
  },
  {
   "cell_type": "code",
   "execution_count": 298,
   "id": "0d92a515",
   "metadata": {},
   "outputs": [
    {
     "data": {
      "text/html": [
       "<div>\n",
       "<style scoped>\n",
       "    .dataframe tbody tr th:only-of-type {\n",
       "        vertical-align: middle;\n",
       "    }\n",
       "\n",
       "    .dataframe tbody tr th {\n",
       "        vertical-align: top;\n",
       "    }\n",
       "\n",
       "    .dataframe thead th {\n",
       "        text-align: right;\n",
       "    }\n",
       "</style>\n",
       "<table border=\"1\" class=\"dataframe\">\n",
       "  <thead>\n",
       "    <tr style=\"text-align: right;\">\n",
       "      <th></th>\n",
       "      <th>mean</th>\n",
       "      <th>std</th>\n",
       "      <th>size</th>\n",
       "    </tr>\n",
       "    <tr>\n",
       "      <th>month</th>\n",
       "      <th></th>\n",
       "      <th></th>\n",
       "      <th></th>\n",
       "    </tr>\n",
       "  </thead>\n",
       "  <tbody>\n",
       "    <tr>\n",
       "      <th>Jan</th>\n",
       "      <td>14269.757576</td>\n",
       "      <td>6482.719062</td>\n",
       "      <td>33</td>\n",
       "    </tr>\n",
       "    <tr>\n",
       "      <th>Feb</th>\n",
       "      <td>6221.631579</td>\n",
       "      <td>6589.542141</td>\n",
       "      <td>57</td>\n",
       "    </tr>\n",
       "    <tr>\n",
       "      <th>Mar</th>\n",
       "      <td>17916.419355</td>\n",
       "      <td>22066.831712</td>\n",
       "      <td>62</td>\n",
       "    </tr>\n",
       "    <tr>\n",
       "      <th>Apr</th>\n",
       "      <td>116279.500000</td>\n",
       "      <td>137715.333493</td>\n",
       "      <td>60</td>\n",
       "    </tr>\n",
       "    <tr>\n",
       "      <th>May</th>\n",
       "      <td>147835.822581</td>\n",
       "      <td>156159.070842</td>\n",
       "      <td>62</td>\n",
       "    </tr>\n",
       "    <tr>\n",
       "      <th>Jun</th>\n",
       "      <td>43857.700000</td>\n",
       "      <td>37231.180478</td>\n",
       "      <td>60</td>\n",
       "    </tr>\n",
       "    <tr>\n",
       "      <th>Jul</th>\n",
       "      <td>37978.983871</td>\n",
       "      <td>8960.893487</td>\n",
       "      <td>62</td>\n",
       "    </tr>\n",
       "    <tr>\n",
       "      <th>Aug</th>\n",
       "      <td>50809.661290</td>\n",
       "      <td>15576.946155</td>\n",
       "      <td>62</td>\n",
       "    </tr>\n",
       "    <tr>\n",
       "      <th>Sep</th>\n",
       "      <td>59621.333333</td>\n",
       "      <td>28873.530060</td>\n",
       "      <td>60</td>\n",
       "    </tr>\n",
       "    <tr>\n",
       "      <th>Oct</th>\n",
       "      <td>38558.145161</td>\n",
       "      <td>23693.595216</td>\n",
       "      <td>62</td>\n",
       "    </tr>\n",
       "    <tr>\n",
       "      <th>Nov</th>\n",
       "      <td>26494.816667</td>\n",
       "      <td>16729.044007</td>\n",
       "      <td>60</td>\n",
       "    </tr>\n",
       "    <tr>\n",
       "      <th>Dec</th>\n",
       "      <td>17559.725806</td>\n",
       "      <td>10467.380049</td>\n",
       "      <td>62</td>\n",
       "    </tr>\n",
       "  </tbody>\n",
       "</table>\n",
       "</div>"
      ],
      "text/plain": [
       "                mean            std  size\n",
       "month                                    \n",
       "Jan     14269.757576    6482.719062    33\n",
       "Feb      6221.631579    6589.542141    57\n",
       "Mar     17916.419355   22066.831712    62\n",
       "Apr    116279.500000  137715.333493    60\n",
       "May    147835.822581  156159.070842    62\n",
       "Jun     43857.700000   37231.180478    60\n",
       "Jul     37978.983871    8960.893487    62\n",
       "Aug     50809.661290   15576.946155    62\n",
       "Sep     59621.333333   28873.530060    60\n",
       "Oct     38558.145161   23693.595216    62\n",
       "Nov     26494.816667   16729.044007    60\n",
       "Dec     17559.725806   10467.380049    62"
      ]
     },
     "execution_count": 298,
     "metadata": {},
     "output_type": "execute_result"
    }
   ],
   "source": [
    "stats = pd.DataFrame(stats)\n",
    "stats"
   ]
  },
  {
   "cell_type": "code",
   "execution_count": 299,
   "id": "9990eff1",
   "metadata": {},
   "outputs": [],
   "source": [
    "stats.columns = ['mean','std','size']"
   ]
  },
  {
   "cell_type": "markdown",
   "id": "6987ffe3",
   "metadata": {},
   "source": [
    "Create a function that evaluates the lowerbound of the 95% confidence interval for the average daily cases "
   ]
  },
  {
   "cell_type": "code",
   "execution_count": 300,
   "id": "0109de56",
   "metadata": {},
   "outputs": [],
   "source": [
    "def get_ci_lb(x, alpha=0.05):\n",
    "    sample_s = np.std(x)\n",
    "    sample_mean = np.mean(x)\n",
    "    sample_size = len(x)\n",
    "    margin_of_error = t.ppf(1 - alpha/2,sample_size-1)*sample_s/np.sqrt(sample_size-1)\n",
    "    return sample_mean - margin_of_error"
   ]
  },
  {
   "cell_type": "markdown",
   "id": "701d75a3",
   "metadata": {},
   "source": [
    "Create a function that evaluates the upperbound of the 95% confidence interval for the average daily cases "
   ]
  },
  {
   "cell_type": "code",
   "execution_count": 301,
   "id": "f8d2fc25",
   "metadata": {},
   "outputs": [],
   "source": [
    "def get_ci_ub(x, alpha=0.05):\n",
    "    sample_s = np.std(x)\n",
    "    sample_mean = np.mean(x)\n",
    "    sample_size = len(x)\n",
    "    margin_of_error = t.ppf(1 - alpha/2,sample_size-1)*sample_s/np.sqrt(sample_size-1)\n",
    "    return sample_mean + margin_of_error"
   ]
  },
  {
   "cell_type": "code",
   "execution_count": 302,
   "id": "fc9f195b",
   "metadata": {},
   "outputs": [],
   "source": [
    "x = India['dcases']"
   ]
  },
  {
   "cell_type": "markdown",
   "id": "173f22fc",
   "metadata": {},
   "source": [
    "Lowerbound of the confidence interval"
   ]
  },
  {
   "cell_type": "code",
   "execution_count": 305,
   "id": "f8bdc6dc",
   "metadata": {},
   "outputs": [
    {
     "data": {
      "text/plain": [
       "44032.38633467612"
      ]
     },
     "execution_count": 305,
     "metadata": {},
     "output_type": "execute_result"
    }
   ],
   "source": [
    "get_ci_lb(x)"
   ]
  },
  {
   "cell_type": "markdown",
   "id": "258d17b7",
   "metadata": {},
   "source": [
    "Upperbound of the confidence interval"
   ]
  },
  {
   "cell_type": "code",
   "execution_count": 307,
   "id": "f3989294",
   "metadata": {},
   "outputs": [
    {
     "data": {
      "text/plain": [
       "55288.351557061775"
      ]
     },
     "execution_count": 307,
     "metadata": {},
     "output_type": "execute_result"
    }
   ],
   "source": [
    "get_ci_ub(x)"
   ]
  },
  {
   "cell_type": "markdown",
   "id": "cfa9dcfd",
   "metadata": {},
   "source": [
    "Two new columns were added showing the lowerbound and upperbound for the average daily cases in India"
   ]
  },
  {
   "cell_type": "code",
   "execution_count": 309,
   "id": "5a54fc5f",
   "metadata": {},
   "outputs": [
    {
     "data": {
      "text/html": [
       "<div>\n",
       "<style scoped>\n",
       "    .dataframe tbody tr th:only-of-type {\n",
       "        vertical-align: middle;\n",
       "    }\n",
       "\n",
       "    .dataframe tbody tr th {\n",
       "        vertical-align: top;\n",
       "    }\n",
       "\n",
       "    .dataframe thead tr th {\n",
       "        text-align: left;\n",
       "    }\n",
       "\n",
       "    .dataframe thead tr:last-of-type th {\n",
       "        text-align: right;\n",
       "    }\n",
       "</style>\n",
       "<table border=\"1\" class=\"dataframe\">\n",
       "  <thead>\n",
       "    <tr>\n",
       "      <th></th>\n",
       "      <th colspan=\"5\" halign=\"left\">dcases</th>\n",
       "    </tr>\n",
       "    <tr>\n",
       "      <th></th>\n",
       "      <th>mean</th>\n",
       "      <th>std</th>\n",
       "      <th>size</th>\n",
       "      <th>get_ci_lb</th>\n",
       "      <th>get_ci_ub</th>\n",
       "    </tr>\n",
       "    <tr>\n",
       "      <th>month</th>\n",
       "      <th></th>\n",
       "      <th></th>\n",
       "      <th></th>\n",
       "      <th></th>\n",
       "      <th></th>\n",
       "    </tr>\n",
       "  </thead>\n",
       "  <tbody>\n",
       "    <tr>\n",
       "      <th>Jan</th>\n",
       "      <td>14269.757576</td>\n",
       "      <td>6482.719062</td>\n",
       "      <td>33</td>\n",
       "      <td>11971.085348</td>\n",
       "      <td>16568.429803</td>\n",
       "    </tr>\n",
       "    <tr>\n",
       "      <th>Feb</th>\n",
       "      <td>6221.631579</td>\n",
       "      <td>6589.542141</td>\n",
       "      <td>57</td>\n",
       "      <td>4473.190704</td>\n",
       "      <td>7970.072454</td>\n",
       "    </tr>\n",
       "    <tr>\n",
       "      <th>Mar</th>\n",
       "      <td>17916.419355</td>\n",
       "      <td>22066.831712</td>\n",
       "      <td>62</td>\n",
       "      <td>12312.493397</td>\n",
       "      <td>23520.345313</td>\n",
       "    </tr>\n",
       "    <tr>\n",
       "      <th>Apr</th>\n",
       "      <td>116279.500000</td>\n",
       "      <td>137715.333493</td>\n",
       "      <td>60</td>\n",
       "      <td>80703.857009</td>\n",
       "      <td>151855.142991</td>\n",
       "    </tr>\n",
       "    <tr>\n",
       "      <th>May</th>\n",
       "      <td>147835.822581</td>\n",
       "      <td>156159.070842</td>\n",
       "      <td>62</td>\n",
       "      <td>108178.844086</td>\n",
       "      <td>187492.801076</td>\n",
       "    </tr>\n",
       "    <tr>\n",
       "      <th>Jun</th>\n",
       "      <td>43857.700000</td>\n",
       "      <td>37231.180478</td>\n",
       "      <td>60</td>\n",
       "      <td>34239.866232</td>\n",
       "      <td>53475.533768</td>\n",
       "    </tr>\n",
       "    <tr>\n",
       "      <th>Jul</th>\n",
       "      <td>37978.983871</td>\n",
       "      <td>8960.893487</td>\n",
       "      <td>62</td>\n",
       "      <td>35703.343024</td>\n",
       "      <td>40254.624718</td>\n",
       "    </tr>\n",
       "    <tr>\n",
       "      <th>Aug</th>\n",
       "      <td>50809.661290</td>\n",
       "      <td>15576.946155</td>\n",
       "      <td>62</td>\n",
       "      <td>46853.857664</td>\n",
       "      <td>54765.464916</td>\n",
       "    </tr>\n",
       "    <tr>\n",
       "      <th>Sep</th>\n",
       "      <td>59621.333333</td>\n",
       "      <td>28873.530060</td>\n",
       "      <td>60</td>\n",
       "      <td>52162.509604</td>\n",
       "      <td>67080.157062</td>\n",
       "    </tr>\n",
       "    <tr>\n",
       "      <th>Oct</th>\n",
       "      <td>38558.145161</td>\n",
       "      <td>23693.595216</td>\n",
       "      <td>62</td>\n",
       "      <td>32541.098627</td>\n",
       "      <td>44575.191695</td>\n",
       "    </tr>\n",
       "    <tr>\n",
       "      <th>Nov</th>\n",
       "      <td>26494.816667</td>\n",
       "      <td>16729.044007</td>\n",
       "      <td>60</td>\n",
       "      <td>22173.246352</td>\n",
       "      <td>30816.386982</td>\n",
       "    </tr>\n",
       "    <tr>\n",
       "      <th>Dec</th>\n",
       "      <td>17559.725806</td>\n",
       "      <td>10467.380049</td>\n",
       "      <td>62</td>\n",
       "      <td>14901.509007</td>\n",
       "      <td>20217.942606</td>\n",
       "    </tr>\n",
       "  </tbody>\n",
       "</table>\n",
       "</div>"
      ],
      "text/plain": [
       "              dcases                                                  \n",
       "                mean            std size      get_ci_lb      get_ci_ub\n",
       "month                                                                 \n",
       "Jan     14269.757576    6482.719062   33   11971.085348   16568.429803\n",
       "Feb      6221.631579    6589.542141   57    4473.190704    7970.072454\n",
       "Mar     17916.419355   22066.831712   62   12312.493397   23520.345313\n",
       "Apr    116279.500000  137715.333493   60   80703.857009  151855.142991\n",
       "May    147835.822581  156159.070842   62  108178.844086  187492.801076\n",
       "Jun     43857.700000   37231.180478   60   34239.866232   53475.533768\n",
       "Jul     37978.983871    8960.893487   62   35703.343024   40254.624718\n",
       "Aug     50809.661290   15576.946155   62   46853.857664   54765.464916\n",
       "Sep     59621.333333   28873.530060   60   52162.509604   67080.157062\n",
       "Oct     38558.145161   23693.595216   62   32541.098627   44575.191695\n",
       "Nov     26494.816667   16729.044007   60   22173.246352   30816.386982\n",
       "Dec     17559.725806   10467.380049   62   14901.509007   20217.942606"
      ]
     },
     "execution_count": 309,
     "metadata": {},
     "output_type": "execute_result"
    }
   ],
   "source": [
    "CI_dcases = statsm = India.groupby(\"month\").agg({\"dcases\": [np.mean, np.std, np.size,get_ci_lb,get_ci_ub]})\n",
    "statsm"
   ]
  },
  {
   "cell_type": "code",
   "execution_count": 310,
   "id": "2a877d22",
   "metadata": {},
   "outputs": [
    {
     "data": {
      "text/plain": [
       "CategoricalIndex(['Jan', 'Feb', 'Mar', 'Apr', 'May', 'Jun', 'Jul', 'Aug',\n",
       "                  'Sep', 'Oct', 'Nov', 'Dec'],\n",
       "                 categories=['Jan', 'Feb', 'Mar', 'Apr', 'May', 'Jun', 'Jul', 'Aug', ...], ordered=True, dtype='category', name='month')"
      ]
     },
     "execution_count": 310,
     "metadata": {},
     "output_type": "execute_result"
    }
   ],
   "source": [
    "statsm.index"
   ]
  },
  {
   "cell_type": "code",
   "execution_count": 311,
   "id": "b843de3c",
   "metadata": {},
   "outputs": [],
   "source": [
    "statsm.columns = ['mean','std','size','lb','ub']"
   ]
  },
  {
   "cell_type": "markdown",
   "id": "20f29cb7",
   "metadata": {},
   "source": [
    "Here I turned the identifying index to be the months"
   ]
  },
  {
   "cell_type": "code",
   "execution_count": 314,
   "id": "774a9c43",
   "metadata": {},
   "outputs": [],
   "source": [
    "statsm['month'] = statsm.index"
   ]
  },
  {
   "cell_type": "code",
   "execution_count": 315,
   "id": "7bb26822",
   "metadata": {},
   "outputs": [
    {
     "data": {
      "text/html": [
       "<div>\n",
       "<style scoped>\n",
       "    .dataframe tbody tr th:only-of-type {\n",
       "        vertical-align: middle;\n",
       "    }\n",
       "\n",
       "    .dataframe tbody tr th {\n",
       "        vertical-align: top;\n",
       "    }\n",
       "\n",
       "    .dataframe thead th {\n",
       "        text-align: right;\n",
       "    }\n",
       "</style>\n",
       "<table border=\"1\" class=\"dataframe\">\n",
       "  <thead>\n",
       "    <tr style=\"text-align: right;\">\n",
       "      <th></th>\n",
       "      <th>mean</th>\n",
       "      <th>std</th>\n",
       "      <th>size</th>\n",
       "      <th>lb</th>\n",
       "      <th>ub</th>\n",
       "      <th>month</th>\n",
       "    </tr>\n",
       "    <tr>\n",
       "      <th>month</th>\n",
       "      <th></th>\n",
       "      <th></th>\n",
       "      <th></th>\n",
       "      <th></th>\n",
       "      <th></th>\n",
       "      <th></th>\n",
       "    </tr>\n",
       "  </thead>\n",
       "  <tbody>\n",
       "    <tr>\n",
       "      <th>Jan</th>\n",
       "      <td>14269.757576</td>\n",
       "      <td>6482.719062</td>\n",
       "      <td>33</td>\n",
       "      <td>11971.085348</td>\n",
       "      <td>16568.429803</td>\n",
       "      <td>Jan</td>\n",
       "    </tr>\n",
       "    <tr>\n",
       "      <th>Feb</th>\n",
       "      <td>6221.631579</td>\n",
       "      <td>6589.542141</td>\n",
       "      <td>57</td>\n",
       "      <td>4473.190704</td>\n",
       "      <td>7970.072454</td>\n",
       "      <td>Feb</td>\n",
       "    </tr>\n",
       "    <tr>\n",
       "      <th>Mar</th>\n",
       "      <td>17916.419355</td>\n",
       "      <td>22066.831712</td>\n",
       "      <td>62</td>\n",
       "      <td>12312.493397</td>\n",
       "      <td>23520.345313</td>\n",
       "      <td>Mar</td>\n",
       "    </tr>\n",
       "    <tr>\n",
       "      <th>Apr</th>\n",
       "      <td>116279.500000</td>\n",
       "      <td>137715.333493</td>\n",
       "      <td>60</td>\n",
       "      <td>80703.857009</td>\n",
       "      <td>151855.142991</td>\n",
       "      <td>Apr</td>\n",
       "    </tr>\n",
       "    <tr>\n",
       "      <th>May</th>\n",
       "      <td>147835.822581</td>\n",
       "      <td>156159.070842</td>\n",
       "      <td>62</td>\n",
       "      <td>108178.844086</td>\n",
       "      <td>187492.801076</td>\n",
       "      <td>May</td>\n",
       "    </tr>\n",
       "  </tbody>\n",
       "</table>\n",
       "</div>"
      ],
      "text/plain": [
       "                mean            std  size             lb             ub month\n",
       "month                                                                        \n",
       "Jan     14269.757576    6482.719062    33   11971.085348   16568.429803   Jan\n",
       "Feb      6221.631579    6589.542141    57    4473.190704    7970.072454   Feb\n",
       "Mar     17916.419355   22066.831712    62   12312.493397   23520.345313   Mar\n",
       "Apr    116279.500000  137715.333493    60   80703.857009  151855.142991   Apr\n",
       "May    147835.822581  156159.070842    62  108178.844086  187492.801076   May"
      ]
     },
     "execution_count": 315,
     "metadata": {},
     "output_type": "execute_result"
    }
   ],
   "source": [
    "statsm.head()"
   ]
  },
  {
   "cell_type": "markdown",
   "id": "25de408c",
   "metadata": {},
   "source": [
    "To find the confidence intervals for 2020 and 2021 separately, I indicated that the variable \"date\" in the dataset is actually a date because in python it is an object"
   ]
  },
  {
   "cell_type": "code",
   "execution_count": 329,
   "id": "f9ec78c4",
   "metadata": {},
   "outputs": [],
   "source": [
    "df['date'] = pd. to_datetime(df['date'],format='%Y-%m-%d')"
   ]
  },
  {
   "cell_type": "code",
   "execution_count": 330,
   "id": "9021e4f9",
   "metadata": {},
   "outputs": [],
   "source": [
    "df['year'] = pd. DatetimeIndex(df['date']). year"
   ]
  },
  {
   "cell_type": "markdown",
   "id": "4475002d",
   "metadata": {},
   "source": [
    "I compute now, by country, by year, by month the following statistics on the daily Covid cases: mean, std, size, CI(95%) LB, and UB"
   ]
  },
  {
   "cell_type": "code",
   "execution_count": 331,
   "id": "8d08e6c2",
   "metadata": {},
   "outputs": [],
   "source": [
    "statsdcases = df.groupby(['country','year','month']).agg({\"dcases\": [np.mean, np.std, np.size,get_ci_lb,get_ci_ub]})"
   ]
  },
  {
   "cell_type": "code",
   "execution_count": 332,
   "id": "64cbe288",
   "metadata": {},
   "outputs": [
    {
     "data": {
      "text/html": [
       "<div>\n",
       "<style scoped>\n",
       "    .dataframe tbody tr th:only-of-type {\n",
       "        vertical-align: middle;\n",
       "    }\n",
       "\n",
       "    .dataframe tbody tr th {\n",
       "        vertical-align: top;\n",
       "    }\n",
       "\n",
       "    .dataframe thead tr th {\n",
       "        text-align: left;\n",
       "    }\n",
       "\n",
       "    .dataframe thead tr:last-of-type th {\n",
       "        text-align: right;\n",
       "    }\n",
       "</style>\n",
       "<table border=\"1\" class=\"dataframe\">\n",
       "  <thead>\n",
       "    <tr>\n",
       "      <th></th>\n",
       "      <th></th>\n",
       "      <th></th>\n",
       "      <th colspan=\"5\" halign=\"left\">dcases</th>\n",
       "    </tr>\n",
       "    <tr>\n",
       "      <th></th>\n",
       "      <th></th>\n",
       "      <th></th>\n",
       "      <th>mean</th>\n",
       "      <th>std</th>\n",
       "      <th>size</th>\n",
       "      <th>get_ci_lb</th>\n",
       "      <th>get_ci_ub</th>\n",
       "    </tr>\n",
       "    <tr>\n",
       "      <th>country</th>\n",
       "      <th>year</th>\n",
       "      <th>month</th>\n",
       "      <th></th>\n",
       "      <th></th>\n",
       "      <th></th>\n",
       "      <th></th>\n",
       "      <th></th>\n",
       "    </tr>\n",
       "  </thead>\n",
       "  <tbody>\n",
       "    <tr>\n",
       "      <th rowspan=\"24\" valign=\"top\">Afghanistan</th>\n",
       "      <th rowspan=\"12\" valign=\"top\">2020</th>\n",
       "      <th>Jan</th>\n",
       "      <td>NaN</td>\n",
       "      <td>NaN</td>\n",
       "      <td>NaN</td>\n",
       "      <td>NaN</td>\n",
       "      <td>NaN</td>\n",
       "    </tr>\n",
       "    <tr>\n",
       "      <th>Feb</th>\n",
       "      <td>0.833333</td>\n",
       "      <td>2.041241</td>\n",
       "      <td>6.0</td>\n",
       "      <td>-1.308818</td>\n",
       "      <td>2.975485</td>\n",
       "    </tr>\n",
       "    <tr>\n",
       "      <th>Mar</th>\n",
       "      <td>5.258065</td>\n",
       "      <td>10.871883</td>\n",
       "      <td>31.0</td>\n",
       "      <td>1.270225</td>\n",
       "      <td>9.245904</td>\n",
       "    </tr>\n",
       "    <tr>\n",
       "      <th>Apr</th>\n",
       "      <td>55.366667</td>\n",
       "      <td>40.385627</td>\n",
       "      <td>30.0</td>\n",
       "      <td>40.286426</td>\n",
       "      <td>70.446908</td>\n",
       "    </tr>\n",
       "    <tr>\n",
       "      <th>May</th>\n",
       "      <td>430.741935</td>\n",
       "      <td>266.692078</td>\n",
       "      <td>31.0</td>\n",
       "      <td>332.918491</td>\n",
       "      <td>528.565379</td>\n",
       "    </tr>\n",
       "    <tr>\n",
       "      <th>Jun</th>\n",
       "      <td>542.166667</td>\n",
       "      <td>278.939504</td>\n",
       "      <td>30.0</td>\n",
       "      <td>438.008944</td>\n",
       "      <td>646.324389</td>\n",
       "    </tr>\n",
       "    <tr>\n",
       "      <th>Jul</th>\n",
       "      <td>167.193548</td>\n",
       "      <td>124.566560</td>\n",
       "      <td>31.0</td>\n",
       "      <td>121.502165</td>\n",
       "      <td>212.884932</td>\n",
       "    </tr>\n",
       "    <tr>\n",
       "      <th>Aug</th>\n",
       "      <td>52.258065</td>\n",
       "      <td>54.725355</td>\n",
       "      <td>31.0</td>\n",
       "      <td>32.184642</td>\n",
       "      <td>72.331487</td>\n",
       "    </tr>\n",
       "    <tr>\n",
       "      <th>Sep</th>\n",
       "      <td>36.866667</td>\n",
       "      <td>28.389815</td>\n",
       "      <td>30.0</td>\n",
       "      <td>26.265735</td>\n",
       "      <td>47.467598</td>\n",
       "    </tr>\n",
       "    <tr>\n",
       "      <th>Oct</th>\n",
       "      <td>63.870968</td>\n",
       "      <td>32.698361</td>\n",
       "      <td>31.0</td>\n",
       "      <td>51.877112</td>\n",
       "      <td>75.864823</td>\n",
       "    </tr>\n",
       "    <tr>\n",
       "      <th>Nov</th>\n",
       "      <td>162.700000</td>\n",
       "      <td>79.090149</td>\n",
       "      <td>30.0</td>\n",
       "      <td>133.167253</td>\n",
       "      <td>192.232747</td>\n",
       "    </tr>\n",
       "    <tr>\n",
       "      <th>Dec</th>\n",
       "      <td>197.258065</td>\n",
       "      <td>74.022955</td>\n",
       "      <td>31.0</td>\n",
       "      <td>170.106225</td>\n",
       "      <td>224.409904</td>\n",
       "    </tr>\n",
       "    <tr>\n",
       "      <th rowspan=\"12\" valign=\"top\">2021</th>\n",
       "      <th>Jan</th>\n",
       "      <td>86.870968</td>\n",
       "      <td>40.486822</td>\n",
       "      <td>31.0</td>\n",
       "      <td>72.020281</td>\n",
       "      <td>101.721654</td>\n",
       "    </tr>\n",
       "    <tr>\n",
       "      <th>Feb</th>\n",
       "      <td>24.678571</td>\n",
       "      <td>16.537395</td>\n",
       "      <td>28.0</td>\n",
       "      <td>18.266039</td>\n",
       "      <td>31.091104</td>\n",
       "    </tr>\n",
       "    <tr>\n",
       "      <th>Mar</th>\n",
       "      <td>23.870968</td>\n",
       "      <td>17.589281</td>\n",
       "      <td>31.0</td>\n",
       "      <td>17.419167</td>\n",
       "      <td>30.322768</td>\n",
       "    </tr>\n",
       "    <tr>\n",
       "      <th>Apr</th>\n",
       "      <td>109.700000</td>\n",
       "      <td>57.199680</td>\n",
       "      <td>30.0</td>\n",
       "      <td>88.341288</td>\n",
       "      <td>131.058712</td>\n",
       "    </tr>\n",
       "    <tr>\n",
       "      <th>May</th>\n",
       "      <td>390.096774</td>\n",
       "      <td>261.671086</td>\n",
       "      <td>31.0</td>\n",
       "      <td>294.115045</td>\n",
       "      <td>486.078503</td>\n",
       "    </tr>\n",
       "    <tr>\n",
       "      <th>Jun</th>\n",
       "      <td>1560.700000</td>\n",
       "      <td>539.104887</td>\n",
       "      <td>30.0</td>\n",
       "      <td>1359.394927</td>\n",
       "      <td>1762.005073</td>\n",
       "    </tr>\n",
       "    <tr>\n",
       "      <th>Jul</th>\n",
       "      <td>919.193548</td>\n",
       "      <td>468.370325</td>\n",
       "      <td>31.0</td>\n",
       "      <td>747.393926</td>\n",
       "      <td>1090.993171</td>\n",
       "    </tr>\n",
       "    <tr>\n",
       "      <th>Aug</th>\n",
       "      <td>195.677419</td>\n",
       "      <td>158.879281</td>\n",
       "      <td>31.0</td>\n",
       "      <td>137.400029</td>\n",
       "      <td>253.954810</td>\n",
       "    </tr>\n",
       "    <tr>\n",
       "      <th>Sep</th>\n",
       "      <td>65.133333</td>\n",
       "      <td>46.887049</td>\n",
       "      <td>30.0</td>\n",
       "      <td>47.625421</td>\n",
       "      <td>82.641245</td>\n",
       "    </tr>\n",
       "    <tr>\n",
       "      <th>Oct</th>\n",
       "      <td>34.709677</td>\n",
       "      <td>24.771211</td>\n",
       "      <td>31.0</td>\n",
       "      <td>25.623524</td>\n",
       "      <td>43.795831</td>\n",
       "    </tr>\n",
       "    <tr>\n",
       "      <th>Nov</th>\n",
       "      <td>34.633333</td>\n",
       "      <td>28.842597</td>\n",
       "      <td>30.0</td>\n",
       "      <td>23.863331</td>\n",
       "      <td>45.403336</td>\n",
       "    </tr>\n",
       "    <tr>\n",
       "      <th>Dec</th>\n",
       "      <td>25.645161</td>\n",
       "      <td>16.706383</td>\n",
       "      <td>31.0</td>\n",
       "      <td>19.517211</td>\n",
       "      <td>31.773112</td>\n",
       "    </tr>\n",
       "  </tbody>\n",
       "</table>\n",
       "</div>"
      ],
      "text/plain": [
       "                             dcases                                 \\\n",
       "                               mean         std  size    get_ci_lb   \n",
       "country     year month                                               \n",
       "Afghanistan 2020 Jan            NaN         NaN   NaN          NaN   \n",
       "                 Feb       0.833333    2.041241   6.0    -1.308818   \n",
       "                 Mar       5.258065   10.871883  31.0     1.270225   \n",
       "                 Apr      55.366667   40.385627  30.0    40.286426   \n",
       "                 May     430.741935  266.692078  31.0   332.918491   \n",
       "                 Jun     542.166667  278.939504  30.0   438.008944   \n",
       "                 Jul     167.193548  124.566560  31.0   121.502165   \n",
       "                 Aug      52.258065   54.725355  31.0    32.184642   \n",
       "                 Sep      36.866667   28.389815  30.0    26.265735   \n",
       "                 Oct      63.870968   32.698361  31.0    51.877112   \n",
       "                 Nov     162.700000   79.090149  30.0   133.167253   \n",
       "                 Dec     197.258065   74.022955  31.0   170.106225   \n",
       "            2021 Jan      86.870968   40.486822  31.0    72.020281   \n",
       "                 Feb      24.678571   16.537395  28.0    18.266039   \n",
       "                 Mar      23.870968   17.589281  31.0    17.419167   \n",
       "                 Apr     109.700000   57.199680  30.0    88.341288   \n",
       "                 May     390.096774  261.671086  31.0   294.115045   \n",
       "                 Jun    1560.700000  539.104887  30.0  1359.394927   \n",
       "                 Jul     919.193548  468.370325  31.0   747.393926   \n",
       "                 Aug     195.677419  158.879281  31.0   137.400029   \n",
       "                 Sep      65.133333   46.887049  30.0    47.625421   \n",
       "                 Oct      34.709677   24.771211  31.0    25.623524   \n",
       "                 Nov      34.633333   28.842597  30.0    23.863331   \n",
       "                 Dec      25.645161   16.706383  31.0    19.517211   \n",
       "\n",
       "                                     \n",
       "                          get_ci_ub  \n",
       "country     year month               \n",
       "Afghanistan 2020 Jan            NaN  \n",
       "                 Feb       2.975485  \n",
       "                 Mar       9.245904  \n",
       "                 Apr      70.446908  \n",
       "                 May     528.565379  \n",
       "                 Jun     646.324389  \n",
       "                 Jul     212.884932  \n",
       "                 Aug      72.331487  \n",
       "                 Sep      47.467598  \n",
       "                 Oct      75.864823  \n",
       "                 Nov     192.232747  \n",
       "                 Dec     224.409904  \n",
       "            2021 Jan     101.721654  \n",
       "                 Feb      31.091104  \n",
       "                 Mar      30.322768  \n",
       "                 Apr     131.058712  \n",
       "                 May     486.078503  \n",
       "                 Jun    1762.005073  \n",
       "                 Jul    1090.993171  \n",
       "                 Aug     253.954810  \n",
       "                 Sep      82.641245  \n",
       "                 Oct      43.795831  \n",
       "                 Nov      45.403336  \n",
       "                 Dec      31.773112  "
      ]
     },
     "execution_count": 332,
     "metadata": {},
     "output_type": "execute_result"
    }
   ],
   "source": [
    "statsdcases.head(24)"
   ]
  },
  {
   "cell_type": "markdown",
   "id": "a9bc5ea6",
   "metadata": {},
   "source": [
    "Transform the data index to columns"
   ]
  },
  {
   "cell_type": "code",
   "execution_count": 333,
   "id": "91fe4909",
   "metadata": {},
   "outputs": [],
   "source": [
    "statsdcases = statsdcases.reset_index()"
   ]
  },
  {
   "cell_type": "markdown",
   "id": "0d5f8475",
   "metadata": {},
   "source": [
    "Now, filter the of India data in 2021"
   ]
  },
  {
   "cell_type": "code",
   "execution_count": 334,
   "id": "a708b313",
   "metadata": {},
   "outputs": [
    {
     "data": {
      "text/html": [
       "<div>\n",
       "<style scoped>\n",
       "    .dataframe tbody tr th:only-of-type {\n",
       "        vertical-align: middle;\n",
       "    }\n",
       "\n",
       "    .dataframe tbody tr th {\n",
       "        vertical-align: top;\n",
       "    }\n",
       "\n",
       "    .dataframe thead tr th {\n",
       "        text-align: left;\n",
       "    }\n",
       "</style>\n",
       "<table border=\"1\" class=\"dataframe\">\n",
       "  <thead>\n",
       "    <tr>\n",
       "      <th></th>\n",
       "      <th>country</th>\n",
       "      <th>year</th>\n",
       "      <th>month</th>\n",
       "      <th colspan=\"5\" halign=\"left\">dcases</th>\n",
       "    </tr>\n",
       "    <tr>\n",
       "      <th></th>\n",
       "      <th></th>\n",
       "      <th></th>\n",
       "      <th></th>\n",
       "      <th>mean</th>\n",
       "      <th>std</th>\n",
       "      <th>size</th>\n",
       "      <th>get_ci_lb</th>\n",
       "      <th>get_ci_ub</th>\n",
       "    </tr>\n",
       "  </thead>\n",
       "  <tbody>\n",
       "    <tr>\n",
       "      <th>1812</th>\n",
       "      <td>India</td>\n",
       "      <td>2021</td>\n",
       "      <td>Jan</td>\n",
       "      <td>15190.354839</td>\n",
       "      <td>5511.578065</td>\n",
       "      <td>31.0</td>\n",
       "      <td>13168.691683</td>\n",
       "      <td>17212.017995</td>\n",
       "    </tr>\n",
       "    <tr>\n",
       "      <th>1813</th>\n",
       "      <td>India</td>\n",
       "      <td>2021</td>\n",
       "      <td>Feb</td>\n",
       "      <td>12665.392857</td>\n",
       "      <td>2329.287053</td>\n",
       "      <td>28.0</td>\n",
       "      <td>11762.189628</td>\n",
       "      <td>13568.596086</td>\n",
       "    </tr>\n",
       "    <tr>\n",
       "      <th>1814</th>\n",
       "      <td>India</td>\n",
       "      <td>2021</td>\n",
       "      <td>Mar</td>\n",
       "      <td>35787.870968</td>\n",
       "      <td>18167.230223</td>\n",
       "      <td>31.0</td>\n",
       "      <td>29124.077123</td>\n",
       "      <td>42451.664813</td>\n",
       "    </tr>\n",
       "    <tr>\n",
       "      <th>1815</th>\n",
       "      <td>India</td>\n",
       "      <td>2021</td>\n",
       "      <td>Apr</td>\n",
       "      <td>231443.466667</td>\n",
       "      <td>105568.028204</td>\n",
       "      <td>30.0</td>\n",
       "      <td>192023.717090</td>\n",
       "      <td>270863.216243</td>\n",
       "    </tr>\n",
       "    <tr>\n",
       "      <th>1816</th>\n",
       "      <td>India</td>\n",
       "      <td>2021</td>\n",
       "      <td>May</td>\n",
       "      <td>290647.580645</td>\n",
       "      <td>86201.026855</td>\n",
       "      <td>31.0</td>\n",
       "      <td>259028.788725</td>\n",
       "      <td>322266.372566</td>\n",
       "    </tr>\n",
       "    <tr>\n",
       "      <th>1817</th>\n",
       "      <td>India</td>\n",
       "      <td>2021</td>\n",
       "      <td>Jun</td>\n",
       "      <td>74553.000000</td>\n",
       "      <td>29283.040341</td>\n",
       "      <td>30.0</td>\n",
       "      <td>63618.533034</td>\n",
       "      <td>85487.466966</td>\n",
       "    </tr>\n",
       "    <tr>\n",
       "      <th>1818</th>\n",
       "      <td>India</td>\n",
       "      <td>2021</td>\n",
       "      <td>Jul</td>\n",
       "      <td>40135.161290</td>\n",
       "      <td>4175.353072</td>\n",
       "      <td>31.0</td>\n",
       "      <td>38603.629419</td>\n",
       "      <td>41666.693162</td>\n",
       "    </tr>\n",
       "    <tr>\n",
       "      <th>1819</th>\n",
       "      <td>India</td>\n",
       "      <td>2021</td>\n",
       "      <td>Aug</td>\n",
       "      <td>37258.741935</td>\n",
       "      <td>6253.440232</td>\n",
       "      <td>31.0</td>\n",
       "      <td>34964.961540</td>\n",
       "      <td>39552.522331</td>\n",
       "    </tr>\n",
       "    <tr>\n",
       "      <th>1820</th>\n",
       "      <td>India</td>\n",
       "      <td>2021</td>\n",
       "      <td>Sep</td>\n",
       "      <td>31862.066667</td>\n",
       "      <td>7294.804140</td>\n",
       "      <td>30.0</td>\n",
       "      <td>29138.142034</td>\n",
       "      <td>34585.991299</td>\n",
       "    </tr>\n",
       "    <tr>\n",
       "      <th>1821</th>\n",
       "      <td>India</td>\n",
       "      <td>2021</td>\n",
       "      <td>Oct</td>\n",
       "      <td>16745.387097</td>\n",
       "      <td>3248.474839</td>\n",
       "      <td>31.0</td>\n",
       "      <td>15553.836906</td>\n",
       "      <td>17936.937287</td>\n",
       "    </tr>\n",
       "    <tr>\n",
       "      <th>1822</th>\n",
       "      <td>India</td>\n",
       "      <td>2021</td>\n",
       "      <td>Nov</td>\n",
       "      <td>10365.400000</td>\n",
       "      <td>1619.731280</td>\n",
       "      <td>30.0</td>\n",
       "      <td>9760.582400</td>\n",
       "      <td>10970.217600</td>\n",
       "    </tr>\n",
       "    <tr>\n",
       "      <th>1823</th>\n",
       "      <td>India</td>\n",
       "      <td>2021</td>\n",
       "      <td>Dec</td>\n",
       "      <td>8542.032258</td>\n",
       "      <td>4446.852621</td>\n",
       "      <td>31.0</td>\n",
       "      <td>6910.913548</td>\n",
       "      <td>10173.150968</td>\n",
       "    </tr>\n",
       "  </tbody>\n",
       "</table>\n",
       "</div>"
      ],
      "text/plain": [
       "     country  year month         dcases                                      \\\n",
       "                                   mean            std  size      get_ci_lb   \n",
       "1812   India  2021   Jan   15190.354839    5511.578065  31.0   13168.691683   \n",
       "1813   India  2021   Feb   12665.392857    2329.287053  28.0   11762.189628   \n",
       "1814   India  2021   Mar   35787.870968   18167.230223  31.0   29124.077123   \n",
       "1815   India  2021   Apr  231443.466667  105568.028204  30.0  192023.717090   \n",
       "1816   India  2021   May  290647.580645   86201.026855  31.0  259028.788725   \n",
       "1817   India  2021   Jun   74553.000000   29283.040341  30.0   63618.533034   \n",
       "1818   India  2021   Jul   40135.161290    4175.353072  31.0   38603.629419   \n",
       "1819   India  2021   Aug   37258.741935    6253.440232  31.0   34964.961540   \n",
       "1820   India  2021   Sep   31862.066667    7294.804140  30.0   29138.142034   \n",
       "1821   India  2021   Oct   16745.387097    3248.474839  31.0   15553.836906   \n",
       "1822   India  2021   Nov   10365.400000    1619.731280  30.0    9760.582400   \n",
       "1823   India  2021   Dec    8542.032258    4446.852621  31.0    6910.913548   \n",
       "\n",
       "                     \n",
       "          get_ci_ub  \n",
       "1812   17212.017995  \n",
       "1813   13568.596086  \n",
       "1814   42451.664813  \n",
       "1815  270863.216243  \n",
       "1816  322266.372566  \n",
       "1817   85487.466966  \n",
       "1818   41666.693162  \n",
       "1819   39552.522331  \n",
       "1820   34585.991299  \n",
       "1821   17936.937287  \n",
       "1822   10970.217600  \n",
       "1823   10173.150968  "
      ]
     },
     "execution_count": 334,
     "metadata": {},
     "output_type": "execute_result"
    }
   ],
   "source": [
    "statsInd = statsdcases[(statsdcases['country']=='India') & (statsdcases['year']==2021)]\n",
    "statsInd"
   ]
  },
  {
   "cell_type": "code",
   "execution_count": 335,
   "id": "35d1a85f",
   "metadata": {},
   "outputs": [
    {
     "data": {
      "text/plain": [
       "MultiIndex([('country',          ''),\n",
       "            (   'year',          ''),\n",
       "            (  'month',          ''),\n",
       "            ( 'dcases',      'mean'),\n",
       "            ( 'dcases',       'std'),\n",
       "            ( 'dcases',      'size'),\n",
       "            ( 'dcases', 'get_ci_lb'),\n",
       "            ( 'dcases', 'get_ci_ub')],\n",
       "           )"
      ]
     },
     "execution_count": 335,
     "metadata": {},
     "output_type": "execute_result"
    }
   ],
   "source": [
    "statsInd.columns"
   ]
  },
  {
   "cell_type": "code",
   "execution_count": 336,
   "id": "c2fc7cca",
   "metadata": {},
   "outputs": [],
   "source": [
    "statsInd.columns = ['country','year','month','mean','std','size','lb','ub']"
   ]
  },
  {
   "cell_type": "markdown",
   "id": "9fd2838c",
   "metadata": {},
   "source": [
    "Below is the graph for the average daily cases for India in 2021 by month"
   ]
  },
  {
   "cell_type": "code",
   "execution_count": 338,
   "id": "b7d719f7",
   "metadata": {},
   "outputs": [
    {
     "data": {
      "image/png": "[encoded data removed]",
      "text/plain": [
       "<Figure size 432x288 with 1 Axes>"
      ]
     },
     "metadata": {
      "needs_background": "light"
     },
     "output_type": "display_data"
    }
   ],
   "source": [
    "plt.plot( 'month', 'mean', data=statsInd, marker='s', color='black', markersize=4,     linewidth=1, linestyle='--')\n",
    "plt.plot( 'month', 'mean', data=statsInd, marker='o', color='black',  markersize=4, linewidth=1,linestyle='-')\n",
    "plt.xlabel(\"Month\")\n",
    "plt.ylabel(\"Average Daily Covid Cases\")\n",
    "plt.title(\"India\")\n",
    "plt.show()"
   ]
  },
  {
   "cell_type": "markdown",
   "id": "c80c2a6e",
   "metadata": {},
   "source": [
    "Upperbounds and lowerbounds for each month in the graph above"
   ]
  },
  {
   "cell_type": "code",
   "execution_count": 339,
   "id": "878aa72d",
   "metadata": {},
   "outputs": [],
   "source": [
    "ci_lb_ub = [statsInd['lb'],statsInd['ub']]"
   ]
  },
  {
   "cell_type": "code",
   "execution_count": 340,
   "id": "cd116359",
   "metadata": {},
   "outputs": [],
   "source": [
    "n = np.abs(ci_lb_ub - statsInd['mean'].to_numpy())"
   ]
  },
  {
   "cell_type": "markdown",
   "id": "dc77a8cb",
   "metadata": {},
   "source": [
    "Below I added the 95% confidence intervals for the average daily cases per month"
   ]
  },
  {
   "cell_type": "code",
   "execution_count": 344,
   "id": "61f00766",
   "metadata": {},
   "outputs": [
    {
     "data": {
      "image/png": "[encoded data removed]",
      "text/plain": [
       "<Figure size 432x288 with 1 Axes>"
      ]
     },
     "metadata": {
      "needs_background": "light"
     },
     "output_type": "display_data"
    }
   ],
   "source": [
    "plt.errorbar('month', 'mean',  yerr = n, data = statsInd,marker = 's', capsize = 2,\n",
    "             color = 'black', markersize = 4, linewidth = 1, linestyle = '--')\n",
    "plt.xlabel(\"Month\")\n",
    "plt.ylabel(\"Average Daily Covid Cases\")\n",
    "plt.title(\"India\")\n",
    "plt.show()"
   ]
  },
  {
   "cell_type": "markdown",
   "id": "6d8ab1fa",
   "metadata": {},
   "source": [
    "To compare between 2020 and 2021"
   ]
  },
  {
   "cell_type": "code",
   "execution_count": 345,
   "id": "899d4a07",
   "metadata": {},
   "outputs": [
    {
     "data": {
      "text/html": [
       "<div>\n",
       "<style scoped>\n",
       "    .dataframe tbody tr th:only-of-type {\n",
       "        vertical-align: middle;\n",
       "    }\n",
       "\n",
       "    .dataframe tbody tr th {\n",
       "        vertical-align: top;\n",
       "    }\n",
       "\n",
       "    .dataframe thead tr th {\n",
       "        text-align: left;\n",
       "    }\n",
       "</style>\n",
       "<table border=\"1\" class=\"dataframe\">\n",
       "  <thead>\n",
       "    <tr>\n",
       "      <th></th>\n",
       "      <th>country</th>\n",
       "      <th>year</th>\n",
       "      <th>month</th>\n",
       "      <th colspan=\"5\" halign=\"left\">dcases</th>\n",
       "    </tr>\n",
       "    <tr>\n",
       "      <th></th>\n",
       "      <th></th>\n",
       "      <th></th>\n",
       "      <th></th>\n",
       "      <th>mean</th>\n",
       "      <th>std</th>\n",
       "      <th>size</th>\n",
       "      <th>get_ci_lb</th>\n",
       "      <th>get_ci_ub</th>\n",
       "    </tr>\n",
       "  </thead>\n",
       "  <tbody>\n",
       "    <tr>\n",
       "      <th>1812</th>\n",
       "      <td>India</td>\n",
       "      <td>2021</td>\n",
       "      <td>Jan</td>\n",
       "      <td>15190.354839</td>\n",
       "      <td>5511.578065</td>\n",
       "      <td>31.0</td>\n",
       "      <td>13168.691683</td>\n",
       "      <td>17212.017995</td>\n",
       "    </tr>\n",
       "    <tr>\n",
       "      <th>1813</th>\n",
       "      <td>India</td>\n",
       "      <td>2021</td>\n",
       "      <td>Feb</td>\n",
       "      <td>12665.392857</td>\n",
       "      <td>2329.287053</td>\n",
       "      <td>28.0</td>\n",
       "      <td>11762.189628</td>\n",
       "      <td>13568.596086</td>\n",
       "    </tr>\n",
       "    <tr>\n",
       "      <th>1814</th>\n",
       "      <td>India</td>\n",
       "      <td>2021</td>\n",
       "      <td>Mar</td>\n",
       "      <td>35787.870968</td>\n",
       "      <td>18167.230223</td>\n",
       "      <td>31.0</td>\n",
       "      <td>29124.077123</td>\n",
       "      <td>42451.664813</td>\n",
       "    </tr>\n",
       "    <tr>\n",
       "      <th>1815</th>\n",
       "      <td>India</td>\n",
       "      <td>2021</td>\n",
       "      <td>Apr</td>\n",
       "      <td>231443.466667</td>\n",
       "      <td>105568.028204</td>\n",
       "      <td>30.0</td>\n",
       "      <td>192023.717090</td>\n",
       "      <td>270863.216243</td>\n",
       "    </tr>\n",
       "    <tr>\n",
       "      <th>1816</th>\n",
       "      <td>India</td>\n",
       "      <td>2021</td>\n",
       "      <td>May</td>\n",
       "      <td>290647.580645</td>\n",
       "      <td>86201.026855</td>\n",
       "      <td>31.0</td>\n",
       "      <td>259028.788725</td>\n",
       "      <td>322266.372566</td>\n",
       "    </tr>\n",
       "    <tr>\n",
       "      <th>1817</th>\n",
       "      <td>India</td>\n",
       "      <td>2021</td>\n",
       "      <td>Jun</td>\n",
       "      <td>74553.000000</td>\n",
       "      <td>29283.040341</td>\n",
       "      <td>30.0</td>\n",
       "      <td>63618.533034</td>\n",
       "      <td>85487.466966</td>\n",
       "    </tr>\n",
       "    <tr>\n",
       "      <th>1818</th>\n",
       "      <td>India</td>\n",
       "      <td>2021</td>\n",
       "      <td>Jul</td>\n",
       "      <td>40135.161290</td>\n",
       "      <td>4175.353072</td>\n",
       "      <td>31.0</td>\n",
       "      <td>38603.629419</td>\n",
       "      <td>41666.693162</td>\n",
       "    </tr>\n",
       "    <tr>\n",
       "      <th>1819</th>\n",
       "      <td>India</td>\n",
       "      <td>2021</td>\n",
       "      <td>Aug</td>\n",
       "      <td>37258.741935</td>\n",
       "      <td>6253.440232</td>\n",
       "      <td>31.0</td>\n",
       "      <td>34964.961540</td>\n",
       "      <td>39552.522331</td>\n",
       "    </tr>\n",
       "    <tr>\n",
       "      <th>1820</th>\n",
       "      <td>India</td>\n",
       "      <td>2021</td>\n",
       "      <td>Sep</td>\n",
       "      <td>31862.066667</td>\n",
       "      <td>7294.804140</td>\n",
       "      <td>30.0</td>\n",
       "      <td>29138.142034</td>\n",
       "      <td>34585.991299</td>\n",
       "    </tr>\n",
       "    <tr>\n",
       "      <th>1821</th>\n",
       "      <td>India</td>\n",
       "      <td>2021</td>\n",
       "      <td>Oct</td>\n",
       "      <td>16745.387097</td>\n",
       "      <td>3248.474839</td>\n",
       "      <td>31.0</td>\n",
       "      <td>15553.836906</td>\n",
       "      <td>17936.937287</td>\n",
       "    </tr>\n",
       "    <tr>\n",
       "      <th>1822</th>\n",
       "      <td>India</td>\n",
       "      <td>2021</td>\n",
       "      <td>Nov</td>\n",
       "      <td>10365.400000</td>\n",
       "      <td>1619.731280</td>\n",
       "      <td>30.0</td>\n",
       "      <td>9760.582400</td>\n",
       "      <td>10970.217600</td>\n",
       "    </tr>\n",
       "    <tr>\n",
       "      <th>1823</th>\n",
       "      <td>India</td>\n",
       "      <td>2021</td>\n",
       "      <td>Dec</td>\n",
       "      <td>8542.032258</td>\n",
       "      <td>4446.852621</td>\n",
       "      <td>31.0</td>\n",
       "      <td>6910.913548</td>\n",
       "      <td>10173.150968</td>\n",
       "    </tr>\n",
       "  </tbody>\n",
       "</table>\n",
       "</div>"
      ],
      "text/plain": [
       "     country  year month         dcases                                      \\\n",
       "                                   mean            std  size      get_ci_lb   \n",
       "1812   India  2021   Jan   15190.354839    5511.578065  31.0   13168.691683   \n",
       "1813   India  2021   Feb   12665.392857    2329.287053  28.0   11762.189628   \n",
       "1814   India  2021   Mar   35787.870968   18167.230223  31.0   29124.077123   \n",
       "1815   India  2021   Apr  231443.466667  105568.028204  30.0  192023.717090   \n",
       "1816   India  2021   May  290647.580645   86201.026855  31.0  259028.788725   \n",
       "1817   India  2021   Jun   74553.000000   29283.040341  30.0   63618.533034   \n",
       "1818   India  2021   Jul   40135.161290    4175.353072  31.0   38603.629419   \n",
       "1819   India  2021   Aug   37258.741935    6253.440232  31.0   34964.961540   \n",
       "1820   India  2021   Sep   31862.066667    7294.804140  30.0   29138.142034   \n",
       "1821   India  2021   Oct   16745.387097    3248.474839  31.0   15553.836906   \n",
       "1822   India  2021   Nov   10365.400000    1619.731280  30.0    9760.582400   \n",
       "1823   India  2021   Dec    8542.032258    4446.852621  31.0    6910.913548   \n",
       "\n",
       "                     \n",
       "          get_ci_ub  \n",
       "1812   17212.017995  \n",
       "1813   13568.596086  \n",
       "1814   42451.664813  \n",
       "1815  270863.216243  \n",
       "1816  322266.372566  \n",
       "1817   85487.466966  \n",
       "1818   41666.693162  \n",
       "1819   39552.522331  \n",
       "1820   34585.991299  \n",
       "1821   17936.937287  \n",
       "1822   10970.217600  \n",
       "1823   10173.150968  "
      ]
     },
     "execution_count": 345,
     "metadata": {},
     "output_type": "execute_result"
    }
   ],
   "source": [
    "statsInd_21 = statsdcases[(statsdcases['country']=='India')\n",
    "                       & (statsdcases['year']==2021)]\n",
    "statsInd_21"
   ]
  },
  {
   "cell_type": "code",
   "execution_count": 346,
   "id": "bc034c6c",
   "metadata": {},
   "outputs": [
    {
     "data": {
      "text/html": [
       "<div>\n",
       "<style scoped>\n",
       "    .dataframe tbody tr th:only-of-type {\n",
       "        vertical-align: middle;\n",
       "    }\n",
       "\n",
       "    .dataframe tbody tr th {\n",
       "        vertical-align: top;\n",
       "    }\n",
       "\n",
       "    .dataframe thead tr th {\n",
       "        text-align: left;\n",
       "    }\n",
       "</style>\n",
       "<table border=\"1\" class=\"dataframe\">\n",
       "  <thead>\n",
       "    <tr>\n",
       "      <th></th>\n",
       "      <th>country</th>\n",
       "      <th>year</th>\n",
       "      <th>month</th>\n",
       "      <th colspan=\"5\" halign=\"left\">dcases</th>\n",
       "    </tr>\n",
       "    <tr>\n",
       "      <th></th>\n",
       "      <th></th>\n",
       "      <th></th>\n",
       "      <th></th>\n",
       "      <th>mean</th>\n",
       "      <th>std</th>\n",
       "      <th>size</th>\n",
       "      <th>get_ci_lb</th>\n",
       "      <th>get_ci_ub</th>\n",
       "    </tr>\n",
       "  </thead>\n",
       "  <tbody>\n",
       "    <tr>\n",
       "      <th>1800</th>\n",
       "      <td>India</td>\n",
       "      <td>2020</td>\n",
       "      <td>Jan</td>\n",
       "      <td>0.500000</td>\n",
       "      <td>0.707107</td>\n",
       "      <td>2.0</td>\n",
       "      <td>-5.853102</td>\n",
       "      <td>6.853102</td>\n",
       "    </tr>\n",
       "    <tr>\n",
       "      <th>1801</th>\n",
       "      <td>India</td>\n",
       "      <td>2020</td>\n",
       "      <td>Feb</td>\n",
       "      <td>0.068966</td>\n",
       "      <td>0.257881</td>\n",
       "      <td>29.0</td>\n",
       "      <td>-0.029127</td>\n",
       "      <td>0.167058</td>\n",
       "    </tr>\n",
       "    <tr>\n",
       "      <th>1802</th>\n",
       "      <td>India</td>\n",
       "      <td>2020</td>\n",
       "      <td>Mar</td>\n",
       "      <td>44.967742</td>\n",
       "      <td>56.751202</td>\n",
       "      <td>31.0</td>\n",
       "      <td>24.151233</td>\n",
       "      <td>65.784251</td>\n",
       "    </tr>\n",
       "    <tr>\n",
       "      <th>1803</th>\n",
       "      <td>India</td>\n",
       "      <td>2020</td>\n",
       "      <td>Apr</td>\n",
       "      <td>1115.533333</td>\n",
       "      <td>500.681724</td>\n",
       "      <td>30.0</td>\n",
       "      <td>928.575705</td>\n",
       "      <td>1302.490962</td>\n",
       "    </tr>\n",
       "    <tr>\n",
       "      <th>1804</th>\n",
       "      <td>India</td>\n",
       "      <td>2020</td>\n",
       "      <td>May</td>\n",
       "      <td>5024.064516</td>\n",
       "      <td>1863.490219</td>\n",
       "      <td>31.0</td>\n",
       "      <td>4340.530785</td>\n",
       "      <td>5707.598247</td>\n",
       "    </tr>\n",
       "    <tr>\n",
       "      <th>1805</th>\n",
       "      <td>India</td>\n",
       "      <td>2020</td>\n",
       "      <td>Jun</td>\n",
       "      <td>13162.400000</td>\n",
       "      <td>3638.887501</td>\n",
       "      <td>30.0</td>\n",
       "      <td>11803.617076</td>\n",
       "      <td>14521.182924</td>\n",
       "    </tr>\n",
       "    <tr>\n",
       "      <th>1806</th>\n",
       "      <td>India</td>\n",
       "      <td>2020</td>\n",
       "      <td>Jul</td>\n",
       "      <td>35822.806452</td>\n",
       "      <td>11671.764895</td>\n",
       "      <td>31.0</td>\n",
       "      <td>31541.568524</td>\n",
       "      <td>40104.044379</td>\n",
       "    </tr>\n",
       "    <tr>\n",
       "      <th>1807</th>\n",
       "      <td>India</td>\n",
       "      <td>2020</td>\n",
       "      <td>Aug</td>\n",
       "      <td>64360.580645</td>\n",
       "      <td>8646.870624</td>\n",
       "      <td>31.0</td>\n",
       "      <td>61188.882894</td>\n",
       "      <td>67532.278396</td>\n",
       "    </tr>\n",
       "    <tr>\n",
       "      <th>1808</th>\n",
       "      <td>India</td>\n",
       "      <td>2020</td>\n",
       "      <td>Sep</td>\n",
       "      <td>87380.600000</td>\n",
       "      <td>6971.220497</td>\n",
       "      <td>30.0</td>\n",
       "      <td>84777.503486</td>\n",
       "      <td>89983.696514</td>\n",
       "    </tr>\n",
       "    <tr>\n",
       "      <th>1809</th>\n",
       "      <td>India</td>\n",
       "      <td>2020</td>\n",
       "      <td>Oct</td>\n",
       "      <td>60370.903226</td>\n",
       "      <td>12149.922297</td>\n",
       "      <td>31.0</td>\n",
       "      <td>55914.275747</td>\n",
       "      <td>64827.530704</td>\n",
       "    </tr>\n",
       "    <tr>\n",
       "      <th>1810</th>\n",
       "      <td>India</td>\n",
       "      <td>2020</td>\n",
       "      <td>Nov</td>\n",
       "      <td>42624.233333</td>\n",
       "      <td>5337.656128</td>\n",
       "      <td>30.0</td>\n",
       "      <td>40631.119779</td>\n",
       "      <td>44617.346888</td>\n",
       "    </tr>\n",
       "    <tr>\n",
       "      <th>1811</th>\n",
       "      <td>India</td>\n",
       "      <td>2020</td>\n",
       "      <td>Dec</td>\n",
       "      <td>26577.419355</td>\n",
       "      <td>5911.932548</td>\n",
       "      <td>31.0</td>\n",
       "      <td>24408.904989</td>\n",
       "      <td>28745.933721</td>\n",
       "    </tr>\n",
       "  </tbody>\n",
       "</table>\n",
       "</div>"
      ],
      "text/plain": [
       "     country  year month        dcases                                    \\\n",
       "                                  mean           std  size     get_ci_lb   \n",
       "1800   India  2020   Jan      0.500000      0.707107   2.0     -5.853102   \n",
       "1801   India  2020   Feb      0.068966      0.257881  29.0     -0.029127   \n",
       "1802   India  2020   Mar     44.967742     56.751202  31.0     24.151233   \n",
       "1803   India  2020   Apr   1115.533333    500.681724  30.0    928.575705   \n",
       "1804   India  2020   May   5024.064516   1863.490219  31.0   4340.530785   \n",
       "1805   India  2020   Jun  13162.400000   3638.887501  30.0  11803.617076   \n",
       "1806   India  2020   Jul  35822.806452  11671.764895  31.0  31541.568524   \n",
       "1807   India  2020   Aug  64360.580645   8646.870624  31.0  61188.882894   \n",
       "1808   India  2020   Sep  87380.600000   6971.220497  30.0  84777.503486   \n",
       "1809   India  2020   Oct  60370.903226  12149.922297  31.0  55914.275747   \n",
       "1810   India  2020   Nov  42624.233333   5337.656128  30.0  40631.119779   \n",
       "1811   India  2020   Dec  26577.419355   5911.932548  31.0  24408.904989   \n",
       "\n",
       "                    \n",
       "         get_ci_ub  \n",
       "1800      6.853102  \n",
       "1801      0.167058  \n",
       "1802     65.784251  \n",
       "1803   1302.490962  \n",
       "1804   5707.598247  \n",
       "1805  14521.182924  \n",
       "1806  40104.044379  \n",
       "1807  67532.278396  \n",
       "1808  89983.696514  \n",
       "1809  64827.530704  \n",
       "1810  44617.346888  \n",
       "1811  28745.933721  "
      ]
     },
     "execution_count": 346,
     "metadata": {},
     "output_type": "execute_result"
    }
   ],
   "source": [
    "statsInd_20 = statsdcases[(statsdcases['country']=='India')\n",
    "                       & (statsdcases['year']==2020)]\n",
    "statsInd_20"
   ]
  },
  {
   "cell_type": "code",
   "execution_count": 347,
   "id": "bf813088",
   "metadata": {},
   "outputs": [],
   "source": [
    "statsInd_20.columns = ['country','year','month','mean','std','size','lb','ub']\n",
    "statsInd_21.columns = ['country','year','month','mean','std','size','lb','ub']"
   ]
  },
  {
   "cell_type": "markdown",
   "id": "bb3e84de",
   "metadata": {},
   "source": [
    "The x axis will display the name of the months"
   ]
  },
  {
   "cell_type": "code",
   "execution_count": 348,
   "id": "fdfe6c36",
   "metadata": {},
   "outputs": [
    {
     "data": {
      "text/plain": [
       "1800    Jan\n",
       "1801    Feb\n",
       "1802    Mar\n",
       "1803    Apr\n",
       "1804    May\n",
       "1805    Jun\n",
       "1806    Jul\n",
       "1807    Aug\n",
       "1808    Sep\n",
       "1809    Oct\n",
       "1810    Nov\n",
       "1811    Dec\n",
       "Name: month, dtype: category\n",
       "Categories (12, object): ['Jan' < 'Feb' < 'Mar' < 'Apr' ... 'Sep' < 'Oct' < 'Nov' < 'Dec']"
      ]
     },
     "execution_count": 348,
     "metadata": {},
     "output_type": "execute_result"
    }
   ],
   "source": [
    "x = statsInd_20['month']\n",
    "x"
   ]
  },
  {
   "cell_type": "code",
   "execution_count": 349,
   "id": "88edbc49",
   "metadata": {},
   "outputs": [
    {
     "data": {
      "text/plain": [
       "1800        0.500000\n",
       "1801        0.068966\n",
       "1802       44.967742\n",
       "1803     1115.533333\n",
       "1804     5024.064516\n",
       "1805    13162.400000\n",
       "1806    35822.806452\n",
       "1807    64360.580645\n",
       "1808    87380.600000\n",
       "1809    60370.903226\n",
       "1810    42624.233333\n",
       "1811    26577.419355\n",
       "Name: mean, dtype: float64"
      ]
     },
     "execution_count": 349,
     "metadata": {},
     "output_type": "execute_result"
    }
   ],
   "source": [
    "y1 = statsInd_20['mean']\n",
    "y1"
   ]
  },
  {
   "cell_type": "code",
   "execution_count": 350,
   "id": "cfda146e",
   "metadata": {},
   "outputs": [
    {
     "data": {
      "text/plain": [
       "1812     15190.354839\n",
       "1813     12665.392857\n",
       "1814     35787.870968\n",
       "1815    231443.466667\n",
       "1816    290647.580645\n",
       "1817     74553.000000\n",
       "1818     40135.161290\n",
       "1819     37258.741935\n",
       "1820     31862.066667\n",
       "1821     16745.387097\n",
       "1822     10365.400000\n",
       "1823      8542.032258\n",
       "Name: mean, dtype: float64"
      ]
     },
     "execution_count": 350,
     "metadata": {},
     "output_type": "execute_result"
    }
   ],
   "source": [
    "y2 = statsInd_21['mean']\n",
    "y2"
   ]
  },
  {
   "cell_type": "code",
   "execution_count": 351,
   "id": "fc41029e",
   "metadata": {},
   "outputs": [],
   "source": [
    "ci_20 = [statsInd_20['lb'], statsInd_20['ub']]\n",
    "err20 = np.abs(ci_20 - statsInd_20['mean'].to_numpy())"
   ]
  },
  {
   "cell_type": "code",
   "execution_count": 352,
   "id": "fae40f27",
   "metadata": {},
   "outputs": [],
   "source": [
    "ci_21 = [statsInd_21['lb'], statsInd_21['ub']]\n",
    "err21 = np.abs(ci_21 - statsInd_21['mean'].to_numpy())"
   ]
  },
  {
   "cell_type": "markdown",
   "id": "1c1a3107",
   "metadata": {},
   "source": [
    "Below is the graph for the average daily cases by month in both 2020 (black) and 2021 (red) with the confidence interval of the average in each month"
   ]
  },
  {
   "cell_type": "code",
   "execution_count": 354,
   "id": "9d8412cc",
   "metadata": {},
   "outputs": [
    {
     "data": {
      "image/png": "[encoded data removed]",
      "text/plain": [
       "<Figure size 432x288 with 1 Axes>"
      ]
     },
     "metadata": {
      "needs_background": "light"
     },
     "output_type": "display_data"
    }
   ],
   "source": [
    "from matplotlib.transforms import Affine2D\n",
    "fig, ax = plt.subplots()\n",
    "\n",
    "trans1 = Affine2D().translate(-0.1, 0.0) + ax.transData\n",
    "trans2 = Affine2D().translate(+0.1, 0.0) + ax.transData\n",
    "plt.errorbar('month', 'mean',  yerr=err20, data=statsInd_20,marker='s', capsize=2,\n",
    "             color='black', markersize=4, linewidth=1, linestyle='--',transform=trans1)\n",
    "plt.errorbar('month', 'mean',  yerr=err21, data=statsInd_21,marker='s', capsize=2,\n",
    "             color='red', markersize=4, linewidth=1, linestyle='--',transform=trans2)\n",
    "plt.legend(['2020','2021'])\n",
    "plt.xlabel(\"Month\")\n",
    "plt.ylabel(\"Average Daily Covid Cases\")\n",
    "plt.title(\"India\")\n",
    "plt.show()"
   ]
  },
  {
   "cell_type": "markdown",
   "id": "46c43696",
   "metadata": {},
   "source": [
    "In 2020, India experienced a mean that is steadily increasing from Jan till Sep. The highest average daily cases happened in Sep. Then, a steady decrease occured after Sep till Dec. The confidence intervals for the average daily cases in each month is narrow. "
   ]
  },
  {
   "cell_type": "markdown",
   "id": "79611acc",
   "metadata": {},
   "source": [
    "In 2021, India experienced in the beginning almost no cases, but then from Mar till Jun an intense increase of cases occured. The highest average daily cases occured in May. Afterwards, an intense decrease happened around mid May till Jun and then with a steady decrease from Jun till Dec. The confidence intervals in April and May are much more wider than those in any other month. "
   ]
  },
  {
   "cell_type": "markdown",
   "id": "84ef4829",
   "metadata": {},
   "source": [
    "Around July, India experienced almost the same average daily cases. Overall, the difference between the average daily cases for the two years is not significantly different except from Mar till Jun. "
   ]
  }
 ],
 "metadata": {
  "kernelspec": {
   "display_name": "Python 3 (ipykernel)",
   "language": "python",
   "name": "python3"
  },
  "language_info": {
   "codemirror_mode": {
    "name": "ipython",
    "version": 3
   },
   "file_extension": ".py",
   "mimetype": "text/x-python",
   "name": "python",
   "nbconvert_exporter": "python",
   "pygments_lexer": "ipython3",
   "version": "3.9.7"
  }
 },
 "nbformat": 4,
 "nbformat_minor": 5
}
